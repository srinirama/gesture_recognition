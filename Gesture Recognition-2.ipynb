{
  "cells": [
    {
      "cell_type": "markdown",
      "metadata": {
        "id": "view-in-github",
        "colab_type": "text"
      },
      "source": [
        "<a href=\"https://colab.research.google.com/github/srinirama/gesture_recognition/blob/main/Gesture%20Recognition-2.ipynb\" target=\"_parent\"><img src=\"https://colab.research.google.com/assets/colab-badge.svg\" alt=\"Open In Colab\"/></a>"
      ]
    },
    {
      "cell_type": "markdown",
      "metadata": {
        "id": "ag2oMU5jNyoM"
      },
      "source": [
        "# Deep Learning Course Project - Gesture Recognition\n",
        "Problem Statement\n",
        "Imagine you are working as a data scientist at a home electronics company which manufactures state of the art smart televisions. You want to develop a cool feature in the smart-TV that can recognise five different gestures performed by the user which will help users control the TV without using a remote.\n",
        "\n",
        "The gestures are continuously monitored by the webcam mounted on the TV. Each gesture corresponds to a specific command:"
      ]
    },
    {
      "cell_type": "markdown",
      "metadata": {
        "id": "Rrklmb8jNyoQ"
      },
      "source": [
        "- Thumbs Up --> Increase the volume.\n",
        "- Thumbs Down --> Decrease the volume.\n",
        "- Left Swipe --> 'Jump' backwards 10 seconds.\n",
        "- Right Swipe -->'Jump' forward 10 seconds.\n",
        "- Stop --> Pause the movie."
      ]
    },
    {
      "cell_type": "markdown",
      "metadata": {
        "id": "1zyAEdF7NyoR"
      },
      "source": [
        "Each video is a sequence of 30 frames (or images).\n",
        "\n",
        "### Objectives:\n",
        "\n",
        "##### Generator: \n",
        "The generator should be able to take a batch of videos as input without any error. Steps like cropping, resizing and normalization should be performed successfully.\n",
        "\n",
        "##### Model: \n",
        "Develop a model that is able to train without any errors which will be judged on the total number of parameters (as the inference(prediction) time should be less) and the accuracy achieved. As suggested by Snehansu, start training on a small amount of data and then proceed further.\n",
        "\n",
        "##### Write up:\n",
        "This should contain the detailed procedure followed in choosing the final model. The write up should start with the reason for choosing the base model, then highlight the reasons and metrics taken into consideration to modify and experiment to arrive at the final model.\n",
        "\n"
      ]
    },
    {
      "cell_type": "code",
      "execution_count": null,
      "metadata": {
        "id": "XGNPZ9_hNyoS"
      },
      "outputs": [],
      "source": [
        "# importing the required libraries\n",
        "import numpy as np\n",
        "import os\n",
        "from imageio import imread\n",
        "from skimage.transform import resize\n",
        "import datetime\n",
        "import os\n",
        "import abc\n",
        "import cv2\n",
        "import matplotlib.pyplot as plt\n",
        "import warnings\n",
        "warnings.filterwarnings(\"ignore\")\n",
        "from keras.models import Sequential, Model\n",
        "from keras.layers import TimeDistributed\n",
        "from keras.layers.convolutional import Conv3D, MaxPooling3D, Conv2D, MaxPooling2D\n",
        "from keras.layers import Dense, GRU, Flatten, TimeDistributed, Flatten, BatchNormalization, Activation\n",
        "from keras.layers.recurrent import LSTM\n",
        "from keras.callbacks import ModelCheckpoint, ReduceLROnPlateau\n",
        "from keras.layers import Dropout\n",
        "from tensorflow.keras import optimizers"
      ]
    },
    {
      "cell_type": "code",
      "source": [
        "from google.colab import drive\n",
        "drive.mount('/content/gdrive')\n",
        "GESTURE_PATH=\"/content/gdrive/My Drive/Gesture/Project_data/\"\n"
      ],
      "metadata": {
        "id": "Nnw4xK-XWFR6"
      },
      "execution_count": null,
      "outputs": []
    },
    {
      "cell_type": "markdown",
      "metadata": {
        "id": "kZXUMYOQNyoT"
      },
      "source": [
        "We set the random seed so that the results don't vary drastically."
      ]
    },
    {
      "cell_type": "code",
      "execution_count": null,
      "metadata": {
        "id": "gv2oRDIaNyoT"
      },
      "outputs": [],
      "source": [
        "np.random.seed(30)\n",
        "import random as rn\n",
        "rn.seed(30)\n",
        "from tensorflow import keras\n",
        "import tensorflow as tf\n",
        "tf.random.set_seed(30)"
      ]
    },
    {
      "cell_type": "markdown",
      "metadata": {
        "id": "tWaXfUO6NyoU"
      },
      "source": [
        "In this block, you read the folder names for training and validation. You also set the `batch_size` here. Note that you set the batch size in such a way that you are able to use the GPU in full capacity. You keep increasing the batch size until the machine throws an error."
      ]
    },
    {
      "cell_type": "markdown",
      "metadata": {
        "id": "dUrsKznoNyoU"
      },
      "source": [
        "**data path: /home/datasets/Project_data**"
      ]
    },
    {
      "cell_type": "code",
      "execution_count": null,
      "metadata": {
        "id": "GB7la7vlNyoV"
      },
      "outputs": [],
      "source": [
        "# reading the training images data\n",
        "train_doc = np.random.permutation(open('/content/gdrive/My Drive/Gesture/Project_data/train.csv').readlines())\n",
        "# reading the validation image data\n",
        "val_doc = np.random.permutation(open('/content/gdrive/My Drive/Gesture/Project_data/val.csv').readlines())\n",
        "# setting the initial batch size\n",
        "batch_size = 20\n",
        "# storing the project folder path for reading the images\n",
        "project_folder='/content/gdrive/My Drive/Gesture/Project_data'"
      ]
    },
    {
      "cell_type": "markdown",
      "metadata": {
        "id": "GgEZ4IFzNyoV"
      },
      "source": [
        "##### Code for Plotting"
      ]
    },
    {
      "cell_type": "code",
      "execution_count": null,
      "metadata": {
        "id": "FpFrQH37NyoV"
      },
      "outputs": [],
      "source": [
        "# defining a reusable method to plog the history for both training and validation dataset for analysis\n",
        "def plot(history):\n",
        "    \"\"\"\n",
        "    Method to plot for categoricak accuracy and loss for both training and validation dataset\n",
        "    \"\"\"\n",
        "    fig, axes = plt.subplots(nrows=1, ncols=2, figsize=(15,4))\n",
        "    axes[0].plot(history.history['loss'])   \n",
        "    axes[0].plot(history.history['val_loss'])\n",
        "    axes[0].legend(['loss','val_loss'])\n",
        "\n",
        "    axes[1].plot(history.history['categorical_accuracy'])   \n",
        "    axes[1].plot(history.history['val_categorical_accuracy'])\n",
        "    axes[1].legend(['categorical_accuracy','val_categorical_accuracy'])"
      ]
    },
    {
      "cell_type": "markdown",
      "metadata": {
        "id": "qqm_O0ArNyoW"
      },
      "source": [
        "## Generator\n",
        "This is one of the most important part of the code. The overall structure of the generator has been given. In the generator, you are going to preprocess the images as you have images of 2 different dimensions as well as create a batch of video frames. You have to experiment with `img_idx`, `y`,`z` and normalization such that you get high accuracy.\n",
        "\n",
        "Here We have defined `Class ModelBuilder` which has modulerised functions defined which would help in easy debugging also to call function on ModelBuilder Function So decreassing number of call function and number of coding steps."
      ]
    },
    {
      "cell_type": "code",
      "execution_count": null,
      "metadata": {
        "id": "Cu1w-2arNyoW"
      },
      "outputs": [],
      "source": [
        "# defining a reusable class with methods to reduce the redundant code\n",
        "class ModelBuilder(metaclass= abc.ABCMeta):\n",
        "    \n",
        "    def initialize_path(self,project_folder):\n",
        "        \"\"\"\n",
        "        Method to initialize the training and validation dataset paths\n",
        "        \"\"\"\n",
        "        self.train_doc = np.random.permutation(open(project_folder + '/' + 'train.csv').readlines())\n",
        "        self.val_doc = np.random.permutation(open(project_folder + '/' + 'val.csv').readlines())\n",
        "        self.train_path = project_folder + '/' + 'train'\n",
        "        self.val_path =  project_folder + '/' + 'val'\n",
        "        self.num_train_sequences = len(self.train_doc)\n",
        "        self.num_val_sequences = len(self.val_doc)\n",
        "        \n",
        "    def initialize_image_properties(self,image_height=100,image_width=100):\n",
        "        \"\"\"\n",
        "        method to initialize the image properties\n",
        "        \"\"\"\n",
        "        self.image_height=image_height\n",
        "        self.image_width=image_width\n",
        "        self.channels=3\n",
        "        self.num_classes=5\n",
        "        self.total_frames=30\n",
        "          \n",
        "    def initialize_hyperparams(self,frames_to_sample=30,batch_size=20,num_epochs=20):\n",
        "        \"\"\"\n",
        "        Method to initialize the hyper parameters for the model\n",
        "        \"\"\"\n",
        "        self.frames_to_sample=frames_to_sample\n",
        "        self.batch_size=batch_size\n",
        "        self.num_epochs=num_epochs\n",
        "        \n",
        "        \n",
        "    def generator(self,source_path, folder_list, augment=False):\n",
        "        \"\"\"\n",
        "        generator function which takes folder path and list of folders in the path\n",
        "        @param source_path: source file path\n",
        "        @param folder_list: list of folders available in the source file path\n",
        "        @param agument: boolean flag to intimate whether agumentation is done or not\n",
        "        \"\"\"\n",
        "        img_idx = np.round(np.linspace(0,self.total_frames-1,self.frames_to_sample)).astype(int)\n",
        "        batch_size=self.batch_size\n",
        "        while True:\n",
        "            t = np.random.permutation(folder_list)\n",
        "            num_batches = len(t)//batch_size\n",
        "        \n",
        "            for batch in range(num_batches): \n",
        "                batch_data, batch_labels= self.one_batch_data(source_path,t,batch,batch_size,img_idx,augment)\n",
        "                yield batch_data, batch_labels \n",
        "\n",
        "            remaining_seq=len(t)%batch_size\n",
        "        \n",
        "            if (remaining_seq != 0):\n",
        "                batch_data, batch_labels= self.one_batch_data(source_path,t,num_batches,batch_size,img_idx,augment,remaining_seq)\n",
        "                yield batch_data, batch_labels \n",
        "    \n",
        "    \n",
        "    def one_batch_data(self,source_path,t,batch,batch_size,img_idx,augment,remaining_seq=0):\n",
        "        \"\"\"\n",
        "        Method to get the batch data from given data\n",
        "        \"\"\"\n",
        "        seq_len = remaining_seq if remaining_seq else batch_size\n",
        "    \n",
        "        batch_data = np.zeros((seq_len,len(img_idx),self.image_height,self.image_width,self.channels)) \n",
        "        batch_labels = np.zeros((seq_len,self.num_classes)) \n",
        "    \n",
        "        if (augment): batch_data_aug = np.zeros((seq_len,len(img_idx),self.image_height,self.image_width,self.channels))\n",
        "\n",
        "        \n",
        "        for folder in range(seq_len): \n",
        "            imgs = os.listdir(source_path+'/'+ t[folder + (batch*batch_size)].split(';')[0]) \n",
        "            for idx,item in enumerate(img_idx): \n",
        "                image = imread(source_path+'/'+ t[folder + (batch*batch_size)].strip().split(';')[0]+'/'+imgs[item]).astype(np.float32)\n",
        "                image_resized=resize(image,(self.image_height,self.image_width,3))\n",
        "\n",
        "                batch_data[folder,idx,:,:,0] = (image_resized[:,:,0])/255\n",
        "                batch_data[folder,idx,:,:,1] = (image_resized[:,:,1])/255\n",
        "                batch_data[folder,idx,:,:,2] = (image_resized[:,:,2])/255\n",
        "            \n",
        "                if (augment):\n",
        "                    shifted = cv2.warpAffine(image, \n",
        "                                             np.float32([[1, 0, np.random.randint(-30,30)],[0, 1, np.random.randint(-30,30)]]), \n",
        "                                            (image.shape[1], image.shape[0]))\n",
        "                    \n",
        "                    gray = cv2.cvtColor(shifted,cv2.COLOR_BGR2GRAY)\n",
        "\n",
        "                    x0, y0 = np.argwhere(gray > 0).min(axis=0)\n",
        "                    x1, y1 = np.argwhere(gray > 0).max(axis=0) \n",
        "                    \n",
        "                    cropped=shifted[x0:x1,y0:y1,:]\n",
        "                    \n",
        "                    image_resized=resize(cropped,(self.image_height,self.image_width,3))          \n",
        "                    batch_data_aug[folder,idx,:,:,0] = (image_resized[:,:,0])/255\n",
        "                    batch_data_aug[folder,idx,:,:,1] = (image_resized[:,:,1])/255\n",
        "                    batch_data_aug[folder,idx,:,:,2] = (image_resized[:,:,2])/255\n",
        "    \n",
        "            batch_labels[folder, int(t[folder + (batch*batch_size)].strip().split(';')[2])] = 1\n",
        "            \n",
        "        if (augment):\n",
        "            batch_data=np.concatenate([batch_data,batch_data_aug])\n",
        "            batch_labels=np.concatenate([batch_labels,batch_labels])\n",
        "        \n",
        "        return(batch_data,batch_labels)\n",
        "    \n",
        "    \n",
        "    def train_model(self, model, augment_data=False):\n",
        "        \"\"\"\n",
        "        Reusable method to training the model with given model instance\n",
        "        \"\"\"\n",
        "#     get training data\n",
        "        train_generator = self.generator(self.train_path, self.train_doc,augment=augment_data)\n",
        "#     getting validation data\n",
        "        val_generator = self.generator(self.val_path, self.val_doc)\n",
        "#     setting the model name\n",
        "        model_name = 'model_init' + '_' + str(datetime.datetime.now()).replace(' ','').replace(':','_') + '/'\n",
        "#     checking the path is available, else creates the path\n",
        "        if not os.path.exists(model_name):\n",
        "            os.mkdir(model_name)\n",
        "        \n",
        "#     setting the .h5 file path\n",
        "        filepath = model_name + 'model-{epoch:05d}-{loss:.5f}-{categorical_accuracy:.5f}-{val_loss:.5f}-{val_categorical_accuracy:.5f}.h5'\n",
        "#     setting the check point for the training model\n",
        "        checkpoint = ModelCheckpoint(filepath, monitor='val_loss', verbose=1, save_best_only=False, save_weights_only=False, mode='auto', period=1)\n",
        "        LR = ReduceLROnPlateau(monitor='val_loss', factor=0.2, verbose=1, patience=4)\n",
        "        callbacks_list = [checkpoint, LR]\n",
        "\n",
        "        if (self.num_train_sequences%self.batch_size) == 0:\n",
        "            steps_per_epoch = int(self.num_train_sequences/self.batch_size)\n",
        "        else:\n",
        "            steps_per_epoch = (self.num_train_sequences//self.batch_size) + 1\n",
        "\n",
        "        if (self.num_val_sequences%self.batch_size) == 0:\n",
        "            validation_steps = int(self.num_val_sequences/self.batch_size)\n",
        "        else:\n",
        "            validation_steps = (self.num_val_sequences//self.batch_size) + 1\n",
        "#     storing the history of training\n",
        "        history=model.fit_generator(train_generator, steps_per_epoch=steps_per_epoch, epochs=self.num_epochs, verbose=1, \n",
        "                            callbacks=callbacks_list, validation_data=val_generator, \n",
        "                            validation_steps=validation_steps, class_weight=None, workers=1, initial_epoch=0)\n",
        "#     returning the history object\n",
        "        return history\n",
        "\n",
        "        \n",
        "    @abc.abstractmethod\n",
        "    def define_model(self):\n",
        "        pass"
      ]
    },
    {
      "cell_type": "markdown",
      "metadata": {
        "id": "S-LN7c6aNyoX"
      },
      "source": [
        "Note here that a video is represented above in the generator as (number of images, height, width, number of channels). Take this into consideration while creating the model architecture."
      ]
    },
    {
      "cell_type": "code",
      "execution_count": null,
      "metadata": {
        "id": "LJREeIJvNyoX",
        "outputId": "df554608-97ad-4012-8af5-1c92987acc02"
      },
      "outputs": [
        {
          "name": "stdout",
          "output_type": "stream",
          "text": [
            "# training sequences = 663\n",
            "# validation sequences = 100\n",
            "# epochs = 15\n"
          ]
        }
      ],
      "source": [
        "# storing the current time\n",
        "curr_dt_time = datetime.datetime.now()\n",
        "# storing training image path\n",
        "train_path = '/home/datasets/Project_data/train'\n",
        "# storing validation image path\n",
        "val_path = '/home/datasets/Project_data/val'\n",
        "# storing the number of folder in training folder\n",
        "num_train_sequences = len(train_doc)\n",
        "print('# training sequences =', num_train_sequences)\n",
        "# storing the number of folder in validation folder\n",
        "num_val_sequences = len(val_doc)\n",
        "print('# validation sequences =', num_val_sequences)\n",
        "# setting number of epochs\n",
        "num_epochs = 15\n",
        "print ('# epochs =', num_epochs)"
      ]
    },
    {
      "cell_type": "markdown",
      "metadata": {
        "id": "WKJDiupxNyoY"
      },
      "source": [
        "## Model\n",
        "Here you make the model using different functionalities that Keras provides. Remember to use `Conv3D` and `MaxPooling3D` and not `Conv2D` and `Maxpooling2D` for a 3D convolution model. You would want to use `TimeDistributed` while building a Conv2D + RNN model. Also remember that the last layer is the softmax. Design the network in such a way that the model is able to give good accuracy on the least number of parameters so that it can fit in the memory of the webcam."
      ]
    },
    {
      "cell_type": "code",
      "execution_count": null,
      "metadata": {
        "id": "Ez9wE4TsNyoZ"
      },
      "outputs": [],
      "source": [
        "# importing required libraries for model building\n",
        "from tensorflow.keras.models import Sequential\n",
        "from tensorflow.keras.layers import Dense, GRU, Dropout, Flatten, BatchNormalization, Activation, Conv3D, MaxPooling3D\n",
        "from tensorflow.keras.callbacks import ModelCheckpoint, ReduceLROnPlateau\n",
        "from tensorflow.keras import optimizers\n",
        "\n",
        "# reusable class to build a model\n",
        "class ModelConv3D1(ModelBuilder):\n",
        "    \n",
        "    def define_model(self,filtersize=(3,3,3),dense_neurons=64,dropout=0.25):\n",
        "        \"\"\"\n",
        "        reusable method to define a model with defined filter size, dense neurons and dropout layer\n",
        "        \"\"\"\n",
        "#         taking a sequential model\n",
        "        model = Sequential()\n",
        "#     defining conv3d layer\n",
        "        model.add(Conv3D(16, filtersize, padding='same',\n",
        "                 input_shape=(self.frames_to_sample,self.image_height,self.image_width,self.channels)))\n",
        "#     using relu as activiation function\n",
        "        model.add(Activation('relu'))\n",
        "#     using normalization during model building\n",
        "        model.add(BatchNormalization())\n",
        "        model.add(MaxPooling3D(pool_size=(2, 2, 2)))\n",
        "\n",
        "        model.add(Conv3D(32, filtersize, padding='same'))\n",
        "        model.add(Activation('relu'))\n",
        "        model.add(BatchNormalization())\n",
        "        model.add(MaxPooling3D(pool_size=(2, 2, 2)))\n",
        "\n",
        "        model.add(Conv3D(64, filtersize, padding='same'))\n",
        "        model.add(Activation('relu'))\n",
        "        model.add(BatchNormalization())\n",
        "        model.add(MaxPooling3D(pool_size=(2, 2, 2)))\n",
        "\n",
        "        model.add(Conv3D(128, filtersize, padding='same'))\n",
        "        model.add(Activation('relu'))\n",
        "        model.add(BatchNormalization())\n",
        "        model.add(MaxPooling3D(pool_size=(2, 2, 2)))\n",
        "\n",
        "        model.add(Flatten())\n",
        "        model.add(Dense(dense_neurons,activation='relu'))\n",
        "        model.add(BatchNormalization())\n",
        "        model.add(Dropout(dropout))\n",
        "\n",
        "        model.add(Dense(dense_neurons,activation='relu'))\n",
        "        model.add(BatchNormalization())\n",
        "        model.add(Dropout(dropout))\n",
        "\n",
        "\n",
        "        model.add(Dense(self.num_classes,activation='softmax'))\n",
        "\n",
        "        optimiser = optimizers.Adam()\n",
        "        model.compile(optimizer=optimiser, loss='categorical_crossentropy', metrics=['categorical_accuracy'])\n",
        "        return model"
      ]
    },
    {
      "cell_type": "markdown",
      "metadata": {
        "id": "QCissQH1NyoZ"
      },
      "source": [
        "Now that you have written the model, the next step is to `compile` the model. When you print the `summary` of the model, you'll see the total number of parameters you have to train."
      ]
    },
    {
      "cell_type": "code",
      "execution_count": null,
      "metadata": {
        "id": "maNIA7EINyoZ",
        "outputId": "d53f91a0-fcc9-4647-9f1e-1fd03fb36591"
      },
      "outputs": [
        {
          "name": "stdout",
          "output_type": "stream",
          "text": [
            "Model: \"sequential\"\n",
            "_________________________________________________________________\n",
            " Layer (type)                Output Shape              Param #   \n",
            "=================================================================\n",
            " conv3d (Conv3D)             (None, 20, 160, 160, 16)  1312      \n",
            "                                                                 \n",
            " activation (Activation)     (None, 20, 160, 160, 16)  0         \n",
            "                                                                 \n",
            " batch_normalization (BatchN  (None, 20, 160, 160, 16)  64       \n",
            " ormalization)                                                   \n",
            "                                                                 \n",
            " max_pooling3d (MaxPooling3D  (None, 10, 80, 80, 16)   0         \n",
            " )                                                               \n",
            "                                                                 \n",
            " conv3d_1 (Conv3D)           (None, 10, 80, 80, 32)    13856     \n",
            "                                                                 \n",
            " activation_1 (Activation)   (None, 10, 80, 80, 32)    0         \n",
            "                                                                 \n",
            " batch_normalization_1 (Batc  (None, 10, 80, 80, 32)   128       \n",
            " hNormalization)                                                 \n",
            "                                                                 \n",
            " max_pooling3d_1 (MaxPooling  (None, 5, 40, 40, 32)    0         \n",
            " 3D)                                                             \n",
            "                                                                 \n",
            " conv3d_2 (Conv3D)           (None, 5, 40, 40, 64)     55360     \n",
            "                                                                 \n",
            " activation_2 (Activation)   (None, 5, 40, 40, 64)     0         \n",
            "                                                                 \n",
            " batch_normalization_2 (Batc  (None, 5, 40, 40, 64)    256       \n",
            " hNormalization)                                                 \n",
            "                                                                 \n",
            " max_pooling3d_2 (MaxPooling  (None, 2, 20, 20, 64)    0         \n",
            " 3D)                                                             \n",
            "                                                                 \n",
            " conv3d_3 (Conv3D)           (None, 2, 20, 20, 128)    221312    \n",
            "                                                                 \n",
            " activation_3 (Activation)   (None, 2, 20, 20, 128)    0         \n",
            "                                                                 \n",
            " batch_normalization_3 (Batc  (None, 2, 20, 20, 128)   512       \n",
            " hNormalization)                                                 \n",
            "                                                                 \n",
            " max_pooling3d_3 (MaxPooling  (None, 1, 10, 10, 128)   0         \n",
            " 3D)                                                             \n",
            "                                                                 \n",
            " flatten (Flatten)           (None, 12800)             0         \n",
            "                                                                 \n",
            " dense (Dense)               (None, 64)                819264    \n",
            "                                                                 \n",
            " batch_normalization_4 (Batc  (None, 64)               256       \n",
            " hNormalization)                                                 \n",
            "                                                                 \n",
            " dropout (Dropout)           (None, 64)                0         \n",
            "                                                                 \n",
            " dense_1 (Dense)             (None, 64)                4160      \n",
            "                                                                 \n",
            " batch_normalization_5 (Batc  (None, 64)               256       \n",
            " hNormalization)                                                 \n",
            "                                                                 \n",
            " dropout_1 (Dropout)         (None, 64)                0         \n",
            "                                                                 \n",
            " dense_2 (Dense)             (None, 5)                 325       \n",
            "                                                                 \n",
            "=================================================================\n",
            "Total params: 1,117,061\n",
            "Trainable params: 1,116,325\n",
            "Non-trainable params: 736\n",
            "_________________________________________________________________\n"
          ]
        },
        {
          "name": "stderr",
          "output_type": "stream",
          "text": [
            "2022-05-18 05:50:31.038969: W tensorflow/core/common_runtime/gpu/gpu_bfc_allocator.cc:39] Overriding allow_growth setting because the TF_FORCE_GPU_ALLOW_GROWTH environment variable is set. Original config value was 0.\n",
            "2022-05-18 05:50:31.039032: I tensorflow/core/common_runtime/gpu/gpu_device.cc:1525] Created device /job:localhost/replica:0/task:0/device:GPU:0 with 14803 MB memory:  -> device: 0, name: Quadro RTX 5000, pci bus id: 0000:1c:00.0, compute capability: 7.5\n"
          ]
        }
      ],
      "source": [
        "# getting the conv3d model\n",
        "conv_3d1=ModelConv3D1()\n",
        "# initializing the path's for model building\n",
        "conv_3d1.initialize_path(project_folder)\n",
        "# initializing the image properties\n",
        "conv_3d1.initialize_image_properties(image_height=160,image_width=160)\n",
        "# initialize the hyper parameters for the model\n",
        "conv_3d1.initialize_hyperparams(frames_to_sample=20,batch_size=40,num_epochs=15)\n",
        "# defining the model\n",
        "conv_3d1_model=conv_3d1.define_model()\n",
        "# printing the model summary\n",
        "conv_3d1_model.summary()"
      ]
    },
    {
      "cell_type": "code",
      "execution_count": null,
      "metadata": {
        "id": "aB53vE9rNyoa",
        "outputId": "22b343f2-d701-436c-b148-74d62f63561c"
      },
      "outputs": [
        {
          "name": "stdout",
          "output_type": "stream",
          "text": [
            "Memory util is 3.662109524011612 Gigs\n"
          ]
        }
      ],
      "source": [
        "# importing required library\n",
        "from sys import getsizeof\n",
        "# printing memory usable\n",
        "print(\"Memory util is {} Gigs\". format(getsizeof(np.zeros((40,16,30,160,160)))/(1024*1024*1024)))"
      ]
    },
    {
      "cell_type": "markdown",
      "metadata": {
        "id": "_5EldvfRNyoa"
      },
      "source": [
        "From the above understanding we understood that too much memory is being utilised so we will refine the model \n",
        "\n",
        "- By trading-off between these parameters\n"
      ]
    },
    {
      "cell_type": "markdown",
      "metadata": {
        "id": "OVWlvppmNyoa"
      },
      "source": [
        "Before checking on how batch size influences training data lets check on image sample cropping."
      ]
    },
    {
      "cell_type": "markdown",
      "metadata": {
        "id": "l7FCmWqANyoa"
      },
      "source": [
        "### Sample Cropping"
      ]
    },
    {
      "cell_type": "code",
      "execution_count": null,
      "metadata": {
        "id": "3ykt9uksNyob",
        "outputId": "1e601eb3-3e72-4d84-f73f-6918dba43fc2"
      },
      "outputs": [
        {
          "data": {
            "text/plain": [
              "<matplotlib.image.AxesImage at 0x7f8f507593d0>"
            ]
          },
          "execution_count": 10,
          "metadata": {},
          "output_type": "execute_result"
        },
        {
          "data": {
            "image/png": "[encoded data removed]",
            "text/plain": [
              "<Figure size 432x288 with 2 Axes>"
            ]
          },
          "metadata": {
            "needs_background": "light"
          },
          "output_type": "display_data"
        }
      ],
      "source": [
        "# getting the sample model \n",
        "test_generator=ModelConv3D1()\n",
        "# initializing the path's for model building\n",
        "test_generator.initialize_path(project_folder)\n",
        "# initializing the image properties\n",
        "test_generator.initialize_image_properties(image_height=160,image_width=160)\n",
        "# initialize the hyper parameters for the model\n",
        "test_generator.initialize_hyperparams(frames_to_sample=30,batch_size=3,num_epochs=1)\n",
        "\n",
        "g=test_generator.generator(test_generator.val_path,test_generator.val_doc,augment=True)\n",
        "batch_data, batch_labels=next(g)\n",
        "fig, axes = plt.subplots(nrows=1, ncols=2)\n",
        "axes[0].imshow(batch_data[0,15,:,:,:])   \n",
        "axes[1].imshow(batch_data[3,15,:,:,:])   "
      ]
    },
    {
      "cell_type": "markdown",
      "metadata": {
        "id": "jcKcYQjbNyob"
      },
      "source": [
        "From the above image we can infer that orginal image at left is cropped and fit into diemensions as shown in right."
      ]
    },
    {
      "cell_type": "markdown",
      "metadata": {
        "id": "RHC7PlYfNyob"
      },
      "source": [
        "Let us try on experiments to see how training time is affected by image resolution, number of images in sequence and batch size."
      ]
    },
    {
      "cell_type": "code",
      "execution_count": null,
      "metadata": {
        "id": "Dc4NyHdSNyob",
        "outputId": "4b4671fa-793f-44cd-ab28-276152f0ec1a"
      },
      "outputs": [
        {
          "name": "stdout",
          "output_type": "stream",
          "text": [
            "Total Params: 1117061\n",
            "WARNING:tensorflow:`period` argument is deprecated. Please use `save_freq` to specify the frequency in number of batches seen.\n",
            "Epoch 1/3\n"
          ]
        },
        {
          "name": "stderr",
          "output_type": "stream",
          "text": [
            "2022-05-18 05:50:39.256992: I tensorflow/stream_executor/cuda/cuda_dnn.cc:377] Loaded cuDNN version 8302\n"
          ]
        },
        {
          "name": "stdout",
          "output_type": "stream",
          "text": [
            "23/23 [==============================] - ETA: 0s - loss: 1.5506 - categorical_accuracy: 0.4555\n",
            "Epoch 00001: saving model to model_init_2022-05-1805_50_33.561168/model-00001-1.55064-0.45551-2.61390-0.16000.h5\n",
            "23/23 [==============================] - 100s 4s/step - loss: 1.5506 - categorical_accuracy: 0.4555 - val_loss: 2.6139 - val_categorical_accuracy: 0.1600 - lr: 0.0010\n",
            "Epoch 2/3\n",
            "23/23 [==============================] - ETA: 0s - loss: 0.8920 - categorical_accuracy: 0.6667\n",
            "Epoch 00002: saving model to model_init_2022-05-1805_50_33.561168/model-00002-0.89202-0.66667-4.30142-0.29000.h5\n",
            "23/23 [==============================] - 99s 4s/step - loss: 0.8920 - categorical_accuracy: 0.6667 - val_loss: 4.3014 - val_categorical_accuracy: 0.2900 - lr: 0.0010\n",
            "Epoch 3/3\n",
            "23/23 [==============================] - ETA: 0s - loss: 0.8081 - categorical_accuracy: 0.6923\n",
            "Epoch 00003: saving model to model_init_2022-05-1805_50_33.561168/model-00003-0.80809-0.69231-4.74492-0.20000.h5\n",
            "23/23 [==============================] - 96s 4s/step - loss: 0.8081 - categorical_accuracy: 0.6923 - val_loss: 4.7449 - val_categorical_accuracy: 0.2000 - lr: 0.0010\n"
          ]
        },
        {
          "data": {
            "text/plain": [
              "<keras.callbacks.History at 0x7f8f507c8250>"
            ]
          },
          "execution_count": 11,
          "metadata": {},
          "output_type": "execute_result"
        }
      ],
      "source": [
        "# getting the conv3d model \n",
        "conv_3d1=ModelConv3D1()\n",
        "# initializing the path's for model building\n",
        "conv_3d1.initialize_path(project_folder)\n",
        "# initializing the image properties\n",
        "conv_3d1.initialize_image_properties(image_height=160,image_width=160)\n",
        "# initialize the hyper parameters for the model\n",
        "conv_3d1.initialize_hyperparams(frames_to_sample=16,batch_size=30,num_epochs=3)\n",
        "# defining the model\n",
        "conv_3d1_model=conv_3d1.define_model()\n",
        "print(\"Total Params:\", conv_3d1_model.count_params())\n",
        "# training the model\n",
        "conv_3d1.train_model(conv_3d1_model)"
      ]
    },
    {
      "cell_type": "code",
      "execution_count": null,
      "metadata": {
        "id": "Gf_yw2kgNyob",
        "outputId": "f5dc5a68-ba0f-4f46-c687-200c5b087f7a"
      },
      "outputs": [
        {
          "name": "stdout",
          "output_type": "stream",
          "text": [
            "Total Params: 592773\n",
            "WARNING:tensorflow:`period` argument is deprecated. Please use `save_freq` to specify the frequency in number of batches seen.\n",
            "Epoch 1/2\n",
            "12/12 [==============================] - ETA: 0s - loss: 1.5616 - categorical_accuracy: 0.4118 \n",
            "Epoch 00001: saving model to model_init_2022-05-1805_55_32.264922/model-00001-1.56161-0.41176-1.68152-0.20000.h5\n",
            "12/12 [==============================] - 165s 15s/step - loss: 1.5616 - categorical_accuracy: 0.4118 - val_loss: 1.6815 - val_categorical_accuracy: 0.2000 - lr: 0.0010\n",
            "Epoch 2/2\n",
            "12/12 [==============================] - ETA: 0s - loss: 1.0954 - categorical_accuracy: 0.5445 \n",
            "Epoch 00002: saving model to model_init_2022-05-1805_55_32.264922/model-00002-1.09543-0.54449-1.77347-0.19000.h5\n",
            "12/12 [==============================] - 159s 14s/step - loss: 1.0954 - categorical_accuracy: 0.5445 - val_loss: 1.7735 - val_categorical_accuracy: 0.1900 - lr: 0.0010\n"
          ]
        },
        {
          "data": {
            "text/plain": [
              "<keras.callbacks.History at 0x7f8f83804e80>"
            ]
          },
          "execution_count": 12,
          "metadata": {},
          "output_type": "execute_result"
        }
      ],
      "source": [
        "# getting the conv3d model \n",
        "conv_3d1=ModelConv3D1()\n",
        "# initializing the path's for model building\n",
        "conv_3d1.initialize_path(project_folder)\n",
        "# initializing the image properties\n",
        "conv_3d1.initialize_image_properties(image_height=100,image_width=100)\n",
        "# initializing hyper parameters\n",
        "conv_3d1.initialize_hyperparams(frames_to_sample=30,batch_size=60,num_epochs=2)\n",
        "# defining the model\n",
        "conv_3d1_model=conv_3d1.define_model()\n",
        "print(\"Total Params:\", conv_3d1_model.count_params())\n",
        "# training the model\n",
        "conv_3d1.train_model(conv_3d1_model)"
      ]
    },
    {
      "cell_type": "code",
      "execution_count": null,
      "metadata": {
        "id": "s8URrNy0Nyob",
        "outputId": "25da39f8-b185-47f9-9df0-0a56fce3809b"
      },
      "outputs": [
        {
          "name": "stdout",
          "output_type": "stream",
          "text": [
            "Total Params: 699269\n",
            "WARNING:tensorflow:`period` argument is deprecated. Please use `save_freq` to specify the frequency in number of batches seen.\n",
            "Epoch 1/2\n",
            "67/67 [==============================] - ETA: 0s - loss: 1.6208 - categorical_accuracy: 0.3967\n",
            "Epoch 00001: saving model to model_init_2022-05-1806_01_08.428840/model-00001-1.62082-0.39668-3.03493-0.15000.h5\n",
            "67/67 [==============================] - 166s 2s/step - loss: 1.6208 - categorical_accuracy: 0.3967 - val_loss: 3.0349 - val_categorical_accuracy: 0.1500 - lr: 0.0010\n",
            "Epoch 2/2\n",
            "67/67 [==============================] - ETA: 0s - loss: 1.2424 - categorical_accuracy: 0.5385\n",
            "Epoch 00002: saving model to model_init_2022-05-1806_01_08.428840/model-00002-1.24245-0.53846-4.14509-0.27000.h5\n",
            "67/67 [==============================] - 166s 3s/step - loss: 1.2424 - categorical_accuracy: 0.5385 - val_loss: 4.1451 - val_categorical_accuracy: 0.2700 - lr: 0.0010\n"
          ]
        },
        {
          "data": {
            "text/plain": [
              "<keras.callbacks.History at 0x7f8f83468730>"
            ]
          },
          "execution_count": 13,
          "metadata": {},
          "output_type": "execute_result"
        }
      ],
      "source": [
        "# getting the conv3d model \n",
        "conv_3d1=ModelConv3D1()\n",
        "# initializing the path's for model building\n",
        "conv_3d1.initialize_path(project_folder)\n",
        "# initializing the image properties\n",
        "conv_3d1.initialize_image_properties(image_height=120,image_width=120)\n",
        "# initializing the hyper parameters\n",
        "conv_3d1.initialize_hyperparams(frames_to_sample=30,batch_size=10,num_epochs=2)\n",
        "# defining the model\n",
        "conv_3d1_model=conv_3d1.define_model()t\n",
        "# training the model\n",
        "conv_3d1.train_model(conv_3d1_model)"
      ]
    },
    {
      "cell_type": "code",
      "execution_count": null,
      "metadata": {
        "id": "mcqCvef3Nyob",
        "outputId": "e28f0047-e690-48e2-9101-7983cd19006a"
      },
      "outputs": [
        {
          "name": "stdout",
          "output_type": "stream",
          "text": [
            "Total Params: 1117061\n",
            "WARNING:tensorflow:`period` argument is deprecated. Please use `save_freq` to specify the frequency in number of batches seen.\n",
            "Epoch 1/2\n",
            "67/67 [==============================] - ETA: 0s - loss: 1.5721 - categorical_accuracy: 0.4012\n",
            "Epoch 00001: saving model to model_init_2022-05-1806_06_43.626525/model-00001-1.57207-0.40121-2.31269-0.17000.h5\n",
            "67/67 [==============================] - 186s 3s/step - loss: 1.5721 - categorical_accuracy: 0.4012 - val_loss: 2.3127 - val_categorical_accuracy: 0.1700 - lr: 0.0010\n",
            "Epoch 2/2\n",
            "67/67 [==============================] - ETA: 0s - loss: 1.2580 - categorical_accuracy: 0.5204\n",
            "Epoch 00002: saving model to model_init_2022-05-1806_06_43.626525/model-00002-1.25803-0.52036-2.42814-0.22000.h5\n",
            "67/67 [==============================] - 185s 3s/step - loss: 1.2580 - categorical_accuracy: 0.5204 - val_loss: 2.4281 - val_categorical_accuracy: 0.2200 - lr: 0.0010\n"
          ]
        },
        {
          "data": {
            "text/plain": [
              "<keras.callbacks.History at 0x7f8f3c7b0430>"
            ]
          },
          "execution_count": 14,
          "metadata": {},
          "output_type": "execute_result"
        }
      ],
      "source": [
        "# getting the conv3d model \n",
        "conv_3d1=ModelConv3D1()\n",
        "# initializing the path's for model building\n",
        "conv_3d1.initialize_path(project_folder)\n",
        "# initializing the image properties\n",
        "conv_3d1.initialize_image_properties(image_height=160,image_width=160)\n",
        "# initializing the hyper parameters\n",
        "conv_3d1.initialize_hyperparams(frames_to_sample=30,batch_size=10,num_epochs=2)\n",
        "# defining the model\n",
        "conv_3d1_model=conv_3d1.define_model()\n",
        "print(\"Total Params:\", conv_3d1_model.count_params())\n",
        "# training the model\n",
        "conv_3d1.train_model(conv_3d1_model)"
      ]
    },
    {
      "cell_type": "markdown",
      "metadata": {
        "id": "FLV5nvvYNyoc"
      },
      "source": [
        "### Observation from the above experiement\n",
        "- From the above experiments image resolution and number of frames in sequence have greater impact on training time than batch_size.\n",
        "- So experimentations are carried with batch size fixed around 15-40 and changing the resolution and number of image per sequence based on the device memory constraints . \n",
        "- Models are designed such that their memory foot print is less than 50 MB which corresponds to 4.3 million parameters assuming the datatype size of parameters to be 12 bytes\n",
        "- We will change the resoulution 160160, 120120 according the model performance"
      ]
    },
    {
      "cell_type": "markdown",
      "metadata": {
        "id": "PhF8hMxMNyoc"
      },
      "source": [
        "## Model 1 - Base Model - No Data Augmentation Batch Size 40 and Epoch 15"
      ]
    },
    {
      "cell_type": "code",
      "execution_count": null,
      "metadata": {
        "id": "-7daycj5Nyoc"
      },
      "outputs": [],
      "source": [
        "# reuable class to building the 3d model\n",
        "class ModelConv3D1(ModelBuilder):\n",
        "    \n",
        "    def define_model(self,filtersize=(3,3,3),dense_neurons=64,dropout=0.25):\n",
        "        \"\"\"\n",
        "        reusable method to define a model with defined filter size, dense neurons and dropout layer\n",
        "        \"\"\"\n",
        "        model = Sequential()\n",
        "        model.add(Conv3D(16, filtersize, padding='same',\n",
        "                 input_shape=(self.frames_to_sample,self.image_height,self.image_width,self.channels)))\n",
        "        model.add(Activation('relu'))\n",
        "        model.add(BatchNormalization())\n",
        "        model.add(MaxPooling3D(pool_size=(2, 2, 2)))\n",
        "\n",
        "        model.add(Conv3D(32, filtersize, padding='same'))\n",
        "        model.add(Activation('relu'))\n",
        "        model.add(BatchNormalization())\n",
        "        model.add(MaxPooling3D(pool_size=(2, 2, 2)))\n",
        "\n",
        "        model.add(Conv3D(64, filtersize, padding='same'))\n",
        "        model.add(Activation('relu'))\n",
        "        model.add(BatchNormalization())\n",
        "        model.add(MaxPooling3D(pool_size=(2, 2, 2)))\n",
        "\n",
        "        model.add(Conv3D(128, filtersize, padding='same'))\n",
        "        model.add(Activation('relu'))\n",
        "        model.add(BatchNormalization())\n",
        "        model.add(MaxPooling3D(pool_size=(2, 2, 2)))\n",
        "\n",
        "        model.add(Flatten())\n",
        "        model.add(Dense(dense_neurons,activation='relu'))\n",
        "        model.add(BatchNormalization())\n",
        "        model.add(Dropout(dropout))\n",
        "\n",
        "        model.add(Dense(dense_neurons,activation='relu'))\n",
        "        model.add(BatchNormalization())\n",
        "        model.add(Dropout(dropout))\n",
        "\n",
        "\n",
        "        model.add(Dense(self.num_classes,activation='softmax'))\n",
        "\n",
        "        optimiser = optimizers.Adam()\n",
        "        model.compile(optimizer=optimiser, loss='categorical_crossentropy', metrics=['categorical_accuracy'])\n",
        "        return model"
      ]
    },
    {
      "cell_type": "code",
      "execution_count": null,
      "metadata": {
        "id": "R8PzpFz3Nyoc",
        "outputId": "ac4b5a02-653c-4a36-d527-18eb9eeb6a45"
      },
      "outputs": [
        {
          "name": "stdout",
          "output_type": "stream",
          "text": [
            "Model: \"sequential_5\"\n",
            "_________________________________________________________________\n",
            " Layer (type)                Output Shape              Param #   \n",
            "=================================================================\n",
            " conv3d_20 (Conv3D)          (None, 20, 160, 160, 16)  1312      \n",
            "                                                                 \n",
            " activation_20 (Activation)  (None, 20, 160, 160, 16)  0         \n",
            "                                                                 \n",
            " batch_normalization_30 (Bat  (None, 20, 160, 160, 16)  64       \n",
            " chNormalization)                                                \n",
            "                                                                 \n",
            " max_pooling3d_20 (MaxPoolin  (None, 10, 80, 80, 16)   0         \n",
            " g3D)                                                            \n",
            "                                                                 \n",
            " conv3d_21 (Conv3D)          (None, 10, 80, 80, 32)    13856     \n",
            "                                                                 \n",
            " activation_21 (Activation)  (None, 10, 80, 80, 32)    0         \n",
            "                                                                 \n",
            " batch_normalization_31 (Bat  (None, 10, 80, 80, 32)   128       \n",
            " chNormalization)                                                \n",
            "                                                                 \n",
            " max_pooling3d_21 (MaxPoolin  (None, 5, 40, 40, 32)    0         \n",
            " g3D)                                                            \n",
            "                                                                 \n",
            " conv3d_22 (Conv3D)          (None, 5, 40, 40, 64)     55360     \n",
            "                                                                 \n",
            " activation_22 (Activation)  (None, 5, 40, 40, 64)     0         \n",
            "                                                                 \n",
            " batch_normalization_32 (Bat  (None, 5, 40, 40, 64)    256       \n",
            " chNormalization)                                                \n",
            "                                                                 \n",
            " max_pooling3d_22 (MaxPoolin  (None, 2, 20, 20, 64)    0         \n",
            " g3D)                                                            \n",
            "                                                                 \n",
            " conv3d_23 (Conv3D)          (None, 2, 20, 20, 128)    221312    \n",
            "                                                                 \n",
            " activation_23 (Activation)  (None, 2, 20, 20, 128)    0         \n",
            "                                                                 \n",
            " batch_normalization_33 (Bat  (None, 2, 20, 20, 128)   512       \n",
            " chNormalization)                                                \n",
            "                                                                 \n",
            " max_pooling3d_23 (MaxPoolin  (None, 1, 10, 10, 128)   0         \n",
            " g3D)                                                            \n",
            "                                                                 \n",
            " flatten_5 (Flatten)         (None, 12800)             0         \n",
            "                                                                 \n",
            " dense_15 (Dense)            (None, 64)                819264    \n",
            "                                                                 \n",
            " batch_normalization_34 (Bat  (None, 64)               256       \n",
            " chNormalization)                                                \n",
            "                                                                 \n",
            " dropout_10 (Dropout)        (None, 64)                0         \n",
            "                                                                 \n",
            " dense_16 (Dense)            (None, 64)                4160      \n",
            "                                                                 \n",
            " batch_normalization_35 (Bat  (None, 64)               256       \n",
            " chNormalization)                                                \n",
            "                                                                 \n",
            " dropout_11 (Dropout)        (None, 64)                0         \n",
            "                                                                 \n",
            " dense_17 (Dense)            (None, 5)                 325       \n",
            "                                                                 \n",
            "=================================================================\n",
            "Total params: 1,117,061\n",
            "Trainable params: 1,116,325\n",
            "Non-trainable params: 736\n",
            "_________________________________________________________________\n"
          ]
        }
      ],
      "source": [
        "# building the conv3d model\n",
        "conv_3d1=ModelConv3D1()\n",
        "# initializing the paths\n",
        "conv_3d1.initialize_path(project_folder)\n",
        "# initializing the image properties\n",
        "conv_3d1.initialize_image_properties(image_height=160,image_width=160)\n",
        "# initializing the hyper parameters\n",
        "conv_3d1.initialize_hyperparams(frames_to_sample=20,batch_size=40,num_epochs=15)\n",
        "# defining the model\n",
        "conv_3d1_model=conv_3d1.define_model()\n",
        "# printing the model summary\n",
        "conv_3d1_model.summary()"
      ]
    },
    {
      "cell_type": "code",
      "execution_count": null,
      "metadata": {
        "id": "hrmaYmTNNyoc",
        "outputId": "05104d61-3c49-48de-b865-32938f506724"
      },
      "outputs": [
        {
          "name": "stdout",
          "output_type": "stream",
          "text": [
            "Total Params: 1117061\n",
            "WARNING:tensorflow:`period` argument is deprecated. Please use `save_freq` to specify the frequency in number of batches seen.\n",
            "Epoch 1/15\n",
            "17/17 [==============================] - ETA: 0s - loss: 1.5309 - categorical_accuracy: 0.4404\n",
            "Epoch 00001: saving model to model_init_2022-05-1806_12_57.151430/model-00001-1.53093-0.44042-2.33904-0.16000.h5\n",
            "17/17 [==============================] - 125s 8s/step - loss: 1.5309 - categorical_accuracy: 0.4404 - val_loss: 2.3390 - val_categorical_accuracy: 0.1600 - lr: 0.0010\n",
            "Epoch 2/15\n",
            "17/17 [==============================] - ETA: 0s - loss: 0.8756 - categorical_accuracy: 0.6712\n",
            "Epoch 00002: saving model to model_init_2022-05-1806_12_57.151430/model-00002-0.87559-0.67119-4.91998-0.17000.h5\n",
            "17/17 [==============================] - 120s 7s/step - loss: 0.8756 - categorical_accuracy: 0.6712 - val_loss: 4.9200 - val_categorical_accuracy: 0.1700 - lr: 0.0010\n",
            "Epoch 3/15\n",
            "17/17 [==============================] - ETA: 0s - loss: 0.5955 - categorical_accuracy: 0.8024\n",
            "Epoch 00003: saving model to model_init_2022-05-1806_12_57.151430/model-00003-0.59553-0.80241-5.94598-0.15000.h5\n",
            "17/17 [==============================] - 119s 7s/step - loss: 0.5955 - categorical_accuracy: 0.8024 - val_loss: 5.9460 - val_categorical_accuracy: 0.1500 - lr: 0.0010\n",
            "Epoch 4/15\n",
            "17/17 [==============================] - ETA: 0s - loss: 0.4247 - categorical_accuracy: 0.8597\n",
            "Epoch 00004: saving model to model_init_2022-05-1806_12_57.151430/model-00004-0.42475-0.85973-6.82137-0.16000.h5\n",
            "17/17 [==============================] - 121s 8s/step - loss: 0.4247 - categorical_accuracy: 0.8597 - val_loss: 6.8214 - val_categorical_accuracy: 0.1600 - lr: 0.0010\n",
            "Epoch 5/15\n",
            "17/17 [==============================] - ETA: 0s - loss: 0.2763 - categorical_accuracy: 0.9231\n",
            "Epoch 00005: saving model to model_init_2022-05-1806_12_57.151430/model-00005-0.27634-0.92308-7.19615-0.16000.h5\n",
            "\n",
            "Epoch 00005: ReduceLROnPlateau reducing learning rate to 0.00020000000949949026.\n",
            "17/17 [==============================] - 120s 7s/step - loss: 0.2763 - categorical_accuracy: 0.9231 - val_loss: 7.1962 - val_categorical_accuracy: 0.1600 - lr: 0.0010\n",
            "Epoch 6/15\n",
            "17/17 [==============================] - ETA: 0s - loss: 0.2051 - categorical_accuracy: 0.9397\n",
            "Epoch 00006: saving model to model_init_2022-05-1806_12_57.151430/model-00006-0.20508-0.93967-7.84225-0.16000.h5\n",
            "17/17 [==============================] - 119s 7s/step - loss: 0.2051 - categorical_accuracy: 0.9397 - val_loss: 7.8422 - val_categorical_accuracy: 0.1600 - lr: 2.0000e-04\n",
            "Epoch 7/15\n",
            "17/17 [==============================] - ETA: 0s - loss: 0.1690 - categorical_accuracy: 0.9623\n",
            "Epoch 00007: saving model to model_init_2022-05-1806_12_57.151430/model-00007-0.16897-0.96229-8.54841-0.16000.h5\n",
            "17/17 [==============================] - 116s 7s/step - loss: 0.1690 - categorical_accuracy: 0.9623 - val_loss: 8.5484 - val_categorical_accuracy: 0.1600 - lr: 2.0000e-04\n",
            "Epoch 8/15\n",
            "17/17 [==============================] - ETA: 0s - loss: 0.1510 - categorical_accuracy: 0.9683\n",
            "Epoch 00008: saving model to model_init_2022-05-1806_12_57.151430/model-00008-0.15103-0.96833-9.87246-0.16000.h5\n",
            "17/17 [==============================] - 121s 8s/step - loss: 0.1510 - categorical_accuracy: 0.9683 - val_loss: 9.8725 - val_categorical_accuracy: 0.1600 - lr: 2.0000e-04\n",
            "Epoch 9/15\n",
            "17/17 [==============================] - ETA: 0s - loss: 0.1236 - categorical_accuracy: 0.9744\n",
            "Epoch 00009: saving model to model_init_2022-05-1806_12_57.151430/model-00009-0.12361-0.97436-9.93199-0.14000.h5\n",
            "\n",
            "Epoch 00009: ReduceLROnPlateau reducing learning rate to 4.0000001899898055e-05.\n",
            "17/17 [==============================] - 118s 7s/step - loss: 0.1236 - categorical_accuracy: 0.9744 - val_loss: 9.9320 - val_categorical_accuracy: 0.1400 - lr: 2.0000e-04\n",
            "Epoch 10/15\n",
            "17/17 [==============================] - ETA: 0s - loss: 0.1260 - categorical_accuracy: 0.9698\n",
            "Epoch 00010: saving model to model_init_2022-05-1806_12_57.151430/model-00010-0.12604-0.96983-9.83871-0.16000.h5\n",
            "17/17 [==============================] - 121s 8s/step - loss: 0.1260 - categorical_accuracy: 0.9698 - val_loss: 9.8387 - val_categorical_accuracy: 0.1600 - lr: 4.0000e-05\n",
            "Epoch 11/15\n",
            "17/17 [==============================] - ETA: 0s - loss: 0.1108 - categorical_accuracy: 0.9834\n",
            "Epoch 00011: saving model to model_init_2022-05-1806_12_57.151430/model-00011-0.11085-0.98341-9.05038-0.17000.h5\n",
            "17/17 [==============================] - 124s 8s/step - loss: 0.1108 - categorical_accuracy: 0.9834 - val_loss: 9.0504 - val_categorical_accuracy: 0.1700 - lr: 4.0000e-05\n",
            "Epoch 12/15\n",
            "17/17 [==============================] - ETA: 0s - loss: 0.1028 - categorical_accuracy: 0.9910\n",
            "Epoch 00012: saving model to model_init_2022-05-1806_12_57.151430/model-00012-0.10277-0.99095-9.03475-0.15000.h5\n",
            "17/17 [==============================] - 122s 8s/step - loss: 0.1028 - categorical_accuracy: 0.9910 - val_loss: 9.0347 - val_categorical_accuracy: 0.1500 - lr: 4.0000e-05\n",
            "Epoch 13/15\n",
            "17/17 [==============================] - ETA: 0s - loss: 0.1132 - categorical_accuracy: 0.9804\n",
            "Epoch 00013: saving model to model_init_2022-05-1806_12_57.151430/model-00013-0.11321-0.98039-8.04095-0.16000.h5\n",
            "\n",
            "Epoch 00013: ReduceLROnPlateau reducing learning rate to 8.000000525498762e-06.\n",
            "17/17 [==============================] - 123s 8s/step - loss: 0.1132 - categorical_accuracy: 0.9804 - val_loss: 8.0409 - val_categorical_accuracy: 0.1600 - lr: 4.0000e-05\n",
            "Epoch 14/15\n",
            "17/17 [==============================] - ETA: 0s - loss: 0.0993 - categorical_accuracy: 0.9955\n",
            "Epoch 00014: saving model to model_init_2022-05-1806_12_57.151430/model-00014-0.09928-0.99548-7.48901-0.16000.h5\n",
            "17/17 [==============================] - 125s 8s/step - loss: 0.0993 - categorical_accuracy: 0.9955 - val_loss: 7.4890 - val_categorical_accuracy: 0.1600 - lr: 8.0000e-06\n",
            "Epoch 15/15\n",
            "17/17 [==============================] - ETA: 0s - loss: 0.0986 - categorical_accuracy: 0.9910\n",
            "Epoch 00015: saving model to model_init_2022-05-1806_12_57.151430/model-00015-0.09860-0.99095-6.36151-0.19000.h5\n",
            "17/17 [==============================] - 118s 7s/step - loss: 0.0986 - categorical_accuracy: 0.9910 - val_loss: 6.3615 - val_categorical_accuracy: 0.1900 - lr: 8.0000e-06\n"
          ]
        }
      ],
      "source": [
        "print(\"Total Params:\", conv_3d1_model.count_params())\n",
        "# training the model\n",
        "history_model1 = conv_3d1.train_model(conv_3d1_model)"
      ]
    },
    {
      "cell_type": "markdown",
      "metadata": {
        "id": "9SZ8IV2_Nyoc"
      },
      "source": [
        "> we can observe that training accuracy and validation accuravy are no where near and it seems that the model is overfitted"
      ]
    },
    {
      "cell_type": "code",
      "execution_count": null,
      "metadata": {
        "id": "iyokQ_rVNyoc",
        "outputId": "105aaa3e-705f-497b-e753-d05f2de7370e"
      },
      "outputs": [
        {
          "data": {
            "image/png": "[encoded data removed]",
            "text/plain": [
              "<Figure size 1080x288 with 2 Axes>"
            ]
          },
          "metadata": {
            "needs_background": "light"
          },
          "output_type": "display_data"
        }
      ],
      "source": [
        "# plotting the history of the training model\n",
        "plot(history_model1)"
      ]
    },
    {
      "cell_type": "markdown",
      "metadata": {
        "id": "jyVR1iZfNyod"
      },
      "source": [
        "> We can clearly see on above plot that validation accuracy is very low and training accuracy is very high"
      ]
    },
    {
      "cell_type": "markdown",
      "metadata": {
        "id": "tu7r35uPNyod"
      },
      "source": [
        "Model is clearly overfitting. So we need to do data augmentation"
      ]
    },
    {
      "cell_type": "markdown",
      "metadata": {
        "id": "0CQvCsXjNyod"
      },
      "source": [
        "## Model 2 - Augment Data , (3,3,3) filter & 160x160 image resolution"
      ]
    },
    {
      "cell_type": "code",
      "execution_count": null,
      "metadata": {
        "id": "rdPv6BapNyod",
        "outputId": "245a16a3-e3d9-4487-9cb1-cb657a33e494"
      },
      "outputs": [
        {
          "name": "stdout",
          "output_type": "stream",
          "text": [
            "Model: \"sequential_6\"\n",
            "_________________________________________________________________\n",
            " Layer (type)                Output Shape              Param #   \n",
            "=================================================================\n",
            " conv3d_24 (Conv3D)          (None, 20, 160, 160, 16)  1312      \n",
            "                                                                 \n",
            " activation_24 (Activation)  (None, 20, 160, 160, 16)  0         \n",
            "                                                                 \n",
            " batch_normalization_36 (Bat  (None, 20, 160, 160, 16)  64       \n",
            " chNormalization)                                                \n",
            "                                                                 \n",
            " max_pooling3d_24 (MaxPoolin  (None, 10, 80, 80, 16)   0         \n",
            " g3D)                                                            \n",
            "                                                                 \n",
            " conv3d_25 (Conv3D)          (None, 10, 80, 80, 32)    13856     \n",
            "                                                                 \n",
            " activation_25 (Activation)  (None, 10, 80, 80, 32)    0         \n",
            "                                                                 \n",
            " batch_normalization_37 (Bat  (None, 10, 80, 80, 32)   128       \n",
            " chNormalization)                                                \n",
            "                                                                 \n",
            " max_pooling3d_25 (MaxPoolin  (None, 5, 40, 40, 32)    0         \n",
            " g3D)                                                            \n",
            "                                                                 \n",
            " conv3d_26 (Conv3D)          (None, 5, 40, 40, 64)     55360     \n",
            "                                                                 \n",
            " activation_26 (Activation)  (None, 5, 40, 40, 64)     0         \n",
            "                                                                 \n",
            " batch_normalization_38 (Bat  (None, 5, 40, 40, 64)    256       \n",
            " chNormalization)                                                \n",
            "                                                                 \n",
            " max_pooling3d_26 (MaxPoolin  (None, 2, 20, 20, 64)    0         \n",
            " g3D)                                                            \n",
            "                                                                 \n",
            " conv3d_27 (Conv3D)          (None, 2, 20, 20, 128)    221312    \n",
            "                                                                 \n",
            " activation_27 (Activation)  (None, 2, 20, 20, 128)    0         \n",
            "                                                                 \n",
            " batch_normalization_39 (Bat  (None, 2, 20, 20, 128)   512       \n",
            " chNormalization)                                                \n",
            "                                                                 \n",
            " max_pooling3d_27 (MaxPoolin  (None, 1, 10, 10, 128)   0         \n",
            " g3D)                                                            \n",
            "                                                                 \n",
            " flatten_6 (Flatten)         (None, 12800)             0         \n",
            "                                                                 \n",
            " dense_18 (Dense)            (None, 256)               3277056   \n",
            "                                                                 \n",
            " batch_normalization_40 (Bat  (None, 256)              1024      \n",
            " chNormalization)                                                \n",
            "                                                                 \n",
            " dropout_12 (Dropout)        (None, 256)               0         \n",
            "                                                                 \n",
            " dense_19 (Dense)            (None, 256)               65792     \n",
            "                                                                 \n",
            " batch_normalization_41 (Bat  (None, 256)              1024      \n",
            " chNormalization)                                                \n",
            "                                                                 \n",
            " dropout_13 (Dropout)        (None, 256)               0         \n",
            "                                                                 \n",
            " dense_20 (Dense)            (None, 5)                 1285      \n",
            "                                                                 \n",
            "=================================================================\n",
            "Total params: 3,638,981\n",
            "Trainable params: 3,637,477\n",
            "Non-trainable params: 1,504\n",
            "_________________________________________________________________\n"
          ]
        }
      ],
      "source": [
        "# getting the conv3d model \n",
        "conv_3d2=ModelConv3D1()\n",
        "# initializing the project files path\n",
        "conv_3d2.initialize_path(project_folder)\n",
        "# initializing the image properties\n",
        "conv_3d2.initialize_image_properties(image_height=160,image_width=160)\n",
        "# initializing the hyper parameters\n",
        "conv_3d2.initialize_hyperparams(frames_to_sample=20,batch_size=20,num_epochs=25)\n",
        "# defining the model\n",
        "conv_3d2_model=conv_3d2.define_model(dense_neurons=256,dropout=0.5)\n",
        "# printing the model summary\n",
        "conv_3d2_model.summary()"
      ]
    },
    {
      "cell_type": "code",
      "execution_count": null,
      "metadata": {
        "id": "JUA8-oeCNyod",
        "outputId": "66dccc49-86e3-4082-909b-d9ee9cccd8ed"
      },
      "outputs": [
        {
          "name": "stdout",
          "output_type": "stream",
          "text": [
            "Total Params: 3638981\n",
            "WARNING:tensorflow:`period` argument is deprecated. Please use `save_freq` to specify the frequency in number of batches seen.\n",
            "Epoch 1/25\n",
            "34/34 [==============================] - ETA: 0s - loss: 1.9401 - categorical_accuracy: 0.3959\n",
            "Epoch 00001: saving model to model_init_2022-05-1806_43_16.738088/model-00001-1.94011-0.39593-2.93478-0.16000.h5\n",
            "34/34 [==============================] - 231s 7s/step - loss: 1.9401 - categorical_accuracy: 0.3959 - val_loss: 2.9348 - val_categorical_accuracy: 0.1600 - lr: 0.0010\n",
            "Epoch 2/25\n",
            "34/34 [==============================] - ETA: 0s - loss: 1.3110 - categorical_accuracy: 0.5490\n",
            "Epoch 00002: saving model to model_init_2022-05-1806_43_16.738088/model-00002-1.31100-0.54902-3.73535-0.21000.h5\n",
            "34/34 [==============================] - 221s 7s/step - loss: 1.3110 - categorical_accuracy: 0.5490 - val_loss: 3.7354 - val_categorical_accuracy: 0.2100 - lr: 0.0010\n",
            "Epoch 3/25\n",
            "34/34 [==============================] - ETA: 0s - loss: 1.1335 - categorical_accuracy: 0.6146\n",
            "Epoch 00003: saving model to model_init_2022-05-1806_43_16.738088/model-00003-1.13347-0.61463-5.23899-0.16000.h5\n",
            "34/34 [==============================] - 225s 7s/step - loss: 1.1335 - categorical_accuracy: 0.6146 - val_loss: 5.2390 - val_categorical_accuracy: 0.1600 - lr: 0.0010\n",
            "Epoch 4/25\n",
            "34/34 [==============================] - ETA: 0s - loss: 0.9175 - categorical_accuracy: 0.6674\n",
            "Epoch 00004: saving model to model_init_2022-05-1806_43_16.738088/model-00004-0.91753-0.66742-4.19290-0.21000.h5\n",
            "34/34 [==============================] - 219s 7s/step - loss: 0.9175 - categorical_accuracy: 0.6674 - val_loss: 4.1929 - val_categorical_accuracy: 0.2100 - lr: 0.0010\n",
            "Epoch 5/25\n",
            "34/34 [==============================] - ETA: 0s - loss: 0.7266 - categorical_accuracy: 0.7391\n",
            "Epoch 00005: saving model to model_init_2022-05-1806_43_16.738088/model-00005-0.72662-0.73906-3.97150-0.23000.h5\n",
            "\n",
            "Epoch 00005: ReduceLROnPlateau reducing learning rate to 0.00020000000949949026.\n",
            "34/34 [==============================] - 223s 7s/step - loss: 0.7266 - categorical_accuracy: 0.7391 - val_loss: 3.9715 - val_categorical_accuracy: 0.2300 - lr: 0.0010\n",
            "Epoch 6/25\n",
            "34/34 [==============================] - ETA: 0s - loss: 0.5596 - categorical_accuracy: 0.7903\n",
            "Epoch 00006: saving model to model_init_2022-05-1806_43_16.738088/model-00006-0.55962-0.79035-4.41455-0.26000.h5\n",
            "34/34 [==============================] - 222s 7s/step - loss: 0.5596 - categorical_accuracy: 0.7903 - val_loss: 4.4145 - val_categorical_accuracy: 0.2600 - lr: 2.0000e-04\n",
            "Epoch 7/25\n",
            "34/34 [==============================] - ETA: 0s - loss: 0.5055 - categorical_accuracy: 0.7964\n",
            "Epoch 00007: saving model to model_init_2022-05-1806_43_16.738088/model-00007-0.50551-0.79638-4.69051-0.22000.h5\n",
            "34/34 [==============================] - 225s 7s/step - loss: 0.5055 - categorical_accuracy: 0.7964 - val_loss: 4.6905 - val_categorical_accuracy: 0.2200 - lr: 2.0000e-04\n",
            "Epoch 8/25\n",
            "34/34 [==============================] - ETA: 0s - loss: 0.4763 - categorical_accuracy: 0.8258\n",
            "Epoch 00008: saving model to model_init_2022-05-1806_43_16.738088/model-00008-0.47633-0.82579-4.59991-0.26000.h5\n",
            "34/34 [==============================] - 221s 7s/step - loss: 0.4763 - categorical_accuracy: 0.8258 - val_loss: 4.5999 - val_categorical_accuracy: 0.2600 - lr: 2.0000e-04\n",
            "Epoch 9/25\n",
            "34/34 [==============================] - ETA: 0s - loss: 0.4290 - categorical_accuracy: 0.8477\n",
            "Epoch 00009: saving model to model_init_2022-05-1806_43_16.738088/model-00009-0.42899-0.84766-4.64413-0.25000.h5\n",
            "\n",
            "Epoch 00009: ReduceLROnPlateau reducing learning rate to 4.0000001899898055e-05.\n",
            "34/34 [==============================] - 221s 7s/step - loss: 0.4290 - categorical_accuracy: 0.8477 - val_loss: 4.6441 - val_categorical_accuracy: 0.2500 - lr: 2.0000e-04\n",
            "Epoch 10/25\n",
            "34/34 [==============================] - ETA: 0s - loss: 0.3713 - categorical_accuracy: 0.8650\n",
            "Epoch 00010: saving model to model_init_2022-05-1806_43_16.738088/model-00010-0.37133-0.86501-4.04522-0.29000.h5\n",
            "34/34 [==============================] - 222s 7s/step - loss: 0.3713 - categorical_accuracy: 0.8650 - val_loss: 4.0452 - val_categorical_accuracy: 0.2900 - lr: 4.0000e-05\n",
            "Epoch 11/25\n",
            "34/34 [==============================] - ETA: 0s - loss: 0.4022 - categorical_accuracy: 0.8492\n",
            "Epoch 00011: saving model to model_init_2022-05-1806_43_16.738088/model-00011-0.40222-0.84917-3.63065-0.31000.h5\n",
            "34/34 [==============================] - 222s 7s/step - loss: 0.4022 - categorical_accuracy: 0.8492 - val_loss: 3.6306 - val_categorical_accuracy: 0.3100 - lr: 4.0000e-05\n",
            "Epoch 12/25\n",
            "34/34 [==============================] - ETA: 0s - loss: 0.3685 - categorical_accuracy: 0.8695\n",
            "Epoch 00012: saving model to model_init_2022-05-1806_43_16.738088/model-00012-0.36845-0.86953-3.34529-0.31000.h5\n",
            "34/34 [==============================] - 223s 7s/step - loss: 0.3685 - categorical_accuracy: 0.8695 - val_loss: 3.3453 - val_categorical_accuracy: 0.3100 - lr: 4.0000e-05\n",
            "Epoch 13/25\n",
            "34/34 [==============================] - ETA: 0s - loss: 0.4083 - categorical_accuracy: 0.8529\n",
            "Epoch 00013: saving model to model_init_2022-05-1806_43_16.738088/model-00013-0.40832-0.85294-2.78120-0.37000.h5\n",
            "34/34 [==============================] - 221s 7s/step - loss: 0.4083 - categorical_accuracy: 0.8529 - val_loss: 2.7812 - val_categorical_accuracy: 0.3700 - lr: 4.0000e-05\n",
            "Epoch 14/25\n",
            "34/34 [==============================] - ETA: 0s - loss: 0.3297 - categorical_accuracy: 0.8786\n",
            "Epoch 00014: saving model to model_init_2022-05-1806_43_16.738088/model-00014-0.32970-0.87858-2.30643-0.41000.h5\n",
            "34/34 [==============================] - 218s 7s/step - loss: 0.3297 - categorical_accuracy: 0.8786 - val_loss: 2.3064 - val_categorical_accuracy: 0.4100 - lr: 4.0000e-05\n",
            "Epoch 15/25\n",
            "34/34 [==============================] - ETA: 0s - loss: 0.3448 - categorical_accuracy: 0.8695\n",
            "Epoch 00015: saving model to model_init_2022-05-1806_43_16.738088/model-00015-0.34476-0.86953-2.05247-0.41000.h5\n",
            "34/34 [==============================] - 221s 7s/step - loss: 0.3448 - categorical_accuracy: 0.8695 - val_loss: 2.0525 - val_categorical_accuracy: 0.4100 - lr: 4.0000e-05\n",
            "Epoch 16/25\n",
            "34/34 [==============================] - ETA: 0s - loss: 0.3216 - categorical_accuracy: 0.8869\n",
            "Epoch 00016: saving model to model_init_2022-05-1806_43_16.738088/model-00016-0.32157-0.88688-1.43797-0.50000.h5\n",
            "34/34 [==============================] - 220s 7s/step - loss: 0.3216 - categorical_accuracy: 0.8869 - val_loss: 1.4380 - val_categorical_accuracy: 0.5000 - lr: 4.0000e-05\n",
            "Epoch 17/25\n",
            "34/34 [==============================] - ETA: 0s - loss: 0.3295 - categorical_accuracy: 0.8854\n",
            "Epoch 00017: saving model to model_init_2022-05-1806_43_16.738088/model-00017-0.32953-0.88537-1.00903-0.65000.h5\n",
            "34/34 [==============================] - 220s 7s/step - loss: 0.3295 - categorical_accuracy: 0.8854 - val_loss: 1.0090 - val_categorical_accuracy: 0.6500 - lr: 4.0000e-05\n",
            "Epoch 18/25\n",
            "34/34 [==============================] - ETA: 0s - loss: 0.2981 - categorical_accuracy: 0.8876\n",
            "Epoch 00018: saving model to model_init_2022-05-1806_43_16.738088/model-00018-0.29814-0.88763-0.64782-0.72000.h5\n",
            "34/34 [==============================] - 216s 7s/step - loss: 0.2981 - categorical_accuracy: 0.8876 - val_loss: 0.6478 - val_categorical_accuracy: 0.7200 - lr: 4.0000e-05\n",
            "Epoch 19/25\n",
            "34/34 [==============================] - ETA: 0s - loss: 0.3294 - categorical_accuracy: 0.8831\n",
            "Epoch 00019: saving model to model_init_2022-05-1806_43_16.738088/model-00019-0.32936-0.88311-0.72168-0.78000.h5\n",
            "34/34 [==============================] - 216s 7s/step - loss: 0.3294 - categorical_accuracy: 0.8831 - val_loss: 0.7217 - val_categorical_accuracy: 0.7800 - lr: 4.0000e-05\n",
            "Epoch 20/25\n",
            "34/34 [==============================] - ETA: 0s - loss: 0.3225 - categorical_accuracy: 0.8831\n",
            "Epoch 00020: saving model to model_init_2022-05-1806_43_16.738088/model-00020-0.32252-0.88311-0.55155-0.79000.h5\n",
            "34/34 [==============================] - 219s 7s/step - loss: 0.3225 - categorical_accuracy: 0.8831 - val_loss: 0.5515 - val_categorical_accuracy: 0.7900 - lr: 4.0000e-05\n",
            "Epoch 21/25\n",
            "34/34 [==============================] - ETA: 0s - loss: 0.3371 - categorical_accuracy: 0.8733\n",
            "Epoch 00021: saving model to model_init_2022-05-1806_43_16.738088/model-00021-0.33712-0.87330-0.49932-0.82000.h5\n",
            "34/34 [==============================] - 219s 7s/step - loss: 0.3371 - categorical_accuracy: 0.8733 - val_loss: 0.4993 - val_categorical_accuracy: 0.8200 - lr: 4.0000e-05\n",
            "Epoch 22/25\n",
            "34/34 [==============================] - ETA: 0s - loss: 0.3060 - categorical_accuracy: 0.8876\n",
            "Epoch 00022: saving model to model_init_2022-05-1806_43_16.738088/model-00022-0.30602-0.88763-0.52088-0.81000.h5\n",
            "34/34 [==============================] - 214s 6s/step - loss: 0.3060 - categorical_accuracy: 0.8876 - val_loss: 0.5209 - val_categorical_accuracy: 0.8100 - lr: 4.0000e-05\n",
            "Epoch 23/25\n",
            "34/34 [==============================] - ETA: 0s - loss: 0.2718 - categorical_accuracy: 0.8922\n",
            "Epoch 00023: saving model to model_init_2022-05-1806_43_16.738088/model-00023-0.27184-0.89216-0.26323-0.93000.h5\n",
            "34/34 [==============================] - 213s 6s/step - loss: 0.2718 - categorical_accuracy: 0.8922 - val_loss: 0.2632 - val_categorical_accuracy: 0.9300 - lr: 4.0000e-05\n",
            "Epoch 24/25\n",
            "34/34 [==============================] - ETA: 0s - loss: 0.3079 - categorical_accuracy: 0.8891\n",
            "Epoch 00024: saving model to model_init_2022-05-1806_43_16.738088/model-00024-0.30786-0.88914-0.43178-0.85000.h5\n",
            "34/34 [==============================] - 215s 6s/step - loss: 0.3079 - categorical_accuracy: 0.8891 - val_loss: 0.4318 - val_categorical_accuracy: 0.8500 - lr: 4.0000e-05\n",
            "Epoch 25/25\n",
            "34/34 [==============================] - ETA: 0s - loss: 0.2877 - categorical_accuracy: 0.8944\n",
            "Epoch 00025: saving model to model_init_2022-05-1806_43_16.738088/model-00025-0.28768-0.89442-0.31823-0.91000.h5\n",
            "34/34 [==============================] - 214s 6s/step - loss: 0.2877 - categorical_accuracy: 0.8944 - val_loss: 0.3182 - val_categorical_accuracy: 0.9100 - lr: 4.0000e-05\n"
          ]
        }
      ],
      "source": [
        "print(\"Total Params:\", conv_3d2_model.count_params())\n",
        "# training the model\n",
        "history_model2=conv_3d2.train_model(conv_3d2_model,augment_data=True)"
      ]
    },
    {
      "cell_type": "code",
      "execution_count": null,
      "metadata": {
        "id": "Tt47EusPNyod",
        "outputId": "876ccb63-0d25-4030-c577-c01513c8ea5b"
      },
      "outputs": [
        {
          "data": {
            "image/png": "[encoded data removed]",
            "text/plain": [
              "<Figure size 1080x288 with 2 Axes>"
            ]
          },
          "metadata": {
            "needs_background": "light"
          },
          "output_type": "display_data"
        }
      ],
      "source": [
        "# plotting the model training history\n",
        "plot(history_model2)"
      ]
    },
    {
      "cell_type": "markdown",
      "metadata": {
        "id": "jXNl4feCNyod"
      },
      "source": [
        "Model has comparitively improved, as we get a best validation accuracy of 89% and training accuracy of 91%. "
      ]
    },
    {
      "cell_type": "markdown",
      "metadata": {
        "id": "jmcGHShENyod"
      },
      "source": [
        "## Model 3 - Reduce filter size to (2,2,2) and image res to 120 x 120"
      ]
    },
    {
      "cell_type": "code",
      "execution_count": null,
      "metadata": {
        "id": "YNqVXvYpNyod"
      },
      "outputs": [],
      "source": [
        "class ModelConv3D3(ModelBuilder):\n",
        "    \n",
        "    def define_model(self,filtersize=(3,3,3),dense_neurons=64,dropout=0.25):\n",
        "\n",
        "        model = Sequential()\n",
        "        model.add(Conv3D(16, filtersize, padding='same',\n",
        "                 input_shape=(self.frames_to_sample,self.image_height,self.image_width,self.channels)))\n",
        "        model.add(Activation('relu'))\n",
        "        model.add(BatchNormalization())\n",
        "        model.add(MaxPooling3D(pool_size=(2, 2, 2)))\n",
        "\n",
        "        model.add(Conv3D(32, filtersize, padding='same'))\n",
        "        model.add(Activation('relu'))\n",
        "        model.add(BatchNormalization())\n",
        "        model.add(MaxPooling3D(pool_size=(2, 2, 2)))\n",
        "\n",
        "        model.add(Conv3D(64, filtersize, padding='same'))\n",
        "        model.add(Activation('relu'))\n",
        "        model.add(BatchNormalization())\n",
        "        model.add(MaxPooling3D(pool_size=(2, 2, 2)))\n",
        "\n",
        "        model.add(Conv3D(128, filtersize, padding='same'))\n",
        "        model.add(Activation('relu'))\n",
        "        model.add(BatchNormalization())\n",
        "        model.add(MaxPooling3D(pool_size=(2, 2, 2)))\n",
        "\n",
        "        model.add(Flatten())\n",
        "        model.add(Dense(dense_neurons,activation='relu'))\n",
        "        model.add(BatchNormalization())\n",
        "        model.add(Dropout(dropout))\n",
        "\n",
        "        model.add(Dense(dense_neurons,activation='relu'))\n",
        "        model.add(BatchNormalization())\n",
        "        model.add(Dropout(dropout))\n",
        "\n",
        "\n",
        "        model.add(Dense(self.num_classes,activation='softmax'))\n",
        "\n",
        "        optimiser = optimizers.Adam(lr=0.0002)\n",
        "        model.compile(optimizer=optimiser, loss='categorical_crossentropy', metrics=['categorical_accuracy'])\n",
        "        return model"
      ]
    },
    {
      "cell_type": "code",
      "execution_count": null,
      "metadata": {
        "id": "-OlD5qVbNyod",
        "outputId": "481ddce6-c4af-476f-aa58-384df31a9a65"
      },
      "outputs": [
        {
          "name": "stdout",
          "output_type": "stream",
          "text": [
            "Model: \"sequential_7\"\n",
            "_________________________________________________________________\n",
            " Layer (type)                Output Shape              Param #   \n",
            "=================================================================\n",
            " conv3d_28 (Conv3D)          (None, 16, 120, 120, 16)  400       \n",
            "                                                                 \n",
            " activation_28 (Activation)  (None, 16, 120, 120, 16)  0         \n",
            "                                                                 \n",
            " batch_normalization_42 (Bat  (None, 16, 120, 120, 16)  64       \n",
            " chNormalization)                                                \n",
            "                                                                 \n",
            " max_pooling3d_28 (MaxPoolin  (None, 8, 60, 60, 16)    0         \n",
            " g3D)                                                            \n",
            "                                                                 \n",
            " conv3d_29 (Conv3D)          (None, 8, 60, 60, 32)     4128      \n",
            "                                                                 \n",
            " activation_29 (Activation)  (None, 8, 60, 60, 32)     0         \n",
            "                                                                 \n",
            " batch_normalization_43 (Bat  (None, 8, 60, 60, 32)    128       \n",
            " chNormalization)                                                \n",
            "                                                                 \n",
            " max_pooling3d_29 (MaxPoolin  (None, 4, 30, 30, 32)    0         \n",
            " g3D)                                                            \n",
            "                                                                 \n",
            " conv3d_30 (Conv3D)          (None, 4, 30, 30, 64)     16448     \n",
            "                                                                 \n",
            " activation_30 (Activation)  (None, 4, 30, 30, 64)     0         \n",
            "                                                                 \n",
            " batch_normalization_44 (Bat  (None, 4, 30, 30, 64)    256       \n",
            " chNormalization)                                                \n",
            "                                                                 \n",
            " max_pooling3d_30 (MaxPoolin  (None, 2, 15, 15, 64)    0         \n",
            " g3D)                                                            \n",
            "                                                                 \n",
            " conv3d_31 (Conv3D)          (None, 2, 15, 15, 128)    65664     \n",
            "                                                                 \n",
            " activation_31 (Activation)  (None, 2, 15, 15, 128)    0         \n",
            "                                                                 \n",
            " batch_normalization_45 (Bat  (None, 2, 15, 15, 128)   512       \n",
            " chNormalization)                                                \n",
            "                                                                 \n",
            " max_pooling3d_31 (MaxPoolin  (None, 1, 7, 7, 128)     0         \n",
            " g3D)                                                            \n",
            "                                                                 \n",
            " flatten_7 (Flatten)         (None, 6272)              0         \n",
            "                                                                 \n",
            " dense_21 (Dense)            (None, 256)               1605888   \n",
            "                                                                 \n",
            " batch_normalization_46 (Bat  (None, 256)              1024      \n",
            " chNormalization)                                                \n",
            "                                                                 \n",
            " dropout_14 (Dropout)        (None, 256)               0         \n",
            "                                                                 \n",
            " dense_22 (Dense)            (None, 256)               65792     \n",
            "                                                                 \n",
            " batch_normalization_47 (Bat  (None, 256)              1024      \n",
            " chNormalization)                                                \n",
            "                                                                 \n",
            " dropout_15 (Dropout)        (None, 256)               0         \n",
            "                                                                 \n",
            " dense_23 (Dense)            (None, 5)                 1285      \n",
            "                                                                 \n",
            "=================================================================\n",
            "Total params: 1,762,613\n",
            "Trainable params: 1,761,109\n",
            "Non-trainable params: 1,504\n",
            "_________________________________________________________________\n"
          ]
        }
      ],
      "source": [
        "# getting the conv3d model\n",
        "conv_3d3=ModelConv3D3()\n",
        "# initializing paths\n",
        "conv_3d3.initialize_path(project_folder)\n",
        "# initialing the image properties\n",
        "conv_3d3.initialize_image_properties(image_height=120,image_width=120)\n",
        "# initilizing hyper parameters\n",
        "conv_3d3.initialize_hyperparams(frames_to_sample=16,batch_size=30,num_epochs=30)\n",
        "# defining the model\n",
        "conv_3d3_model=conv_3d3.define_model(filtersize=(2,2,2),dense_neurons=256,dropout=0.5)\n",
        "# printing the model summary\n",
        "conv_3d3_model.summary()"
      ]
    },
    {
      "cell_type": "code",
      "execution_count": null,
      "metadata": {
        "id": "HWisq3XCNyoe",
        "outputId": "e854638d-8554-4296-83e5-7d8c38156f0b"
      },
      "outputs": [
        {
          "name": "stdout",
          "output_type": "stream",
          "text": [
            "Total Params: 1762613\n",
            "WARNING:tensorflow:`period` argument is deprecated. Please use `save_freq` to specify the frequency in number of batches seen.\n",
            "Epoch 1/30\n",
            "23/23 [==============================] - ETA: 0s - loss: 2.1454 - categorical_accuracy: 0.3160\n",
            "Epoch 00001: saving model to model_init_2022-05-1808_15_05.197299/model-00001-2.14542-0.31599-1.76026-0.20000.h5\n",
            "23/23 [==============================] - 155s 7s/step - loss: 2.1454 - categorical_accuracy: 0.3160 - val_loss: 1.7603 - val_categorical_accuracy: 0.2000 - lr: 2.0000e-04\n",
            "Epoch 2/30\n",
            "23/23 [==============================] - ETA: 0s - loss: 1.5244 - categorical_accuracy: 0.4789\n",
            "Epoch 00002: saving model to model_init_2022-05-1808_15_05.197299/model-00002-1.52442-0.47888-2.13973-0.19000.h5\n",
            "23/23 [==============================] - 157s 7s/step - loss: 1.5244 - categorical_accuracy: 0.4789 - val_loss: 2.1397 - val_categorical_accuracy: 0.1900 - lr: 2.0000e-04\n",
            "Epoch 3/30\n",
            "23/23 [==============================] - ETA: 0s - loss: 1.2171 - categorical_accuracy: 0.5573\n",
            "Epoch 00003: saving model to model_init_2022-05-1808_15_05.197299/model-00003-1.21714-0.55732-2.86319-0.18000.h5\n",
            "23/23 [==============================] - 153s 7s/step - loss: 1.2171 - categorical_accuracy: 0.5573 - val_loss: 2.8632 - val_categorical_accuracy: 0.1800 - lr: 2.0000e-04\n",
            "Epoch 4/30\n",
            "23/23 [==============================] - ETA: 0s - loss: 1.0348 - categorical_accuracy: 0.6282\n",
            "Epoch 00004: saving model to model_init_2022-05-1808_15_05.197299/model-00004-1.03485-0.62821-3.72491-0.15000.h5\n",
            "23/23 [==============================] - 152s 7s/step - loss: 1.0348 - categorical_accuracy: 0.6282 - val_loss: 3.7249 - val_categorical_accuracy: 0.1500 - lr: 2.0000e-04\n",
            "Epoch 5/30\n",
            "23/23 [==============================] - ETA: 0s - loss: 0.9364 - categorical_accuracy: 0.6584\n",
            "Epoch 00005: saving model to model_init_2022-05-1808_15_05.197299/model-00005-0.93643-0.65837-3.97613-0.23000.h5\n",
            "\n",
            "Epoch 00005: ReduceLROnPlateau reducing learning rate to 3.9999998989515007e-05.\n",
            "23/23 [==============================] - 155s 7s/step - loss: 0.9364 - categorical_accuracy: 0.6584 - val_loss: 3.9761 - val_categorical_accuracy: 0.2300 - lr: 2.0000e-04\n",
            "Epoch 6/30\n",
            "23/23 [==============================] - ETA: 0s - loss: 0.8893 - categorical_accuracy: 0.6885\n",
            "Epoch 00006: saving model to model_init_2022-05-1808_15_05.197299/model-00006-0.88933-0.68854-4.07495-0.29000.h5\n",
            "23/23 [==============================] - 153s 7s/step - loss: 0.8893 - categorical_accuracy: 0.6885 - val_loss: 4.0750 - val_categorical_accuracy: 0.2900 - lr: 4.0000e-05\n",
            "Epoch 7/30\n",
            "23/23 [==============================] - ETA: 0s - loss: 0.8079 - categorical_accuracy: 0.7051\n",
            "Epoch 00007: saving model to model_init_2022-05-1808_15_05.197299/model-00007-0.80793-0.70513-4.96472-0.20000.h5\n",
            "23/23 [==============================] - 153s 7s/step - loss: 0.8079 - categorical_accuracy: 0.7051 - val_loss: 4.9647 - val_categorical_accuracy: 0.2000 - lr: 4.0000e-05\n",
            "Epoch 8/30\n",
            "23/23 [==============================] - ETA: 0s - loss: 0.8048 - categorical_accuracy: 0.6983\n",
            "Epoch 00008: saving model to model_init_2022-05-1808_15_05.197299/model-00008-0.80477-0.69834-5.07650-0.25000.h5\n",
            "23/23 [==============================] - 155s 7s/step - loss: 0.8048 - categorical_accuracy: 0.6983 - val_loss: 5.0765 - val_categorical_accuracy: 0.2500 - lr: 4.0000e-05\n",
            "Epoch 9/30\n",
            "23/23 [==============================] - ETA: 0s - loss: 0.7556 - categorical_accuracy: 0.7345\n",
            "Epoch 00009: saving model to model_init_2022-05-1808_15_05.197299/model-00009-0.75563-0.73454-5.64688-0.26000.h5\n",
            "\n",
            "Epoch 00009: ReduceLROnPlateau reducing learning rate to 7.999999797903002e-06.\n",
            "23/23 [==============================] - 156s 7s/step - loss: 0.7556 - categorical_accuracy: 0.7345 - val_loss: 5.6469 - val_categorical_accuracy: 0.2600 - lr: 4.0000e-05\n",
            "Epoch 10/30\n",
            "23/23 [==============================] - ETA: 0s - loss: 0.7313 - categorical_accuracy: 0.7202\n",
            "Epoch 00010: saving model to model_init_2022-05-1808_15_05.197299/model-00010-0.73128-0.72021-5.89510-0.25000.h5\n",
            "23/23 [==============================] - 157s 7s/step - loss: 0.7313 - categorical_accuracy: 0.7202 - val_loss: 5.8951 - val_categorical_accuracy: 0.2500 - lr: 8.0000e-06\n",
            "Epoch 11/30\n",
            "23/23 [==============================] - ETA: 0s - loss: 0.7996 - categorical_accuracy: 0.7074\n",
            "Epoch 00011: saving model to model_init_2022-05-1808_15_05.197299/model-00011-0.79955-0.70739-5.81122-0.28000.h5\n",
            "23/23 [==============================] - 155s 7s/step - loss: 0.7996 - categorical_accuracy: 0.7074 - val_loss: 5.8112 - val_categorical_accuracy: 0.2800 - lr: 8.0000e-06\n",
            "Epoch 12/30\n",
            "23/23 [==============================] - ETA: 0s - loss: 0.8041 - categorical_accuracy: 0.7021\n",
            "Epoch 00012: saving model to model_init_2022-05-1808_15_05.197299/model-00012-0.80415-0.70211-6.01454-0.25000.h5\n",
            "23/23 [==============================] - 150s 7s/step - loss: 0.8041 - categorical_accuracy: 0.7021 - val_loss: 6.0145 - val_categorical_accuracy: 0.2500 - lr: 8.0000e-06\n",
            "Epoch 13/30\n",
            "23/23 [==============================] - ETA: 0s - loss: 0.7389 - categorical_accuracy: 0.7225\n",
            "Epoch 00013: saving model to model_init_2022-05-1808_15_05.197299/model-00013-0.73885-0.72247-5.80260-0.28000.h5\n",
            "\n",
            "Epoch 00013: ReduceLROnPlateau reducing learning rate to 1.5999999959603884e-06.\n",
            "23/23 [==============================] - 155s 7s/step - loss: 0.7389 - categorical_accuracy: 0.7225 - val_loss: 5.8026 - val_categorical_accuracy: 0.2800 - lr: 8.0000e-06\n",
            "Epoch 14/30\n",
            "23/23 [==============================] - ETA: 0s - loss: 0.7501 - categorical_accuracy: 0.7179\n",
            "Epoch 00014: saving model to model_init_2022-05-1808_15_05.197299/model-00014-0.75013-0.71795-5.60789-0.28000.h5\n",
            "23/23 [==============================] - 157s 7s/step - loss: 0.7501 - categorical_accuracy: 0.7179 - val_loss: 5.6079 - val_categorical_accuracy: 0.2800 - lr: 1.6000e-06\n",
            "Epoch 15/30\n",
            "23/23 [==============================] - ETA: 0s - loss: 0.7934 - categorical_accuracy: 0.7262\n",
            "Epoch 00015: saving model to model_init_2022-05-1808_15_05.197299/model-00015-0.79344-0.72624-5.35351-0.30000.h5\n",
            "23/23 [==============================] - 156s 7s/step - loss: 0.7934 - categorical_accuracy: 0.7262 - val_loss: 5.3535 - val_categorical_accuracy: 0.3000 - lr: 1.6000e-06\n",
            "Epoch 16/30\n",
            "23/23 [==============================] - ETA: 0s - loss: 0.7094 - categorical_accuracy: 0.7398\n",
            "Epoch 00016: saving model to model_init_2022-05-1808_15_05.197299/model-00016-0.70944-0.73982-5.03600-0.29000.h5\n",
            "23/23 [==============================] - 155s 7s/step - loss: 0.7094 - categorical_accuracy: 0.7398 - val_loss: 5.0360 - val_categorical_accuracy: 0.2900 - lr: 1.6000e-06\n",
            "Epoch 17/30\n",
            "23/23 [==============================] - ETA: 0s - loss: 0.7458 - categorical_accuracy: 0.7413\n",
            "Epoch 00017: saving model to model_init_2022-05-1808_15_05.197299/model-00017-0.74577-0.74133-4.40026-0.32000.h5\n",
            "\n",
            "Epoch 00017: ReduceLROnPlateau reducing learning rate to 3.200000037395512e-07.\n",
            "23/23 [==============================] - 155s 7s/step - loss: 0.7458 - categorical_accuracy: 0.7413 - val_loss: 4.4003 - val_categorical_accuracy: 0.3200 - lr: 1.6000e-06\n",
            "Epoch 18/30\n",
            "23/23 [==============================] - ETA: 0s - loss: 0.7354 - categorical_accuracy: 0.7225\n",
            "Epoch 00018: saving model to model_init_2022-05-1808_15_05.197299/model-00018-0.73542-0.72247-3.55210-0.39000.h5\n",
            "23/23 [==============================] - 158s 7s/step - loss: 0.7354 - categorical_accuracy: 0.7225 - val_loss: 3.5521 - val_categorical_accuracy: 0.3900 - lr: 3.2000e-07\n",
            "Epoch 19/30\n",
            "23/23 [==============================] - ETA: 0s - loss: 0.7623 - categorical_accuracy: 0.7127\n",
            "Epoch 00019: saving model to model_init_2022-05-1808_15_05.197299/model-00019-0.76232-0.71267-3.36152-0.33000.h5\n",
            "23/23 [==============================] - 156s 7s/step - loss: 0.7623 - categorical_accuracy: 0.7127 - val_loss: 3.3615 - val_categorical_accuracy: 0.3300 - lr: 3.2000e-07\n",
            "Epoch 20/30\n",
            "23/23 [==============================] - ETA: 0s - loss: 0.7486 - categorical_accuracy: 0.7142\n",
            "Epoch 00020: saving model to model_init_2022-05-1808_15_05.197299/model-00020-0.74864-0.71418-3.18580-0.32000.h5\n",
            "23/23 [==============================] - 151s 7s/step - loss: 0.7486 - categorical_accuracy: 0.7142 - val_loss: 3.1858 - val_categorical_accuracy: 0.3200 - lr: 3.2000e-07\n",
            "Epoch 21/30\n",
            "23/23 [==============================] - ETA: 0s - loss: 0.7552 - categorical_accuracy: 0.7353\n",
            "Epoch 00021: saving model to model_init_2022-05-1808_15_05.197299/model-00021-0.75524-0.73529-2.79165-0.35000.h5\n",
            "\n",
            "Epoch 00021: ReduceLROnPlateau reducing learning rate to 6.399999961104187e-08.\n",
            "23/23 [==============================] - 158s 7s/step - loss: 0.7552 - categorical_accuracy: 0.7353 - val_loss: 2.7916 - val_categorical_accuracy: 0.3500 - lr: 3.2000e-07\n",
            "Epoch 22/30\n",
            "23/23 [==============================] - ETA: 0s - loss: 0.7900 - categorical_accuracy: 0.7134\n",
            "Epoch 00022: saving model to model_init_2022-05-1808_15_05.197299/model-00022-0.78999-0.71342-2.16001-0.47000.h5\n",
            "23/23 [==============================] - 156s 7s/step - loss: 0.7900 - categorical_accuracy: 0.7134 - val_loss: 2.1600 - val_categorical_accuracy: 0.4700 - lr: 6.4000e-08\n",
            "Epoch 23/30\n",
            "23/23 [==============================] - ETA: 0s - loss: 0.7822 - categorical_accuracy: 0.7134\n",
            "Epoch 00023: saving model to model_init_2022-05-1808_15_05.197299/model-00023-0.78220-0.71342-2.21346-0.42000.h5\n",
            "23/23 [==============================] - 156s 7s/step - loss: 0.7822 - categorical_accuracy: 0.7134 - val_loss: 2.2135 - val_categorical_accuracy: 0.4200 - lr: 6.4000e-08\n",
            "Epoch 24/30\n",
            "23/23 [==============================] - ETA: 0s - loss: 0.7683 - categorical_accuracy: 0.7172\n",
            "Epoch 00024: saving model to model_init_2022-05-1808_15_05.197299/model-00024-0.76833-0.71719-1.96559-0.42000.h5\n",
            "23/23 [==============================] - 152s 7s/step - loss: 0.7683 - categorical_accuracy: 0.7172 - val_loss: 1.9656 - val_categorical_accuracy: 0.4200 - lr: 6.4000e-08\n",
            "Epoch 25/30\n",
            "23/23 [==============================] - ETA: 0s - loss: 0.7518 - categorical_accuracy: 0.7247\n",
            "Epoch 00025: saving model to model_init_2022-05-1808_15_05.197299/model-00025-0.75181-0.72474-1.66137-0.48000.h5\n",
            "23/23 [==============================] - 155s 7s/step - loss: 0.7518 - categorical_accuracy: 0.7247 - val_loss: 1.6614 - val_categorical_accuracy: 0.4800 - lr: 6.4000e-08\n",
            "Epoch 26/30\n",
            "23/23 [==============================] - ETA: 0s - loss: 0.7531 - categorical_accuracy: 0.7232\n",
            "Epoch 00026: saving model to model_init_2022-05-1808_15_05.197299/model-00026-0.75306-0.72323-1.52717-0.57000.h5\n",
            "23/23 [==============================] - 159s 7s/step - loss: 0.7531 - categorical_accuracy: 0.7232 - val_loss: 1.5272 - val_categorical_accuracy: 0.5700 - lr: 6.4000e-08\n",
            "Epoch 27/30\n",
            "23/23 [==============================] - ETA: 0s - loss: 0.7532 - categorical_accuracy: 0.7240\n",
            "Epoch 00027: saving model to model_init_2022-05-1808_15_05.197299/model-00027-0.75323-0.72398-1.25311-0.61000.h5\n",
            "23/23 [==============================] - 155s 7s/step - loss: 0.7532 - categorical_accuracy: 0.7240 - val_loss: 1.2531 - val_categorical_accuracy: 0.6100 - lr: 6.4000e-08\n",
            "Epoch 28/30\n",
            "23/23 [==============================] - ETA: 0s - loss: 0.7149 - categorical_accuracy: 0.7526\n",
            "Epoch 00028: saving model to model_init_2022-05-1808_15_05.197299/model-00028-0.71485-0.75264-1.09134-0.69000.h5\n",
            "23/23 [==============================] - 155s 7s/step - loss: 0.7149 - categorical_accuracy: 0.7526 - val_loss: 1.0913 - val_categorical_accuracy: 0.6900 - lr: 6.4000e-08\n",
            "Epoch 29/30\n",
            "23/23 [==============================] - ETA: 0s - loss: 0.7515 - categorical_accuracy: 0.7285\n",
            "Epoch 00029: saving model to model_init_2022-05-1808_15_05.197299/model-00029-0.75146-0.72851-1.06230-0.68000.h5\n",
            "23/23 [==============================] - 157s 7s/step - loss: 0.7515 - categorical_accuracy: 0.7285 - val_loss: 1.0623 - val_categorical_accuracy: 0.6800 - lr: 6.4000e-08\n",
            "Epoch 30/30\n",
            "23/23 [==============================] - ETA: 0s - loss: 0.7117 - categorical_accuracy: 0.7436\n",
            "Epoch 00030: saving model to model_init_2022-05-1808_15_05.197299/model-00030-0.71168-0.74359-1.10586-0.74000.h5\n",
            "23/23 [==============================] - 156s 7s/step - loss: 0.7117 - categorical_accuracy: 0.7436 - val_loss: 1.1059 - val_categorical_accuracy: 0.7400 - lr: 6.4000e-08\n"
          ]
        }
      ],
      "source": [
        "print(\"Total Params:\", conv_3d3_model.count_params())\n",
        "# training the model\n",
        "history_model3=conv_3d3.train_model(conv_3d3_model,augment_data=True)"
      ]
    },
    {
      "cell_type": "code",
      "execution_count": null,
      "metadata": {
        "id": "qOdsyWBLNyoe",
        "outputId": "14a2fde8-c3c1-421e-c9e2-083131c25272"
      },
      "outputs": [
        {
          "data": {
            "image/png": "[encoded data removed]",
            "text/plain": [
              "<Figure size 1080x288 with 2 Axes>"
            ]
          },
          "metadata": {
            "needs_background": "light"
          },
          "output_type": "display_data"
        }
      ],
      "source": [
        "# plotting the training history\n",
        "plot(history_model3)"
      ]
    },
    {
      "cell_type": "markdown",
      "metadata": {
        "id": "uL-n0KNLNyoe"
      },
      "source": [
        "Model has a final validation accuracy of 74.36% and training accuracy of 74% . Also we were able to reduce the parameter size by half the earlier model.\n",
        "\n",
        "> model final accuracy is matching but the initial accuracy is not near"
      ]
    },
    {
      "cell_type": "markdown",
      "metadata": {
        "id": "8OBCWigANyoe"
      },
      "source": [
        "## Model 4 - Adding more layers"
      ]
    },
    {
      "cell_type": "code",
      "execution_count": null,
      "metadata": {
        "id": "shhmQE6gNyoe"
      },
      "outputs": [],
      "source": [
        "class ModelConv3D4(ModelBuilder):\n",
        "    \n",
        "    def define_model(self,filtersize=(3,3,3),dense_neurons=64,dropout=0.25):\n",
        "\n",
        "        model = Sequential()\n",
        "        model.add(Conv3D(16, filtersize, padding='same',\n",
        "                 input_shape=(self.frames_to_sample,self.image_height,self.image_width,self.channels)))\n",
        "        model.add(Activation('relu'))\n",
        "        model.add(BatchNormalization())\n",
        "        \n",
        "        model.add(Conv3D(16, filtersize, padding='same',\n",
        "                 input_shape=(self.frames_to_sample,self.image_height,self.image_width,self.channels)))\n",
        "        model.add(Activation('relu'))\n",
        "        model.add(BatchNormalization())\n",
        "        \n",
        "        model.add(MaxPooling3D(pool_size=(2, 2, 2)))\n",
        "\n",
        "        model.add(Conv3D(32, filtersize, padding='same'))\n",
        "        model.add(Activation('relu'))\n",
        "        model.add(BatchNormalization())\n",
        "        \n",
        "        model.add(Conv3D(32, filtersize, padding='same'))\n",
        "        model.add(Activation('relu'))\n",
        "        model.add(BatchNormalization())\n",
        "        \n",
        "        model.add(MaxPooling3D(pool_size=(2, 2, 2)))\n",
        "\n",
        "        model.add(Conv3D(64, filtersize, padding='same'))\n",
        "        model.add(Activation('relu'))\n",
        "        model.add(BatchNormalization())\n",
        "        \n",
        "        model.add(Conv3D(64, filtersize, padding='same'))\n",
        "        model.add(Activation('relu'))\n",
        "        model.add(BatchNormalization())\n",
        "        \n",
        "        model.add(MaxPooling3D(pool_size=(2, 2, 2)))\n",
        "\n",
        "        model.add(Conv3D(128, filtersize, padding='same'))\n",
        "        model.add(Activation('relu'))\n",
        "        model.add(BatchNormalization())\n",
        "        \n",
        "        model.add(Conv3D(128, filtersize, padding='same'))\n",
        "        model.add(Activation('relu'))\n",
        "        model.add(BatchNormalization())\n",
        "        \n",
        "        model.add(MaxPooling3D(pool_size=(2, 2, 2)))\n",
        "        \n",
        "\n",
        "        model.add(Flatten())\n",
        "        model.add(Dense(dense_neurons,activation='relu'))\n",
        "        model.add(BatchNormalization())\n",
        "        model.add(Dropout(dropout))\n",
        "\n",
        "        model.add(Dense(dense_neurons,activation='relu'))\n",
        "        model.add(BatchNormalization())\n",
        "        model.add(Dropout(dropout))\n",
        "\n",
        "\n",
        "        model.add(Dense(self.num_classes,activation='softmax'))\n",
        "\n",
        "        optimiser = optimizers.Adam()\n",
        "        model.compile(optimizer=optimiser, loss='categorical_crossentropy', metrics=['categorical_accuracy'])\n",
        "        return model"
      ]
    },
    {
      "cell_type": "code",
      "execution_count": null,
      "metadata": {
        "id": "2UjZ6W3FNyoe",
        "outputId": "1115d9b3-0dbf-496b-9f96-80f8e476fd4f"
      },
      "outputs": [
        {
          "name": "stdout",
          "output_type": "stream",
          "text": [
            "Model: \"sequential_8\"\n",
            "_________________________________________________________________\n",
            " Layer (type)                Output Shape              Param #   \n",
            "=================================================================\n",
            " conv3d_32 (Conv3D)          (None, 16, 120, 120, 16)  1312      \n",
            "                                                                 \n",
            " activation_32 (Activation)  (None, 16, 120, 120, 16)  0         \n",
            "                                                                 \n",
            " batch_normalization_48 (Bat  (None, 16, 120, 120, 16)  64       \n",
            " chNormalization)                                                \n",
            "                                                                 \n",
            " conv3d_33 (Conv3D)          (None, 16, 120, 120, 16)  6928      \n",
            "                                                                 \n",
            " activation_33 (Activation)  (None, 16, 120, 120, 16)  0         \n",
            "                                                                 \n",
            " batch_normalization_49 (Bat  (None, 16, 120, 120, 16)  64       \n",
            " chNormalization)                                                \n",
            "                                                                 \n",
            " max_pooling3d_32 (MaxPoolin  (None, 8, 60, 60, 16)    0         \n",
            " g3D)                                                            \n",
            "                                                                 \n",
            " conv3d_34 (Conv3D)          (None, 8, 60, 60, 32)     13856     \n",
            "                                                                 \n",
            " activation_34 (Activation)  (None, 8, 60, 60, 32)     0         \n",
            "                                                                 \n",
            " batch_normalization_50 (Bat  (None, 8, 60, 60, 32)    128       \n",
            " chNormalization)                                                \n",
            "                                                                 \n",
            " conv3d_35 (Conv3D)          (None, 8, 60, 60, 32)     27680     \n",
            "                                                                 \n",
            " activation_35 (Activation)  (None, 8, 60, 60, 32)     0         \n",
            "                                                                 \n",
            " batch_normalization_51 (Bat  (None, 8, 60, 60, 32)    128       \n",
            " chNormalization)                                                \n",
            "                                                                 \n",
            " max_pooling3d_33 (MaxPoolin  (None, 4, 30, 30, 32)    0         \n",
            " g3D)                                                            \n",
            "                                                                 \n",
            " conv3d_36 (Conv3D)          (None, 4, 30, 30, 64)     55360     \n",
            "                                                                 \n",
            " activation_36 (Activation)  (None, 4, 30, 30, 64)     0         \n",
            "                                                                 \n",
            " batch_normalization_52 (Bat  (None, 4, 30, 30, 64)    256       \n",
            " chNormalization)                                                \n",
            "                                                                 \n",
            " conv3d_37 (Conv3D)          (None, 4, 30, 30, 64)     110656    \n",
            "                                                                 \n",
            " activation_37 (Activation)  (None, 4, 30, 30, 64)     0         \n",
            "                                                                 \n",
            " batch_normalization_53 (Bat  (None, 4, 30, 30, 64)    256       \n",
            " chNormalization)                                                \n",
            "                                                                 \n",
            " max_pooling3d_34 (MaxPoolin  (None, 2, 15, 15, 64)    0         \n",
            " g3D)                                                            \n",
            "                                                                 \n",
            " conv3d_38 (Conv3D)          (None, 2, 15, 15, 128)    221312    \n",
            "                                                                 \n",
            " activation_38 (Activation)  (None, 2, 15, 15, 128)    0         \n",
            "                                                                 \n",
            " batch_normalization_54 (Bat  (None, 2, 15, 15, 128)   512       \n",
            " chNormalization)                                                \n",
            "                                                                 \n",
            " conv3d_39 (Conv3D)          (None, 2, 15, 15, 128)    442496    \n",
            "                                                                 \n",
            " activation_39 (Activation)  (None, 2, 15, 15, 128)    0         \n",
            "                                                                 \n",
            " batch_normalization_55 (Bat  (None, 2, 15, 15, 128)   512       \n",
            " chNormalization)                                                \n",
            "                                                                 \n",
            " max_pooling3d_35 (MaxPoolin  (None, 1, 7, 7, 128)     0         \n",
            " g3D)                                                            \n",
            "                                                                 \n",
            " flatten_8 (Flatten)         (None, 6272)              0         \n",
            "                                                                 \n",
            " dense_24 (Dense)            (None, 256)               1605888   \n",
            "                                                                 \n",
            " batch_normalization_56 (Bat  (None, 256)              1024      \n",
            " chNormalization)                                                \n",
            "                                                                 \n",
            " dropout_16 (Dropout)        (None, 256)               0         \n",
            "                                                                 \n",
            " dense_25 (Dense)            (None, 256)               65792     \n",
            "                                                                 \n",
            " batch_normalization_57 (Bat  (None, 256)              1024      \n",
            " chNormalization)                                                \n",
            "                                                                 \n",
            " dropout_17 (Dropout)        (None, 256)               0         \n",
            "                                                                 \n",
            " dense_26 (Dense)            (None, 5)                 1285      \n",
            "                                                                 \n",
            "=================================================================\n",
            "Total params: 2,556,533\n",
            "Trainable params: 2,554,549\n",
            "Non-trainable params: 1,984\n",
            "_________________________________________________________________\n"
          ]
        }
      ],
      "source": [
        "# getting conv3d model \n",
        "conv_3d4=ModelConv3D4()\n",
        "# initializing the paths\n",
        "conv_3d4.initialize_path(project_folder)\n",
        "# initializing the image properties\n",
        "conv_3d4.initialize_image_properties(image_height=120,image_width=120)\n",
        "# initializing the hyper parameters\n",
        "conv_3d4.initialize_hyperparams(frames_to_sample=16,batch_size=20,num_epochs=30)\n",
        "# defining the model \n",
        "conv_3d4_model=conv_3d4.define_model(filtersize=(3,3,3),dense_neurons=256,dropout=0.5)\n",
        "# printing the model\n",
        "conv_3d4_model.summary()"
      ]
    },
    {
      "cell_type": "code",
      "execution_count": null,
      "metadata": {
        "id": "5PM_CcN8Nyoe",
        "outputId": "52091019-3152-4e26-cfda-9b716689a931"
      },
      "outputs": [
        {
          "name": "stdout",
          "output_type": "stream",
          "text": [
            "Total Params: 2556533\n",
            "WARNING:tensorflow:`period` argument is deprecated. Please use `save_freq` to specify the frequency in number of batches seen.\n",
            "Epoch 1/30\n",
            "34/34 [==============================] - ETA: 0s - loss: 1.9840 - categorical_accuracy: 0.3718\n",
            "Epoch 00001: saving model to model_init_2022-05-1809_32_46.199928/model-00001-1.98402-0.37179-5.46319-0.18000.h5\n",
            "34/34 [==============================] - 163s 5s/step - loss: 1.9840 - categorical_accuracy: 0.3718 - val_loss: 5.4632 - val_categorical_accuracy: 0.1800 - lr: 0.0010\n",
            "Epoch 2/30\n",
            "34/34 [==============================] - ETA: 0s - loss: 1.4959 - categorical_accuracy: 0.4992\n",
            "Epoch 00002: saving model to model_init_2022-05-1809_32_46.199928/model-00002-1.49593-0.49925-2.92866-0.29000.h5\n",
            "34/34 [==============================] - 156s 5s/step - loss: 1.4959 - categorical_accuracy: 0.4992 - val_loss: 2.9287 - val_categorical_accuracy: 0.2900 - lr: 0.0010\n",
            "Epoch 3/30\n",
            "34/34 [==============================] - ETA: 0s - loss: 1.3839 - categorical_accuracy: 0.5189\n",
            "Epoch 00003: saving model to model_init_2022-05-1809_32_46.199928/model-00003-1.38386-0.51885-5.64482-0.20000.h5\n",
            "34/34 [==============================] - 152s 5s/step - loss: 1.3839 - categorical_accuracy: 0.5189 - val_loss: 5.6448 - val_categorical_accuracy: 0.2000 - lr: 0.0010\n",
            "Epoch 4/30\n",
            "34/34 [==============================] - ETA: 0s - loss: 1.2967 - categorical_accuracy: 0.5460\n",
            "Epoch 00004: saving model to model_init_2022-05-1809_32_46.199928/model-00004-1.29672-0.54600-3.52763-0.25000.h5\n",
            "34/34 [==============================] - 155s 5s/step - loss: 1.2967 - categorical_accuracy: 0.5460 - val_loss: 3.5276 - val_categorical_accuracy: 0.2500 - lr: 0.0010\n",
            "Epoch 5/30\n",
            "34/34 [==============================] - ETA: 0s - loss: 1.1554 - categorical_accuracy: 0.5867\n",
            "Epoch 00005: saving model to model_init_2022-05-1809_32_46.199928/model-00005-1.15537-0.58673-3.43761-0.29000.h5\n",
            "34/34 [==============================] - 158s 5s/step - loss: 1.1554 - categorical_accuracy: 0.5867 - val_loss: 3.4376 - val_categorical_accuracy: 0.2900 - lr: 0.0010\n",
            "Epoch 6/30\n",
            "34/34 [==============================] - ETA: 0s - loss: 0.9928 - categorical_accuracy: 0.6433\n",
            "Epoch 00006: saving model to model_init_2022-05-1809_32_46.199928/model-00006-0.99279-0.64329-5.23819-0.21000.h5\n",
            "\n",
            "Epoch 00006: ReduceLROnPlateau reducing learning rate to 0.00020000000949949026.\n",
            "34/34 [==============================] - 158s 5s/step - loss: 0.9928 - categorical_accuracy: 0.6433 - val_loss: 5.2382 - val_categorical_accuracy: 0.2100 - lr: 0.0010\n",
            "Epoch 7/30\n",
            "34/34 [==============================] - ETA: 0s - loss: 0.8926 - categorical_accuracy: 0.6900\n",
            "Epoch 00007: saving model to model_init_2022-05-1809_32_46.199928/model-00007-0.89255-0.69005-4.23666-0.24000.h5\n",
            "34/34 [==============================] - 159s 5s/step - loss: 0.8926 - categorical_accuracy: 0.6900 - val_loss: 4.2367 - val_categorical_accuracy: 0.2400 - lr: 2.0000e-04\n",
            "Epoch 8/30\n",
            "34/34 [==============================] - ETA: 0s - loss: 0.7366 - categorical_accuracy: 0.7210\n",
            "Epoch 00008: saving model to model_init_2022-05-1809_32_46.199928/model-00008-0.73659-0.72097-3.02894-0.30000.h5\n",
            "34/34 [==============================] - 156s 5s/step - loss: 0.7366 - categorical_accuracy: 0.7210 - val_loss: 3.0289 - val_categorical_accuracy: 0.3000 - lr: 2.0000e-04\n",
            "Epoch 9/30\n",
            "34/34 [==============================] - ETA: 0s - loss: 0.7309 - categorical_accuracy: 0.7262\n",
            "Epoch 00009: saving model to model_init_2022-05-1809_32_46.199928/model-00009-0.73090-0.72624-2.92574-0.30000.h5\n",
            "34/34 [==============================] - 159s 5s/step - loss: 0.7309 - categorical_accuracy: 0.7262 - val_loss: 2.9257 - val_categorical_accuracy: 0.3000 - lr: 2.0000e-04\n",
            "Epoch 10/30\n",
            "34/34 [==============================] - ETA: 0s - loss: 0.7135 - categorical_accuracy: 0.7270\n",
            "Epoch 00010: saving model to model_init_2022-05-1809_32_46.199928/model-00010-0.71349-0.72700-2.23889-0.37000.h5\n",
            "34/34 [==============================] - 159s 5s/step - loss: 0.7135 - categorical_accuracy: 0.7270 - val_loss: 2.2389 - val_categorical_accuracy: 0.3700 - lr: 2.0000e-04\n",
            "Epoch 11/30\n",
            "34/34 [==============================] - ETA: 0s - loss: 0.7817 - categorical_accuracy: 0.7029\n",
            "Epoch 00011: saving model to model_init_2022-05-1809_32_46.199928/model-00011-0.78171-0.70287-1.85073-0.42000.h5\n",
            "34/34 [==============================] - 158s 5s/step - loss: 0.7817 - categorical_accuracy: 0.7029 - val_loss: 1.8507 - val_categorical_accuracy: 0.4200 - lr: 2.0000e-04\n",
            "Epoch 12/30\n",
            "34/34 [==============================] - ETA: 0s - loss: 0.6863 - categorical_accuracy: 0.7383\n",
            "Epoch 00012: saving model to model_init_2022-05-1809_32_46.199928/model-00012-0.68634-0.73831-1.42019-0.54000.h5\n",
            "34/34 [==============================] - 159s 5s/step - loss: 0.6863 - categorical_accuracy: 0.7383 - val_loss: 1.4202 - val_categorical_accuracy: 0.5400 - lr: 2.0000e-04\n",
            "Epoch 13/30\n",
            "34/34 [==============================] - ETA: 0s - loss: 0.6466 - categorical_accuracy: 0.7541\n",
            "Epoch 00013: saving model to model_init_2022-05-1809_32_46.199928/model-00013-0.64663-0.75415-1.25714-0.61000.h5\n",
            "34/34 [==============================] - 159s 5s/step - loss: 0.6466 - categorical_accuracy: 0.7541 - val_loss: 1.2571 - val_categorical_accuracy: 0.6100 - lr: 2.0000e-04\n",
            "Epoch 14/30\n",
            "34/34 [==============================] - ETA: 0s - loss: 0.6014 - categorical_accuracy: 0.7730\n",
            "Epoch 00014: saving model to model_init_2022-05-1809_32_46.199928/model-00014-0.60142-0.77300-1.10790-0.59000.h5\n",
            "34/34 [==============================] - 158s 5s/step - loss: 0.6014 - categorical_accuracy: 0.7730 - val_loss: 1.1079 - val_categorical_accuracy: 0.5900 - lr: 2.0000e-04\n",
            "Epoch 15/30\n",
            "34/34 [==============================] - ETA: 0s - loss: 0.5870 - categorical_accuracy: 0.7851\n",
            "Epoch 00015: saving model to model_init_2022-05-1809_32_46.199928/model-00015-0.58700-0.78507-1.09685-0.61000.h5\n",
            "34/34 [==============================] - 158s 5s/step - loss: 0.5870 - categorical_accuracy: 0.7851 - val_loss: 1.0969 - val_categorical_accuracy: 0.6100 - lr: 2.0000e-04\n",
            "Epoch 16/30\n",
            "34/34 [==============================] - ETA: 0s - loss: 0.5648 - categorical_accuracy: 0.7903\n",
            "Epoch 00016: saving model to model_init_2022-05-1809_32_46.199928/model-00016-0.56482-0.79035-1.03177-0.65000.h5\n",
            "34/34 [==============================] - 160s 5s/step - loss: 0.5648 - categorical_accuracy: 0.7903 - val_loss: 1.0318 - val_categorical_accuracy: 0.6500 - lr: 2.0000e-04\n",
            "Epoch 17/30\n",
            "34/34 [==============================] - ETA: 0s - loss: 0.5396 - categorical_accuracy: 0.7956\n",
            "Epoch 00017: saving model to model_init_2022-05-1809_32_46.199928/model-00017-0.53959-0.79563-1.55597-0.55000.h5\n",
            "34/34 [==============================] - 159s 5s/step - loss: 0.5396 - categorical_accuracy: 0.7956 - val_loss: 1.5560 - val_categorical_accuracy: 0.5500 - lr: 2.0000e-04\n",
            "Epoch 18/30\n",
            "34/34 [==============================] - ETA: 0s - loss: 0.4830 - categorical_accuracy: 0.8243\n",
            "Epoch 00018: saving model to model_init_2022-05-1809_32_46.199928/model-00018-0.48300-0.82428-1.14360-0.62000.h5\n",
            "34/34 [==============================] - 158s 5s/step - loss: 0.4830 - categorical_accuracy: 0.8243 - val_loss: 1.1436 - val_categorical_accuracy: 0.6200 - lr: 2.0000e-04\n",
            "Epoch 19/30\n",
            "34/34 [==============================] - ETA: 0s - loss: 0.4845 - categorical_accuracy: 0.8152\n",
            "Epoch 00019: saving model to model_init_2022-05-1809_32_46.199928/model-00019-0.48452-0.81523-1.23791-0.64000.h5\n",
            "34/34 [==============================] - 158s 5s/step - loss: 0.4845 - categorical_accuracy: 0.8152 - val_loss: 1.2379 - val_categorical_accuracy: 0.6400 - lr: 2.0000e-04\n",
            "Epoch 20/30\n",
            "34/34 [==============================] - ETA: 0s - loss: 0.4296 - categorical_accuracy: 0.8318\n",
            "Epoch 00020: saving model to model_init_2022-05-1809_32_46.199928/model-00020-0.42956-0.83183-0.79766-0.74000.h5\n",
            "34/34 [==============================] - 155s 5s/step - loss: 0.4296 - categorical_accuracy: 0.8318 - val_loss: 0.7977 - val_categorical_accuracy: 0.7400 - lr: 2.0000e-04\n",
            "Epoch 21/30\n",
            "34/34 [==============================] - ETA: 0s - loss: 0.4248 - categorical_accuracy: 0.8356\n",
            "Epoch 00021: saving model to model_init_2022-05-1809_32_46.199928/model-00021-0.42485-0.83560-0.73308-0.69000.h5\n",
            "34/34 [==============================] - 156s 5s/step - loss: 0.4248 - categorical_accuracy: 0.8356 - val_loss: 0.7331 - val_categorical_accuracy: 0.6900 - lr: 2.0000e-04\n",
            "Epoch 22/30\n",
            "34/34 [==============================] - ETA: 0s - loss: 0.4152 - categorical_accuracy: 0.8409\n",
            "Epoch 00022: saving model to model_init_2022-05-1809_32_46.199928/model-00022-0.41517-0.84087-0.60419-0.84000.h5\n",
            "34/34 [==============================] - 160s 5s/step - loss: 0.4152 - categorical_accuracy: 0.8409 - val_loss: 0.6042 - val_categorical_accuracy: 0.8400 - lr: 2.0000e-04\n",
            "Epoch 23/30\n",
            "34/34 [==============================] - ETA: 0s - loss: 0.3765 - categorical_accuracy: 0.8582\n",
            "Epoch 00023: saving model to model_init_2022-05-1809_32_46.199928/model-00023-0.37654-0.85822-0.65124-0.75000.h5\n",
            "34/34 [==============================] - 158s 5s/step - loss: 0.3765 - categorical_accuracy: 0.8582 - val_loss: 0.6512 - val_categorical_accuracy: 0.7500 - lr: 2.0000e-04\n",
            "Epoch 24/30\n",
            "34/34 [==============================] - ETA: 0s - loss: 0.5242 - categorical_accuracy: 0.8039\n",
            "Epoch 00024: saving model to model_init_2022-05-1809_32_46.199928/model-00024-0.52420-0.80392-0.79712-0.71000.h5\n",
            "34/34 [==============================] - 159s 5s/step - loss: 0.5242 - categorical_accuracy: 0.8039 - val_loss: 0.7971 - val_categorical_accuracy: 0.7100 - lr: 2.0000e-04\n",
            "Epoch 25/30\n",
            "34/34 [==============================] - ETA: 0s - loss: 0.4095 - categorical_accuracy: 0.8431\n",
            "Epoch 00025: saving model to model_init_2022-05-1809_32_46.199928/model-00025-0.40955-0.84314-0.49064-0.83000.h5\n",
            "34/34 [==============================] - 158s 5s/step - loss: 0.4095 - categorical_accuracy: 0.8431 - val_loss: 0.4906 - val_categorical_accuracy: 0.8300 - lr: 2.0000e-04\n",
            "Epoch 26/30\n",
            "34/34 [==============================] - ETA: 0s - loss: 0.3702 - categorical_accuracy: 0.8650\n",
            "Epoch 00026: saving model to model_init_2022-05-1809_32_46.199928/model-00026-0.37024-0.86501-0.52096-0.82000.h5\n",
            "34/34 [==============================] - 158s 5s/step - loss: 0.3702 - categorical_accuracy: 0.8650 - val_loss: 0.5210 - val_categorical_accuracy: 0.8200 - lr: 2.0000e-04\n",
            "Epoch 27/30\n",
            "34/34 [==============================] - ETA: 0s - loss: 0.3504 - categorical_accuracy: 0.8733\n",
            "Epoch 00027: saving model to model_init_2022-05-1809_32_46.199928/model-00027-0.35035-0.87330-0.62103-0.81000.h5\n",
            "34/34 [==============================] - 157s 5s/step - loss: 0.3504 - categorical_accuracy: 0.8733 - val_loss: 0.6210 - val_categorical_accuracy: 0.8100 - lr: 2.0000e-04\n",
            "Epoch 28/30\n",
            "34/34 [==============================] - ETA: 0s - loss: 0.3406 - categorical_accuracy: 0.8741\n",
            "Epoch 00028: saving model to model_init_2022-05-1809_32_46.199928/model-00028-0.34058-0.87406-0.57912-0.78000.h5\n",
            "34/34 [==============================] - 157s 5s/step - loss: 0.3406 - categorical_accuracy: 0.8741 - val_loss: 0.5791 - val_categorical_accuracy: 0.7800 - lr: 2.0000e-04\n",
            "Epoch 29/30\n",
            "34/34 [==============================] - ETA: 0s - loss: 0.3087 - categorical_accuracy: 0.8854\n",
            "Epoch 00029: saving model to model_init_2022-05-1809_32_46.199928/model-00029-0.30873-0.88537-0.53006-0.86000.h5\n",
            "\n",
            "Epoch 00029: ReduceLROnPlateau reducing learning rate to 4.0000001899898055e-05.\n",
            "34/34 [==============================] - 159s 5s/step - loss: 0.3087 - categorical_accuracy: 0.8854 - val_loss: 0.5301 - val_categorical_accuracy: 0.8600 - lr: 2.0000e-04\n",
            "Epoch 30/30\n",
            "34/34 [==============================] - ETA: 0s - loss: 0.2320 - categorical_accuracy: 0.9201\n",
            "Epoch 00030: saving model to model_init_2022-05-1809_32_46.199928/model-00030-0.23196-0.92006-0.47040-0.91000.h5\n",
            "34/34 [==============================] - 160s 5s/step - loss: 0.2320 - categorical_accuracy: 0.9201 - val_loss: 0.4704 - val_categorical_accuracy: 0.9100 - lr: 4.0000e-05\n"
          ]
        }
      ],
      "source": [
        "print(\"Total Params:\", conv_3d4_model.count_params())\n",
        "# training the model\n",
        "history_model4=conv_3d4.train_model(conv_3d4_model,augment_data=True)"
      ]
    },
    {
      "cell_type": "code",
      "execution_count": null,
      "metadata": {
        "id": "hg4W9xd8Nyoe",
        "outputId": "d181a7d7-e280-4b22-8f09-201442e11b46"
      },
      "outputs": [
        {
          "data": {
            "image/png": "[encoded data removed]",
            "text/plain": [
              "<Figure size 1080x288 with 2 Axes>"
            ]
          },
          "metadata": {
            "needs_background": "light"
          },
          "output_type": "display_data"
        }
      ],
      "source": [
        "# plotting the history of the model training\n",
        "plot(history_model4)"
      ]
    },
    {
      "cell_type": "markdown",
      "metadata": {
        "id": "ipFEJo8lNyoe"
      },
      "source": [
        "With more layers we see performance improvement in terms of accuracy. We get a best validation accuracy of 92% . Let's try adding dropouts at the convolution layers see the performance of model"
      ]
    },
    {
      "cell_type": "markdown",
      "metadata": {
        "id": "gN-vw4skNyof"
      },
      "source": [
        "## Model 5 Adding dropout at convolution layers"
      ]
    },
    {
      "cell_type": "code",
      "execution_count": null,
      "metadata": {
        "id": "6Ms1DOUtNyof"
      },
      "outputs": [],
      "source": [
        "class ModelConv3D5(ModelBuilder):\n",
        "    \n",
        "    def define_model(self,filtersize=(3,3,3),dense_neurons=64,dropout=0.25):\n",
        "\n",
        "        model = Sequential()\n",
        "        model.add(Conv3D(16, filtersize, padding='same',\n",
        "                 input_shape=(self.frames_to_sample,self.image_height,self.image_width,self.channels)))\n",
        "        model.add(Activation('relu'))\n",
        "        model.add(BatchNormalization())\n",
        "        \n",
        "        model.add(Conv3D(16, filtersize, padding='same',\n",
        "                 input_shape=(self.frames_to_sample,self.image_height,self.image_width,self.channels)))\n",
        "        model.add(Activation('relu'))\n",
        "        model.add(BatchNormalization())\n",
        "        \n",
        "        model.add(MaxPooling3D(pool_size=(2, 2, 2)))\n",
        "        model.add(Dropout(dropout))\n",
        "\n",
        "        model.add(Conv3D(32, filtersize, padding='same'))\n",
        "        model.add(Activation('relu'))\n",
        "        model.add(BatchNormalization())\n",
        "        \n",
        "        model.add(Conv3D(32, filtersize, padding='same'))\n",
        "        model.add(Activation('relu'))\n",
        "        model.add(BatchNormalization())\n",
        "        \n",
        "        model.add(MaxPooling3D(pool_size=(2, 2, 2)))\n",
        "        model.add(Dropout(dropout))\n",
        "\n",
        "        model.add(Conv3D(64, filtersize, padding='same'))\n",
        "        model.add(Activation('relu'))\n",
        "        model.add(BatchNormalization())\n",
        "        \n",
        "        model.add(Conv3D(64, filtersize, padding='same'))\n",
        "        model.add(Activation('relu'))\n",
        "        model.add(BatchNormalization())\n",
        "        \n",
        "        model.add(MaxPooling3D(pool_size=(2, 2, 2)))\n",
        "        model.add(Dropout(dropout))\n",
        "\n",
        "        model.add(Conv3D(128, filtersize, padding='same'))\n",
        "        model.add(Activation('relu'))\n",
        "        model.add(BatchNormalization())\n",
        "        \n",
        "        model.add(Conv3D(128, filtersize, padding='same'))\n",
        "        model.add(Activation('relu'))\n",
        "        model.add(BatchNormalization())\n",
        "        \n",
        "        model.add(MaxPooling3D(pool_size=(2, 2, 2)))\n",
        "        model.add(Dropout(dropout))\n",
        "        \n",
        "        model.add(Flatten())\n",
        "        model.add(Dense(dense_neurons,activation='relu'))\n",
        "        model.add(BatchNormalization())\n",
        "        model.add(Dropout(dropout))\n",
        "\n",
        "        model.add(Dense(dense_neurons,activation='relu'))\n",
        "        model.add(BatchNormalization())\n",
        "        model.add(Dropout(dropout))\n",
        "\n",
        "\n",
        "        model.add(Dense(self.num_classes,activation='softmax'))\n",
        "\n",
        "        optimiser = optimizers.Adam()\n",
        "        model.compile(optimizer=optimiser, loss='categorical_crossentropy', metrics=['categorical_accuracy'])\n",
        "        return model"
      ]
    },
    {
      "cell_type": "code",
      "execution_count": null,
      "metadata": {
        "id": "uwZZcrBmNyof",
        "outputId": "7e390fd9-0596-4e32-8b9e-05550574248b"
      },
      "outputs": [
        {
          "name": "stdout",
          "output_type": "stream",
          "text": [
            "Model: \"sequential_9\"\n",
            "_________________________________________________________________\n",
            " Layer (type)                Output Shape              Param #   \n",
            "=================================================================\n",
            " conv3d_40 (Conv3D)          (None, 16, 120, 120, 16)  1312      \n",
            "                                                                 \n",
            " activation_40 (Activation)  (None, 16, 120, 120, 16)  0         \n",
            "                                                                 \n",
            " batch_normalization_58 (Bat  (None, 16, 120, 120, 16)  64       \n",
            " chNormalization)                                                \n",
            "                                                                 \n",
            " conv3d_41 (Conv3D)          (None, 16, 120, 120, 16)  6928      \n",
            "                                                                 \n",
            " activation_41 (Activation)  (None, 16, 120, 120, 16)  0         \n",
            "                                                                 \n",
            " batch_normalization_59 (Bat  (None, 16, 120, 120, 16)  64       \n",
            " chNormalization)                                                \n",
            "                                                                 \n",
            " max_pooling3d_36 (MaxPoolin  (None, 8, 60, 60, 16)    0         \n",
            " g3D)                                                            \n",
            "                                                                 \n",
            " dropout_18 (Dropout)        (None, 8, 60, 60, 16)     0         \n",
            "                                                                 \n",
            " conv3d_42 (Conv3D)          (None, 8, 60, 60, 32)     13856     \n",
            "                                                                 \n",
            " activation_42 (Activation)  (None, 8, 60, 60, 32)     0         \n",
            "                                                                 \n",
            " batch_normalization_60 (Bat  (None, 8, 60, 60, 32)    128       \n",
            " chNormalization)                                                \n",
            "                                                                 \n",
            " conv3d_43 (Conv3D)          (None, 8, 60, 60, 32)     27680     \n",
            "                                                                 \n",
            " activation_43 (Activation)  (None, 8, 60, 60, 32)     0         \n",
            "                                                                 \n",
            " batch_normalization_61 (Bat  (None, 8, 60, 60, 32)    128       \n",
            " chNormalization)                                                \n",
            "                                                                 \n",
            " max_pooling3d_37 (MaxPoolin  (None, 4, 30, 30, 32)    0         \n",
            " g3D)                                                            \n",
            "                                                                 \n",
            " dropout_19 (Dropout)        (None, 4, 30, 30, 32)     0         \n",
            "                                                                 \n",
            " conv3d_44 (Conv3D)          (None, 4, 30, 30, 64)     55360     \n",
            "                                                                 \n",
            " activation_44 (Activation)  (None, 4, 30, 30, 64)     0         \n",
            "                                                                 \n",
            " batch_normalization_62 (Bat  (None, 4, 30, 30, 64)    256       \n",
            " chNormalization)                                                \n",
            "                                                                 \n",
            " conv3d_45 (Conv3D)          (None, 4, 30, 30, 64)     110656    \n",
            "                                                                 \n",
            " activation_45 (Activation)  (None, 4, 30, 30, 64)     0         \n",
            "                                                                 \n",
            " batch_normalization_63 (Bat  (None, 4, 30, 30, 64)    256       \n",
            " chNormalization)                                                \n",
            "                                                                 \n",
            " max_pooling3d_38 (MaxPoolin  (None, 2, 15, 15, 64)    0         \n",
            " g3D)                                                            \n",
            "                                                                 \n",
            " dropout_20 (Dropout)        (None, 2, 15, 15, 64)     0         \n",
            "                                                                 \n",
            " conv3d_46 (Conv3D)          (None, 2, 15, 15, 128)    221312    \n",
            "                                                                 \n",
            " activation_46 (Activation)  (None, 2, 15, 15, 128)    0         \n",
            "                                                                 \n",
            " batch_normalization_64 (Bat  (None, 2, 15, 15, 128)   512       \n",
            " chNormalization)                                                \n",
            "                                                                 \n",
            " conv3d_47 (Conv3D)          (None, 2, 15, 15, 128)    442496    \n",
            "                                                                 \n",
            " activation_47 (Activation)  (None, 2, 15, 15, 128)    0         \n",
            "                                                                 \n",
            " batch_normalization_65 (Bat  (None, 2, 15, 15, 128)   512       \n",
            " chNormalization)                                                \n",
            "                                                                 \n",
            " max_pooling3d_39 (MaxPoolin  (None, 1, 7, 7, 128)     0         \n",
            " g3D)                                                            \n",
            "                                                                 \n",
            " dropout_21 (Dropout)        (None, 1, 7, 7, 128)      0         \n",
            "                                                                 \n",
            " flatten_9 (Flatten)         (None, 6272)              0         \n",
            "                                                                 \n",
            " dense_27 (Dense)            (None, 256)               1605888   \n",
            "                                                                 \n",
            " batch_normalization_66 (Bat  (None, 256)              1024      \n",
            " chNormalization)                                                \n",
            "                                                                 \n",
            " dropout_22 (Dropout)        (None, 256)               0         \n",
            "                                                                 \n",
            " dense_28 (Dense)            (None, 256)               65792     \n",
            "                                                                 \n",
            " batch_normalization_67 (Bat  (None, 256)              1024      \n",
            " chNormalization)                                                \n",
            "                                                                 \n",
            " dropout_23 (Dropout)        (None, 256)               0         \n",
            "                                                                 \n",
            " dense_29 (Dense)            (None, 5)                 1285      \n",
            "                                                                 \n",
            "=================================================================\n",
            "Total params: 2,556,533\n",
            "Trainable params: 2,554,549\n",
            "Non-trainable params: 1,984\n",
            "_________________________________________________________________\n"
          ]
        }
      ],
      "source": [
        "# getting the model\n",
        "conv_3d5=ModelConv3D5()\n",
        "# initializing the paths\n",
        "conv_3d5.initialize_path(project_folder)\n",
        "# initializing the image properties\n",
        "conv_3d5.initialize_image_properties(image_height=120,image_width=120)\n",
        "# initializing the hyper parameters\n",
        "conv_3d5.initialize_hyperparams(frames_to_sample=16,batch_size=20,num_epochs=22)\n",
        "# defining the model\n",
        "conv_3d5_model=conv_3d5.define_model(filtersize=(3,3,3),dense_neurons=256,dropout=0.25)\n",
        "# printing the model summary\n",
        "conv_3d5_model.summary()"
      ]
    },
    {
      "cell_type": "code",
      "execution_count": null,
      "metadata": {
        "id": "oyz4DTFHNyog",
        "outputId": "454c33d9-b01a-428e-cfed-ebe8fe85f450"
      },
      "outputs": [
        {
          "name": "stdout",
          "output_type": "stream",
          "text": [
            "Total Params: 2556533\n",
            "WARNING:tensorflow:`period` argument is deprecated. Please use `save_freq` to specify the frequency in number of batches seen.\n",
            "Epoch 1/22\n",
            "34/34 [==============================] - ETA: 0s - loss: 1.7088 - categorical_accuracy: 0.4087\n",
            "Epoch 00001: saving model to model_init_2022-05-1810_51_49.654728/model-00001-1.70882-0.40875-1.69030-0.21000.h5\n",
            "34/34 [==============================] - 160s 5s/step - loss: 1.7088 - categorical_accuracy: 0.4087 - val_loss: 1.6903 - val_categorical_accuracy: 0.2100 - lr: 0.0010\n",
            "Epoch 2/22\n",
            "34/34 [==============================] - ETA: 0s - loss: 1.2152 - categorical_accuracy: 0.5302\n",
            "Epoch 00002: saving model to model_init_2022-05-1810_51_49.654728/model-00002-1.21522-0.53017-2.42870-0.14000.h5\n",
            "34/34 [==============================] - 159s 5s/step - loss: 1.2152 - categorical_accuracy: 0.5302 - val_loss: 2.4287 - val_categorical_accuracy: 0.1400 - lr: 0.0010\n",
            "Epoch 3/22\n",
            "34/34 [==============================] - ETA: 0s - loss: 1.0594 - categorical_accuracy: 0.5935\n",
            "Epoch 00003: saving model to model_init_2022-05-1810_51_49.654728/model-00003-1.05944-0.59351-3.13898-0.16000.h5\n",
            "34/34 [==============================] - 158s 5s/step - loss: 1.0594 - categorical_accuracy: 0.5935 - val_loss: 3.1390 - val_categorical_accuracy: 0.1600 - lr: 0.0010\n",
            "Epoch 4/22\n",
            "34/34 [==============================] - ETA: 0s - loss: 0.9562 - categorical_accuracy: 0.6561\n",
            "Epoch 00004: saving model to model_init_2022-05-1810_51_49.654728/model-00004-0.95621-0.65611-7.69293-0.18000.h5\n",
            "34/34 [==============================] - 157s 5s/step - loss: 0.9562 - categorical_accuracy: 0.6561 - val_loss: 7.6929 - val_categorical_accuracy: 0.1800 - lr: 0.0010\n",
            "Epoch 5/22\n",
            "34/34 [==============================] - ETA: 0s - loss: 0.8221 - categorical_accuracy: 0.7036\n",
            "Epoch 00005: saving model to model_init_2022-05-1810_51_49.654728/model-00005-0.82213-0.70362-4.72800-0.22000.h5\n",
            "\n",
            "Epoch 00005: ReduceLROnPlateau reducing learning rate to 0.00020000000949949026.\n",
            "34/34 [==============================] - 156s 5s/step - loss: 0.8221 - categorical_accuracy: 0.7036 - val_loss: 4.7280 - val_categorical_accuracy: 0.2200 - lr: 0.0010\n",
            "Epoch 6/22\n",
            "34/34 [==============================] - ETA: 0s - loss: 0.6118 - categorical_accuracy: 0.7700\n",
            "Epoch 00006: saving model to model_init_2022-05-1810_51_49.654728/model-00006-0.61176-0.76998-5.20748-0.21000.h5\n",
            "34/34 [==============================] - 150s 5s/step - loss: 0.6118 - categorical_accuracy: 0.7700 - val_loss: 5.2075 - val_categorical_accuracy: 0.2100 - lr: 2.0000e-04\n",
            "Epoch 7/22\n",
            "34/34 [==============================] - ETA: 0s - loss: 0.4925 - categorical_accuracy: 0.8100\n",
            "Epoch 00007: saving model to model_init_2022-05-1810_51_49.654728/model-00007-0.49253-0.80995-5.21972-0.19000.h5\n",
            "34/34 [==============================] - 150s 5s/step - loss: 0.4925 - categorical_accuracy: 0.8100 - val_loss: 5.2197 - val_categorical_accuracy: 0.1900 - lr: 2.0000e-04\n",
            "Epoch 8/22\n",
            "34/34 [==============================] - ETA: 0s - loss: 0.4699 - categorical_accuracy: 0.8228\n",
            "Epoch 00008: saving model to model_init_2022-05-1810_51_49.654728/model-00008-0.46985-0.82278-5.45131-0.26000.h5\n",
            "34/34 [==============================] - 153s 5s/step - loss: 0.4699 - categorical_accuracy: 0.8228 - val_loss: 5.4513 - val_categorical_accuracy: 0.2600 - lr: 2.0000e-04\n",
            "Epoch 9/22\n",
            "34/34 [==============================] - ETA: 0s - loss: 0.3984 - categorical_accuracy: 0.8529\n",
            "Epoch 00009: saving model to model_init_2022-05-1810_51_49.654728/model-00009-0.39843-0.85294-4.80207-0.25000.h5\n",
            "\n",
            "Epoch 00009: ReduceLROnPlateau reducing learning rate to 4.0000001899898055e-05.\n",
            "34/34 [==============================] - 155s 5s/step - loss: 0.3984 - categorical_accuracy: 0.8529 - val_loss: 4.8021 - val_categorical_accuracy: 0.2500 - lr: 2.0000e-04\n",
            "Epoch 10/22\n",
            "34/34 [==============================] - ETA: 0s - loss: 0.3769 - categorical_accuracy: 0.8590\n",
            "Epoch 00010: saving model to model_init_2022-05-1810_51_49.654728/model-00010-0.37693-0.85897-5.39368-0.24000.h5\n",
            "34/34 [==============================] - 161s 5s/step - loss: 0.3769 - categorical_accuracy: 0.8590 - val_loss: 5.3937 - val_categorical_accuracy: 0.2400 - lr: 4.0000e-05\n",
            "Epoch 11/22\n",
            "34/34 [==============================] - ETA: 0s - loss: 0.3574 - categorical_accuracy: 0.8748\n",
            "Epoch 00011: saving model to model_init_2022-05-1810_51_49.654728/model-00011-0.35743-0.87481-5.93511-0.21000.h5\n",
            "34/34 [==============================] - 159s 5s/step - loss: 0.3574 - categorical_accuracy: 0.8748 - val_loss: 5.9351 - val_categorical_accuracy: 0.2100 - lr: 4.0000e-05\n",
            "Epoch 12/22\n",
            "34/34 [==============================] - ETA: 0s - loss: 0.3202 - categorical_accuracy: 0.8816\n",
            "Epoch 00012: saving model to model_init_2022-05-1810_51_49.654728/model-00012-0.32016-0.88160-5.54272-0.23000.h5\n",
            "34/34 [==============================] - 156s 5s/step - loss: 0.3202 - categorical_accuracy: 0.8816 - val_loss: 5.5427 - val_categorical_accuracy: 0.2300 - lr: 4.0000e-05\n",
            "Epoch 13/22\n",
            "34/34 [==============================] - ETA: 0s - loss: 0.3239 - categorical_accuracy: 0.8786\n",
            "Epoch 00013: saving model to model_init_2022-05-1810_51_49.654728/model-00013-0.32392-0.87858-5.42880-0.20000.h5\n",
            "\n",
            "Epoch 00013: ReduceLROnPlateau reducing learning rate to 8.000000525498762e-06.\n",
            "34/34 [==============================] - 156s 5s/step - loss: 0.3239 - categorical_accuracy: 0.8786 - val_loss: 5.4288 - val_categorical_accuracy: 0.2000 - lr: 4.0000e-05\n",
            "Epoch 14/22\n",
            "34/34 [==============================] - ETA: 0s - loss: 0.2756 - categorical_accuracy: 0.9020\n",
            "Epoch 00014: saving model to model_init_2022-05-1810_51_49.654728/model-00014-0.27557-0.90196-4.48442-0.28000.h5\n",
            "34/34 [==============================] - 155s 5s/step - loss: 0.2756 - categorical_accuracy: 0.9020 - val_loss: 4.4844 - val_categorical_accuracy: 0.2800 - lr: 8.0000e-06\n",
            "Epoch 15/22\n",
            "34/34 [==============================] - ETA: 0s - loss: 0.2842 - categorical_accuracy: 0.9005\n",
            "Epoch 00015: saving model to model_init_2022-05-1810_51_49.654728/model-00015-0.28418-0.90045-4.27043-0.27000.h5\n",
            "34/34 [==============================] - 155s 5s/step - loss: 0.2842 - categorical_accuracy: 0.9005 - val_loss: 4.2704 - val_categorical_accuracy: 0.2700 - lr: 8.0000e-06\n",
            "Epoch 16/22\n",
            "34/34 [==============================] - ETA: 0s - loss: 0.2965 - categorical_accuracy: 0.8989\n",
            "Epoch 00016: saving model to model_init_2022-05-1810_51_49.654728/model-00016-0.29654-0.89894-3.94595-0.30000.h5\n",
            "34/34 [==============================] - 156s 5s/step - loss: 0.2965 - categorical_accuracy: 0.8989 - val_loss: 3.9459 - val_categorical_accuracy: 0.3000 - lr: 8.0000e-06\n",
            "Epoch 17/22\n",
            "34/34 [==============================] - ETA: 0s - loss: 0.2676 - categorical_accuracy: 0.9042\n",
            "Epoch 00017: saving model to model_init_2022-05-1810_51_49.654728/model-00017-0.26756-0.90422-3.59068-0.32000.h5\n",
            "\n",
            "Epoch 00017: ReduceLROnPlateau reducing learning rate to 1.6000001778593287e-06.\n",
            "34/34 [==============================] - 159s 5s/step - loss: 0.2676 - categorical_accuracy: 0.9042 - val_loss: 3.5907 - val_categorical_accuracy: 0.3200 - lr: 8.0000e-06\n",
            "Epoch 18/22\n",
            "34/34 [==============================] - ETA: 0s - loss: 0.3282 - categorical_accuracy: 0.8756\n",
            "Epoch 00018: saving model to model_init_2022-05-1810_51_49.654728/model-00018-0.32822-0.87557-2.89286-0.41000.h5\n",
            "34/34 [==============================] - 157s 5s/step - loss: 0.3282 - categorical_accuracy: 0.8756 - val_loss: 2.8929 - val_categorical_accuracy: 0.4100 - lr: 1.6000e-06\n",
            "Epoch 19/22\n",
            "34/34 [==============================] - ETA: 0s - loss: 0.2788 - categorical_accuracy: 0.9050\n",
            "Epoch 00019: saving model to model_init_2022-05-1810_51_49.654728/model-00019-0.27881-0.90498-2.35380-0.39000.h5\n",
            "34/34 [==============================] - 156s 5s/step - loss: 0.2788 - categorical_accuracy: 0.9050 - val_loss: 2.3538 - val_categorical_accuracy: 0.3900 - lr: 1.6000e-06\n",
            "Epoch 20/22\n",
            "34/34 [==============================] - ETA: 0s - loss: 0.2901 - categorical_accuracy: 0.9027\n",
            "Epoch 00020: saving model to model_init_2022-05-1810_51_49.654728/model-00020-0.29007-0.90271-2.36041-0.46000.h5\n",
            "34/34 [==============================] - 157s 5s/step - loss: 0.2901 - categorical_accuracy: 0.9027 - val_loss: 2.3604 - val_categorical_accuracy: 0.4600 - lr: 1.6000e-06\n",
            "Epoch 21/22\n",
            "34/34 [==============================] - ETA: 0s - loss: 0.2902 - categorical_accuracy: 0.8967\n",
            "Epoch 00021: saving model to model_init_2022-05-1810_51_49.654728/model-00021-0.29016-0.89668-2.07732-0.46000.h5\n",
            "\n",
            "Epoch 00021: ReduceLROnPlateau reducing learning rate to 3.200000264769187e-07.\n",
            "34/34 [==============================] - 158s 5s/step - loss: 0.2902 - categorical_accuracy: 0.8967 - val_loss: 2.0773 - val_categorical_accuracy: 0.4600 - lr: 1.6000e-06\n",
            "Epoch 22/22\n",
            "34/34 [==============================] - ETA: 0s - loss: 0.3142 - categorical_accuracy: 0.8831\n",
            "Epoch 00022: saving model to model_init_2022-05-1810_51_49.654728/model-00022-0.31418-0.88311-2.02065-0.47000.h5\n",
            "34/34 [==============================] - 158s 5s/step - loss: 0.3142 - categorical_accuracy: 0.8831 - val_loss: 2.0206 - val_categorical_accuracy: 0.4700 - lr: 3.2000e-07\n"
          ]
        }
      ],
      "source": [
        "print(\"Total Params:\", conv_3d5_model.count_params())\n",
        "# training the model\n",
        "history_model5=conv_3d5.train_model(conv_3d5_model,augment_data=True)"
      ]
    },
    {
      "cell_type": "code",
      "execution_count": null,
      "metadata": {
        "id": "0fS-hU7eNyog",
        "outputId": "62f5c41a-40b2-4d03-9fc5-6d5951165913"
      },
      "outputs": [
        {
          "data": {
            "image/png": "[encoded data removed]",
            "text/plain": [
              "<Figure size 1080x288 with 2 Axes>"
            ]
          },
          "metadata": {
            "needs_background": "light"
          },
          "output_type": "display_data"
        }
      ],
      "source": [
        "# plotting the model history\n",
        "plot(history_model5)"
      ]
    },
    {
      "cell_type": "markdown",
      "metadata": {
        "id": "nqYHp5rWNyog"
      },
      "source": [
        "Adding dropouts has further reduced validation accuracy as its not to learn generalizable features\n",
        "All models experimental models above have more than 1 million parameters. Let's try to reduce the model size and see the performance"
      ]
    },
    {
      "cell_type": "markdown",
      "metadata": {
        "id": "1ogovlVbNyog"
      },
      "source": [
        "### Model 6 - Reducing the number of parameters"
      ]
    },
    {
      "cell_type": "code",
      "execution_count": null,
      "metadata": {
        "id": "2mATjd_FNyog"
      },
      "outputs": [],
      "source": [
        "class ModelConv3D6(ModelBuilder):\n",
        "    \n",
        "    def define_model(self,dense_neurons=64,dropout=0.25):\n",
        "\n",
        "        model = Sequential()\n",
        "        model.add(Conv3D(8, (3, 3, 3), padding='same',\n",
        "                 input_shape=(self.frames_to_sample,self.image_height,self.image_width,self.channels)))\n",
        "        model.add(Activation('relu'))\n",
        "        model.add(BatchNormalization())\n",
        "        model.add(MaxPooling3D(pool_size=(2, 2, 2)))\n",
        "\n",
        "        model.add(Conv3D(16, (3, 3, 3), padding='same'))\n",
        "        model.add(Activation('relu'))\n",
        "        model.add(BatchNormalization())\n",
        "        model.add(MaxPooling3D(pool_size=(2, 2, 2)))\n",
        "\n",
        "        model.add(Conv3D(32, (2, 2, 2), padding='same'))\n",
        "        model.add(Activation('relu'))\n",
        "        model.add(BatchNormalization())\n",
        "        model.add(MaxPooling3D(pool_size=(2, 2, 2)))\n",
        "\n",
        "        model.add(Conv3D(64, (2, 2, 2), padding='same'))\n",
        "        model.add(Activation('relu'))\n",
        "        model.add(BatchNormalization())\n",
        "        model.add(MaxPooling3D(pool_size=(2, 2, 2)))\n",
        "        \n",
        "        model.add(Flatten())\n",
        "        model.add(Dense(dense_neurons,activation='relu'))\n",
        "        model.add(BatchNormalization())\n",
        "        model.add(Dropout(dropout))\n",
        "\n",
        "        model.add(Dense(dense_neurons,activation='relu'))\n",
        "        model.add(BatchNormalization())\n",
        "        model.add(Dropout(dropout))\n",
        "\n",
        "        model.add(Dense(self.num_classes,activation='softmax'))\n",
        "\n",
        "        optimiser = optimizers.Adam(lr=0.0002)\n",
        "        model.compile(optimizer=optimiser, loss='categorical_crossentropy', metrics=['categorical_accuracy'])\n",
        "        return model"
      ]
    },
    {
      "cell_type": "code",
      "execution_count": null,
      "metadata": {
        "id": "AQzKi6gGNyog",
        "outputId": "dcbe597d-e17d-4e3e-e84f-11ced06d31e1"
      },
      "outputs": [
        {
          "name": "stdout",
          "output_type": "stream",
          "text": [
            "Model: \"sequential_10\"\n",
            "_________________________________________________________________\n",
            " Layer (type)                Output Shape              Param #   \n",
            "=================================================================\n",
            " conv3d_48 (Conv3D)          (None, 16, 120, 120, 16)  1312      \n",
            "                                                                 \n",
            " activation_48 (Activation)  (None, 16, 120, 120, 16)  0         \n",
            "                                                                 \n",
            " batch_normalization_68 (Bat  (None, 16, 120, 120, 16)  64       \n",
            " chNormalization)                                                \n",
            "                                                                 \n",
            " conv3d_49 (Conv3D)          (None, 16, 120, 120, 16)  6928      \n",
            "                                                                 \n",
            " activation_49 (Activation)  (None, 16, 120, 120, 16)  0         \n",
            "                                                                 \n",
            " batch_normalization_69 (Bat  (None, 16, 120, 120, 16)  64       \n",
            " chNormalization)                                                \n",
            "                                                                 \n",
            " max_pooling3d_40 (MaxPoolin  (None, 8, 60, 60, 16)    0         \n",
            " g3D)                                                            \n",
            "                                                                 \n",
            " conv3d_50 (Conv3D)          (None, 8, 60, 60, 32)     13856     \n",
            "                                                                 \n",
            " activation_50 (Activation)  (None, 8, 60, 60, 32)     0         \n",
            "                                                                 \n",
            " batch_normalization_70 (Bat  (None, 8, 60, 60, 32)    128       \n",
            " chNormalization)                                                \n",
            "                                                                 \n",
            " conv3d_51 (Conv3D)          (None, 8, 60, 60, 32)     27680     \n",
            "                                                                 \n",
            " activation_51 (Activation)  (None, 8, 60, 60, 32)     0         \n",
            "                                                                 \n",
            " batch_normalization_71 (Bat  (None, 8, 60, 60, 32)    128       \n",
            " chNormalization)                                                \n",
            "                                                                 \n",
            " max_pooling3d_41 (MaxPoolin  (None, 4, 30, 30, 32)    0         \n",
            " g3D)                                                            \n",
            "                                                                 \n",
            " conv3d_52 (Conv3D)          (None, 4, 30, 30, 64)     55360     \n",
            "                                                                 \n",
            " activation_52 (Activation)  (None, 4, 30, 30, 64)     0         \n",
            "                                                                 \n",
            " batch_normalization_72 (Bat  (None, 4, 30, 30, 64)    256       \n",
            " chNormalization)                                                \n",
            "                                                                 \n",
            " conv3d_53 (Conv3D)          (None, 4, 30, 30, 64)     110656    \n",
            "                                                                 \n",
            " activation_53 (Activation)  (None, 4, 30, 30, 64)     0         \n",
            "                                                                 \n",
            " batch_normalization_73 (Bat  (None, 4, 30, 30, 64)    256       \n",
            " chNormalization)                                                \n",
            "                                                                 \n",
            " max_pooling3d_42 (MaxPoolin  (None, 2, 15, 15, 64)    0         \n",
            " g3D)                                                            \n",
            "                                                                 \n",
            " conv3d_54 (Conv3D)          (None, 2, 15, 15, 128)    221312    \n",
            "                                                                 \n",
            " activation_54 (Activation)  (None, 2, 15, 15, 128)    0         \n",
            "                                                                 \n",
            " batch_normalization_74 (Bat  (None, 2, 15, 15, 128)   512       \n",
            " chNormalization)                                                \n",
            "                                                                 \n",
            " conv3d_55 (Conv3D)          (None, 2, 15, 15, 128)    442496    \n",
            "                                                                 \n",
            " activation_55 (Activation)  (None, 2, 15, 15, 128)    0         \n",
            "                                                                 \n",
            " batch_normalization_75 (Bat  (None, 2, 15, 15, 128)   512       \n",
            " chNormalization)                                                \n",
            "                                                                 \n",
            " max_pooling3d_43 (MaxPoolin  (None, 1, 7, 7, 128)     0         \n",
            " g3D)                                                            \n",
            "                                                                 \n",
            " flatten_10 (Flatten)        (None, 6272)              0         \n",
            "                                                                 \n",
            " dense_30 (Dense)            (None, 64)                401472    \n",
            "                                                                 \n",
            " batch_normalization_76 (Bat  (None, 64)               256       \n",
            " chNormalization)                                                \n",
            "                                                                 \n",
            " dropout_24 (Dropout)        (None, 64)                0         \n",
            "                                                                 \n",
            " dense_31 (Dense)            (None, 64)                4160      \n",
            "                                                                 \n",
            " batch_normalization_77 (Bat  (None, 64)               256       \n",
            " chNormalization)                                                \n",
            "                                                                 \n",
            " dropout_25 (Dropout)        (None, 64)                0         \n",
            "                                                                 \n",
            " dense_32 (Dense)            (None, 5)                 325       \n",
            "                                                                 \n",
            "=================================================================\n",
            "Total params: 1,287,989\n",
            "Trainable params: 1,286,773\n",
            "Non-trainable params: 1,216\n",
            "_________________________________________________________________\n"
          ]
        }
      ],
      "source": [
        "# getting the model\n",
        "conv_3d6=ModelConv3D6()\n",
        "# initializing the paths\n",
        "conv_3d6.initialize_path(project_folder)\n",
        "# initializing the image properties\n",
        "conv_3d6.initialize_image_properties(image_height=120,image_width=120)\n",
        "# initializing the hyper paramters\n",
        "conv_3d6.initialize_hyperparams(frames_to_sample=16,batch_size=20,num_epochs=20)\n",
        "# defining the model\n",
        "conv_3d6_model=conv_3d4.define_model(dense_neurons=64,dropout=0.25)\n",
        "# printing the model summary\n",
        "conv_3d6_model.summary()"
      ]
    },
    {
      "cell_type": "code",
      "execution_count": null,
      "metadata": {
        "id": "zR6rH_r9Nyog",
        "outputId": "693087d4-9abd-4c10-993a-1b6576446e6b"
      },
      "outputs": [
        {
          "name": "stdout",
          "output_type": "stream",
          "text": [
            "Total Params: 1287989\n",
            "WARNING:tensorflow:`period` argument is deprecated. Please use `save_freq` to specify the frequency in number of batches seen.\n",
            "Epoch 1/20\n",
            "34/34 [==============================] - ETA: 0s - loss: 0.3958 - categorical_accuracy: 0.8605\n",
            "Epoch 00001: saving model to model_init_2022-05-1812_12_31.872941/model-00001-0.39581-0.86048-3.41991-0.27000.h5\n",
            "34/34 [==============================] - 159s 5s/step - loss: 0.3958 - categorical_accuracy: 0.8605 - val_loss: 3.4199 - val_categorical_accuracy: 0.2700 - lr: 2.0000e-04\n",
            "Epoch 2/20\n",
            "34/34 [==============================] - ETA: 0s - loss: 0.3239 - categorical_accuracy: 0.8959\n",
            "Epoch 00002: saving model to model_init_2022-05-1812_12_31.872941/model-00002-0.32389-0.89593-3.54917-0.27000.h5\n",
            "34/34 [==============================] - 159s 5s/step - loss: 0.3239 - categorical_accuracy: 0.8959 - val_loss: 3.5492 - val_categorical_accuracy: 0.2700 - lr: 2.0000e-04\n",
            "Epoch 3/20\n",
            "34/34 [==============================] - ETA: 0s - loss: 0.3225 - categorical_accuracy: 0.8869\n",
            "Epoch 00003: saving model to model_init_2022-05-1812_12_31.872941/model-00003-0.32245-0.88688-2.73983-0.31000.h5\n",
            "34/34 [==============================] - 159s 5s/step - loss: 0.3225 - categorical_accuracy: 0.8869 - val_loss: 2.7398 - val_categorical_accuracy: 0.3100 - lr: 2.0000e-04\n",
            "Epoch 4/20\n",
            "34/34 [==============================] - ETA: 0s - loss: 0.3055 - categorical_accuracy: 0.8914\n",
            "Epoch 00004: saving model to model_init_2022-05-1812_12_31.872941/model-00004-0.30552-0.89140-2.66981-0.33000.h5\n",
            "34/34 [==============================] - 157s 5s/step - loss: 0.3055 - categorical_accuracy: 0.8914 - val_loss: 2.6698 - val_categorical_accuracy: 0.3300 - lr: 2.0000e-04\n",
            "Epoch 5/20\n",
            "34/34 [==============================] - ETA: 0s - loss: 0.2669 - categorical_accuracy: 0.9148\n",
            "Epoch 00005: saving model to model_init_2022-05-1812_12_31.872941/model-00005-0.26695-0.91478-1.77634-0.45000.h5\n",
            "34/34 [==============================] - 160s 5s/step - loss: 0.2669 - categorical_accuracy: 0.9148 - val_loss: 1.7763 - val_categorical_accuracy: 0.4500 - lr: 2.0000e-04\n",
            "Epoch 6/20\n",
            "34/34 [==============================] - ETA: 0s - loss: 0.2423 - categorical_accuracy: 0.9306\n",
            "Epoch 00006: saving model to model_init_2022-05-1812_12_31.872941/model-00006-0.24229-0.93062-1.95256-0.42000.h5\n",
            "34/34 [==============================] - 158s 5s/step - loss: 0.2423 - categorical_accuracy: 0.9306 - val_loss: 1.9526 - val_categorical_accuracy: 0.4200 - lr: 2.0000e-04\n",
            "Epoch 7/20\n",
            "34/34 [==============================] - ETA: 0s - loss: 0.2198 - categorical_accuracy: 0.9344\n",
            "Epoch 00007: saving model to model_init_2022-05-1812_12_31.872941/model-00007-0.21975-0.93439-1.59972-0.49000.h5\n",
            "34/34 [==============================] - 157s 5s/step - loss: 0.2198 - categorical_accuracy: 0.9344 - val_loss: 1.5997 - val_categorical_accuracy: 0.4900 - lr: 2.0000e-04\n",
            "Epoch 8/20\n",
            "34/34 [==============================] - ETA: 0s - loss: 0.2288 - categorical_accuracy: 0.9336\n",
            "Epoch 00008: saving model to model_init_2022-05-1812_12_31.872941/model-00008-0.22880-0.93363-1.09498-0.62000.h5\n",
            "34/34 [==============================] - 160s 5s/step - loss: 0.2288 - categorical_accuracy: 0.9336 - val_loss: 1.0950 - val_categorical_accuracy: 0.6200 - lr: 2.0000e-04\n",
            "Epoch 9/20\n",
            "34/34 [==============================] - ETA: 0s - loss: 0.2606 - categorical_accuracy: 0.9140\n",
            "Epoch 00009: saving model to model_init_2022-05-1812_12_31.872941/model-00009-0.26060-0.91403-1.17431-0.57000.h5\n",
            "34/34 [==============================] - 156s 5s/step - loss: 0.2606 - categorical_accuracy: 0.9140 - val_loss: 1.1743 - val_categorical_accuracy: 0.5700 - lr: 2.0000e-04\n",
            "Epoch 10/20\n",
            "34/34 [==============================] - ETA: 0s - loss: 0.2331 - categorical_accuracy: 0.9336\n",
            "Epoch 00010: saving model to model_init_2022-05-1812_12_31.872941/model-00010-0.23309-0.93363-0.70097-0.76000.h5\n",
            "34/34 [==============================] - 153s 5s/step - loss: 0.2331 - categorical_accuracy: 0.9336 - val_loss: 0.7010 - val_categorical_accuracy: 0.7600 - lr: 2.0000e-04\n",
            "Epoch 11/20\n",
            "34/34 [==============================] - ETA: 0s - loss: 0.2170 - categorical_accuracy: 0.9404\n",
            "Epoch 00011: saving model to model_init_2022-05-1812_12_31.872941/model-00011-0.21702-0.94042-0.52301-0.83000.h5\n",
            "34/34 [==============================] - 157s 5s/step - loss: 0.2170 - categorical_accuracy: 0.9404 - val_loss: 0.5230 - val_categorical_accuracy: 0.8300 - lr: 2.0000e-04\n",
            "Epoch 12/20\n",
            "34/34 [==============================] - ETA: 0s - loss: 0.1813 - categorical_accuracy: 0.9442\n",
            "Epoch 00012: saving model to model_init_2022-05-1812_12_31.872941/model-00012-0.18127-0.94419-0.76973-0.74000.h5\n",
            "34/34 [==============================] - 153s 5s/step - loss: 0.1813 - categorical_accuracy: 0.9442 - val_loss: 0.7697 - val_categorical_accuracy: 0.7400 - lr: 2.0000e-04\n",
            "Epoch 13/20\n",
            "34/34 [==============================] - ETA: 0s - loss: 0.1954 - categorical_accuracy: 0.9374\n",
            "Epoch 00013: saving model to model_init_2022-05-1812_12_31.872941/model-00013-0.19537-0.93741-0.51804-0.84000.h5\n",
            "34/34 [==============================] - 154s 5s/step - loss: 0.1954 - categorical_accuracy: 0.9374 - val_loss: 0.5180 - val_categorical_accuracy: 0.8400 - lr: 2.0000e-04\n",
            "Epoch 14/20\n",
            "34/34 [==============================] - ETA: 0s - loss: 0.2417 - categorical_accuracy: 0.9238\n",
            "Epoch 00014: saving model to model_init_2022-05-1812_12_31.872941/model-00014-0.24167-0.92383-0.52493-0.85000.h5\n",
            "34/34 [==============================] - 151s 5s/step - loss: 0.2417 - categorical_accuracy: 0.9238 - val_loss: 0.5249 - val_categorical_accuracy: 0.8500 - lr: 2.0000e-04\n",
            "Epoch 15/20\n",
            "34/34 [==============================] - ETA: 0s - loss: 0.2240 - categorical_accuracy: 0.9253\n",
            "Epoch 00015: saving model to model_init_2022-05-1812_12_31.872941/model-00015-0.22399-0.92534-0.38730-0.85000.h5\n",
            "34/34 [==============================] - 154s 5s/step - loss: 0.2240 - categorical_accuracy: 0.9253 - val_loss: 0.3873 - val_categorical_accuracy: 0.8500 - lr: 2.0000e-04\n",
            "Epoch 16/20\n",
            "34/34 [==============================] - ETA: 0s - loss: 0.1861 - categorical_accuracy: 0.9344\n",
            "Epoch 00016: saving model to model_init_2022-05-1812_12_31.872941/model-00016-0.18612-0.93439-0.25697-0.89000.h5\n",
            "34/34 [==============================] - 155s 5s/step - loss: 0.1861 - categorical_accuracy: 0.9344 - val_loss: 0.2570 - val_categorical_accuracy: 0.8900 - lr: 2.0000e-04\n",
            "Epoch 17/20\n",
            "34/34 [==============================] - ETA: 0s - loss: 0.1654 - categorical_accuracy: 0.9532\n",
            "Epoch 00017: saving model to model_init_2022-05-1812_12_31.872941/model-00017-0.16540-0.95324-0.35482-0.87000.h5\n",
            "34/34 [==============================] - 152s 5s/step - loss: 0.1654 - categorical_accuracy: 0.9532 - val_loss: 0.3548 - val_categorical_accuracy: 0.8700 - lr: 2.0000e-04\n",
            "Epoch 18/20\n",
            "34/34 [==============================] - ETA: 0s - loss: 0.1573 - categorical_accuracy: 0.9555\n",
            "Epoch 00018: saving model to model_init_2022-05-1812_12_31.872941/model-00018-0.15726-0.95551-0.33854-0.91000.h5\n",
            "34/34 [==============================] - 152s 5s/step - loss: 0.1573 - categorical_accuracy: 0.9555 - val_loss: 0.3385 - val_categorical_accuracy: 0.9100 - lr: 2.0000e-04\n",
            "Epoch 19/20\n",
            "34/34 [==============================] - ETA: 0s - loss: 0.1673 - categorical_accuracy: 0.9495\n",
            "Epoch 00019: saving model to model_init_2022-05-1812_12_31.872941/model-00019-0.16726-0.94947-0.42426-0.89000.h5\n",
            "34/34 [==============================] - 155s 5s/step - loss: 0.1673 - categorical_accuracy: 0.9495 - val_loss: 0.4243 - val_categorical_accuracy: 0.8900 - lr: 2.0000e-04\n",
            "Epoch 20/20\n",
            "34/34 [==============================] - ETA: 0s - loss: 0.2854 - categorical_accuracy: 0.9057\n",
            "Epoch 00020: saving model to model_init_2022-05-1812_12_31.872941/model-00020-0.28536-0.90573-0.71521-0.74000.h5\n",
            "\n",
            "Epoch 00020: ReduceLROnPlateau reducing learning rate to 4.0000001899898055e-05.\n",
            "34/34 [==============================] - 158s 5s/step - loss: 0.2854 - categorical_accuracy: 0.9057 - val_loss: 0.7152 - val_categorical_accuracy: 0.7400 - lr: 2.0000e-04\n"
          ]
        }
      ],
      "source": [
        "print(\"Total Params:\", conv_3d6_model.count_params())\n",
        "# training the model\n",
        "history_model6=conv_3d6.train_model(conv_3d6_model,augment_data=True)"
      ]
    },
    {
      "cell_type": "code",
      "execution_count": null,
      "metadata": {
        "id": "R1Ma3CFLNyog",
        "outputId": "d97ac197-8636-413e-9952-0508915d602b"
      },
      "outputs": [
        {
          "data": {
            "image/png": "[encoded data removed]",
            "text/plain": [
              "<Figure size 1080x288 with 2 Axes>"
            ]
          },
          "metadata": {
            "needs_background": "light"
          },
          "output_type": "display_data"
        }
      ],
      "source": [
        "# plotting the model training history\n",
        "plot(history_model6)"
      ]
    },
    {
      "cell_type": "markdown",
      "metadata": {
        "id": "ZAmuRPs-Nyoh"
      },
      "source": [
        "For the above low memory foot print model the best validation accuracy of 90% which is slightly improvised than earlier model and still the overfitting is there"
      ]
    },
    {
      "cell_type": "markdown",
      "metadata": {
        "id": "dlTJE-3DNyoh"
      },
      "source": [
        "### Model 7 - CNN- LSTM Model"
      ]
    },
    {
      "cell_type": "code",
      "execution_count": null,
      "metadata": {
        "id": "r_Jvmc3ONyoh"
      },
      "outputs": [],
      "source": [
        "\n",
        "class RNNCNN1(ModelBuilder):\n",
        "    \n",
        "    def define_model(self,lstm_cells=64,dense_neurons=64,dropout=0.25):\n",
        "\n",
        "        model = Sequential()\n",
        "\n",
        "        model.add(TimeDistributed(Conv2D(16, (3, 3) , padding='same', activation='relu'),\n",
        "                                  input_shape=(self.frames_to_sample,self.image_height,self.image_width,self.channels)))\n",
        "        model.add(TimeDistributed(BatchNormalization()))\n",
        "        model.add(TimeDistributed(MaxPooling2D((2, 2))))\n",
        "        \n",
        "        model.add(TimeDistributed(Conv2D(32, (3, 3) , padding='same', activation='relu')))\n",
        "        model.add(TimeDistributed(BatchNormalization()))\n",
        "        model.add(TimeDistributed(MaxPooling2D((2, 2))))\n",
        "        \n",
        "        model.add(TimeDistributed(Conv2D(64, (3, 3) , padding='same', activation='relu')))\n",
        "        model.add(TimeDistributed(BatchNormalization()))\n",
        "        model.add(TimeDistributed(MaxPooling2D((2, 2))))\n",
        "        \n",
        "        model.add(TimeDistributed(Conv2D(128, (3, 3) , padding='same', activation='relu')))\n",
        "        model.add(TimeDistributed(BatchNormalization()))\n",
        "        model.add(TimeDistributed(MaxPooling2D((2, 2))))\n",
        "        \n",
        "        model.add(TimeDistributed(Conv2D(256, (3, 3) , padding='same', activation='relu')))\n",
        "        model.add(TimeDistributed(BatchNormalization()))\n",
        "        model.add(TimeDistributed(MaxPooling2D((2, 2))))\n",
        "\n",
        "        model.add(TimeDistributed(Flatten()))\n",
        "\n",
        "\n",
        "        model.add(LSTM(lstm_cells))\n",
        "        model.add(Dropout(dropout))\n",
        "        \n",
        "        model.add(Dense(dense_neurons,activation='relu'))\n",
        "        model.add(Dropout(dropout))\n",
        "        \n",
        "        model.add(Dense(self.num_classes, activation='softmax'))\n",
        "        \n",
        "        optimiser = optimizers.Adam()\n",
        "        model.compile(optimizer=optimiser, loss='categorical_crossentropy', metrics=['categorical_accuracy'])\n",
        "        return model"
      ]
    },
    {
      "cell_type": "code",
      "execution_count": null,
      "metadata": {
        "id": "WgC4wgsANyoh",
        "outputId": "1f957d0b-1c2b-47fd-c022-2d6a6ecf3eee"
      },
      "outputs": [
        {
          "name": "stdout",
          "output_type": "stream",
          "text": [
            "Model: \"sequential_11\"\n",
            "_________________________________________________________________\n",
            " Layer (type)                Output Shape              Param #   \n",
            "=================================================================\n",
            " time_distributed (TimeDistr  (None, 18, 120, 120, 16)  448      \n",
            " ibuted)                                                         \n",
            "                                                                 \n",
            " time_distributed_1 (TimeDis  (None, 18, 120, 120, 16)  64       \n",
            " tributed)                                                       \n",
            "                                                                 \n",
            " time_distributed_2 (TimeDis  (None, 18, 60, 60, 16)   0         \n",
            " tributed)                                                       \n",
            "                                                                 \n",
            " time_distributed_3 (TimeDis  (None, 18, 60, 60, 32)   4640      \n",
            " tributed)                                                       \n",
            "                                                                 \n",
            " time_distributed_4 (TimeDis  (None, 18, 60, 60, 32)   128       \n",
            " tributed)                                                       \n",
            "                                                                 \n",
            " time_distributed_5 (TimeDis  (None, 18, 30, 30, 32)   0         \n",
            " tributed)                                                       \n",
            "                                                                 \n",
            " time_distributed_6 (TimeDis  (None, 18, 30, 30, 64)   18496     \n",
            " tributed)                                                       \n",
            "                                                                 \n",
            " time_distributed_7 (TimeDis  (None, 18, 30, 30, 64)   256       \n",
            " tributed)                                                       \n",
            "                                                                 \n",
            " time_distributed_8 (TimeDis  (None, 18, 15, 15, 64)   0         \n",
            " tributed)                                                       \n",
            "                                                                 \n",
            " time_distributed_9 (TimeDis  (None, 18, 15, 15, 128)  73856     \n",
            " tributed)                                                       \n",
            "                                                                 \n",
            " time_distributed_10 (TimeDi  (None, 18, 15, 15, 128)  512       \n",
            " stributed)                                                      \n",
            "                                                                 \n",
            " time_distributed_11 (TimeDi  (None, 18, 7, 7, 128)    0         \n",
            " stributed)                                                      \n",
            "                                                                 \n",
            " time_distributed_12 (TimeDi  (None, 18, 7, 7, 256)    295168    \n",
            " stributed)                                                      \n",
            "                                                                 \n",
            " time_distributed_13 (TimeDi  (None, 18, 7, 7, 256)    1024      \n",
            " stributed)                                                      \n",
            "                                                                 \n",
            " time_distributed_14 (TimeDi  (None, 18, 3, 3, 256)    0         \n",
            " stributed)                                                      \n",
            "                                                                 \n",
            " time_distributed_15 (TimeDi  (None, 18, 2304)         0         \n",
            " stributed)                                                      \n",
            "                                                                 \n",
            " lstm (LSTM)                 (None, 128)               1245696   \n",
            "                                                                 \n",
            " dropout_26 (Dropout)        (None, 128)               0         \n",
            "                                                                 \n",
            " dense_33 (Dense)            (None, 128)               16512     \n",
            "                                                                 \n",
            " dropout_27 (Dropout)        (None, 128)               0         \n",
            "                                                                 \n",
            " dense_34 (Dense)            (None, 5)                 645       \n",
            "                                                                 \n",
            "=================================================================\n",
            "Total params: 1,657,445\n",
            "Trainable params: 1,656,453\n",
            "Non-trainable params: 992\n",
            "_________________________________________________________________\n"
          ]
        }
      ],
      "source": [
        "# getting rnn model\n",
        "rnn_cnn1=RNNCNN1()\n",
        "# initializing the paths\n",
        "rnn_cnn1.initialize_path(project_folder)\n",
        "# initializing the image properties\n",
        "rnn_cnn1.initialize_image_properties(image_height=120,image_width=120)\n",
        "# initializing the hyper parameters\n",
        "rnn_cnn1.initialize_hyperparams(frames_to_sample=18,batch_size=20,num_epochs=30)\n",
        "# defining the model\n",
        "rnn_cnn1_model=rnn_cnn1.define_model(lstm_cells=128,dense_neurons=128,dropout=0.25)\n",
        "# printing the model summary\n",
        "rnn_cnn1_model.summary()"
      ]
    },
    {
      "cell_type": "code",
      "execution_count": null,
      "metadata": {
        "id": "m0HeRSGPNyoh",
        "outputId": "4976d64c-3df2-4e17-9d2a-94e2951ae2d8"
      },
      "outputs": [
        {
          "name": "stdout",
          "output_type": "stream",
          "text": [
            "Total Params: 1657445\n",
            "WARNING:tensorflow:`period` argument is deprecated. Please use `save_freq` to specify the frequency in number of batches seen.\n",
            "Epoch 1/30\n",
            "34/34 [==============================] - ETA: 0s - loss: 1.3673 - categorical_accuracy: 0.4103\n",
            "Epoch 00001: saving model to model_init_2022-05-1813_04_36.180969/model-00001-1.36732-0.41026-1.66819-0.29000.h5\n",
            "34/34 [==============================] - 185s 6s/step - loss: 1.3673 - categorical_accuracy: 0.4103 - val_loss: 1.6682 - val_categorical_accuracy: 0.2900 - lr: 0.0010\n",
            "Epoch 2/30\n",
            "34/34 [==============================] - ETA: 0s - loss: 1.0261 - categorical_accuracy: 0.5890\n",
            "Epoch 00002: saving model to model_init_2022-05-1813_04_36.180969/model-00002-1.02613-0.58899-1.95392-0.20000.h5\n",
            "34/34 [==============================] - 179s 5s/step - loss: 1.0261 - categorical_accuracy: 0.5890 - val_loss: 1.9539 - val_categorical_accuracy: 0.2000 - lr: 0.0010\n",
            "Epoch 3/30\n",
            "34/34 [==============================] - ETA: 0s - loss: 0.9254 - categorical_accuracy: 0.6305\n",
            "Epoch 00003: saving model to model_init_2022-05-1813_04_36.180969/model-00003-0.92537-0.63047-2.45944-0.18000.h5\n",
            "34/34 [==============================] - 177s 5s/step - loss: 0.9254 - categorical_accuracy: 0.6305 - val_loss: 2.4594 - val_categorical_accuracy: 0.1800 - lr: 0.0010\n",
            "Epoch 4/30\n",
            "34/34 [==============================] - ETA: 0s - loss: 0.8052 - categorical_accuracy: 0.6953\n",
            "Epoch 00004: saving model to model_init_2022-05-1813_04_36.180969/model-00004-0.80516-0.69532-1.92398-0.30000.h5\n",
            "34/34 [==============================] - 180s 5s/step - loss: 0.8052 - categorical_accuracy: 0.6953 - val_loss: 1.9240 - val_categorical_accuracy: 0.3000 - lr: 0.0010\n",
            "Epoch 5/30\n",
            "34/34 [==============================] - ETA: 0s - loss: 0.7859 - categorical_accuracy: 0.6885\n",
            "Epoch 00005: saving model to model_init_2022-05-1813_04_36.180969/model-00005-0.78586-0.68854-2.10435-0.31000.h5\n",
            "\n",
            "Epoch 00005: ReduceLROnPlateau reducing learning rate to 0.00020000000949949026.\n",
            "34/34 [==============================] - 176s 5s/step - loss: 0.7859 - categorical_accuracy: 0.6885 - val_loss: 2.1044 - val_categorical_accuracy: 0.3100 - lr: 0.0010\n",
            "Epoch 6/30\n",
            "34/34 [==============================] - ETA: 0s - loss: 0.5685 - categorical_accuracy: 0.7888\n",
            "Epoch 00006: saving model to model_init_2022-05-1813_04_36.180969/model-00006-0.56846-0.78884-1.86091-0.33000.h5\n",
            "34/34 [==============================] - 177s 5s/step - loss: 0.5685 - categorical_accuracy: 0.7888 - val_loss: 1.8609 - val_categorical_accuracy: 0.3300 - lr: 2.0000e-04\n",
            "Epoch 7/30\n",
            "34/34 [==============================] - ETA: 0s - loss: 0.5365 - categorical_accuracy: 0.8115\n",
            "Epoch 00007: saving model to model_init_2022-05-1813_04_36.180969/model-00007-0.53653-0.81146-2.05410-0.29000.h5\n",
            "34/34 [==============================] - 177s 5s/step - loss: 0.5365 - categorical_accuracy: 0.8115 - val_loss: 2.0541 - val_categorical_accuracy: 0.2900 - lr: 2.0000e-04\n",
            "Epoch 8/30\n",
            "34/34 [==============================] - ETA: 0s - loss: 0.4663 - categorical_accuracy: 0.8409\n",
            "Epoch 00008: saving model to model_init_2022-05-1813_04_36.180969/model-00008-0.46634-0.84087-2.29749-0.28000.h5\n",
            "34/34 [==============================] - 179s 5s/step - loss: 0.4663 - categorical_accuracy: 0.8409 - val_loss: 2.2975 - val_categorical_accuracy: 0.2800 - lr: 2.0000e-04\n",
            "Epoch 9/30\n",
            "34/34 [==============================] - ETA: 0s - loss: 0.4300 - categorical_accuracy: 0.8333\n",
            "Epoch 00009: saving model to model_init_2022-05-1813_04_36.180969/model-00009-0.43005-0.83333-2.12749-0.33000.h5\n",
            "\n",
            "Epoch 00009: ReduceLROnPlateau reducing learning rate to 4.0000001899898055e-05.\n",
            "34/34 [==============================] - 175s 5s/step - loss: 0.4300 - categorical_accuracy: 0.8333 - val_loss: 2.1275 - val_categorical_accuracy: 0.3300 - lr: 2.0000e-04\n",
            "Epoch 10/30\n",
            "34/34 [==============================] - ETA: 0s - loss: 0.3343 - categorical_accuracy: 0.8816\n",
            "Epoch 00010: saving model to model_init_2022-05-1813_04_36.180969/model-00010-0.33431-0.88160-2.07578-0.39000.h5\n",
            "34/34 [==============================] - 178s 5s/step - loss: 0.3343 - categorical_accuracy: 0.8816 - val_loss: 2.0758 - val_categorical_accuracy: 0.3900 - lr: 4.0000e-05\n",
            "Epoch 11/30\n",
            "34/34 [==============================] - ETA: 0s - loss: 0.3531 - categorical_accuracy: 0.8741\n",
            "Epoch 00011: saving model to model_init_2022-05-1813_04_36.180969/model-00011-0.35308-0.87406-2.04367-0.39000.h5\n",
            "34/34 [==============================] - 176s 5s/step - loss: 0.3531 - categorical_accuracy: 0.8741 - val_loss: 2.0437 - val_categorical_accuracy: 0.3900 - lr: 4.0000e-05\n",
            "Epoch 12/30\n",
            "34/34 [==============================] - ETA: 0s - loss: 0.3388 - categorical_accuracy: 0.8824\n",
            "Epoch 00012: saving model to model_init_2022-05-1813_04_36.180969/model-00012-0.33882-0.88235-1.94145-0.43000.h5\n",
            "34/34 [==============================] - 178s 5s/step - loss: 0.3388 - categorical_accuracy: 0.8824 - val_loss: 1.9414 - val_categorical_accuracy: 0.4300 - lr: 4.0000e-05\n",
            "Epoch 13/30\n",
            "34/34 [==============================] - ETA: 0s - loss: 0.3311 - categorical_accuracy: 0.8801\n",
            "Epoch 00013: saving model to model_init_2022-05-1813_04_36.180969/model-00013-0.33112-0.88009-1.73853-0.47000.h5\n",
            "\n",
            "Epoch 00013: ReduceLROnPlateau reducing learning rate to 8.000000525498762e-06.\n",
            "34/34 [==============================] - 178s 5s/step - loss: 0.3311 - categorical_accuracy: 0.8801 - val_loss: 1.7385 - val_categorical_accuracy: 0.4700 - lr: 4.0000e-05\n",
            "Epoch 14/30\n",
            "34/34 [==============================] - ETA: 0s - loss: 0.3069 - categorical_accuracy: 0.8929\n",
            "Epoch 00014: saving model to model_init_2022-05-1813_04_36.180969/model-00014-0.30694-0.89291-1.16968-0.64000.h5\n",
            "34/34 [==============================] - 176s 5s/step - loss: 0.3069 - categorical_accuracy: 0.8929 - val_loss: 1.1697 - val_categorical_accuracy: 0.6400 - lr: 8.0000e-06\n",
            "Epoch 15/30\n",
            "34/34 [==============================] - ETA: 0s - loss: 0.3050 - categorical_accuracy: 0.8952\n",
            "Epoch 00015: saving model to model_init_2022-05-1813_04_36.180969/model-00015-0.30501-0.89517-1.25033-0.54000.h5\n",
            "34/34 [==============================] - 178s 5s/step - loss: 0.3050 - categorical_accuracy: 0.8952 - val_loss: 1.2503 - val_categorical_accuracy: 0.5400 - lr: 8.0000e-06\n",
            "Epoch 16/30\n",
            "34/34 [==============================] - ETA: 0s - loss: 0.2898 - categorical_accuracy: 0.8997\n",
            "Epoch 00016: saving model to model_init_2022-05-1813_04_36.180969/model-00016-0.28981-0.89970-0.94831-0.66000.h5\n",
            "34/34 [==============================] - 177s 5s/step - loss: 0.2898 - categorical_accuracy: 0.8997 - val_loss: 0.9483 - val_categorical_accuracy: 0.6600 - lr: 8.0000e-06\n",
            "Epoch 17/30\n",
            "34/34 [==============================] - ETA: 0s - loss: 0.2879 - categorical_accuracy: 0.9057\n",
            "Epoch 00017: saving model to model_init_2022-05-1813_04_36.180969/model-00017-0.28793-0.90573-0.78024-0.68000.h5\n",
            "34/34 [==============================] - 179s 5s/step - loss: 0.2879 - categorical_accuracy: 0.9057 - val_loss: 0.7802 - val_categorical_accuracy: 0.6800 - lr: 8.0000e-06\n",
            "Epoch 18/30\n",
            "34/34 [==============================] - ETA: 0s - loss: 0.3064 - categorical_accuracy: 0.8989\n",
            "Epoch 00018: saving model to model_init_2022-05-1813_04_36.180969/model-00018-0.30636-0.89894-0.65757-0.77000.h5\n",
            "34/34 [==============================] - 176s 5s/step - loss: 0.3064 - categorical_accuracy: 0.8989 - val_loss: 0.6576 - val_categorical_accuracy: 0.7700 - lr: 8.0000e-06\n",
            "Epoch 19/30\n",
            "34/34 [==============================] - ETA: 0s - loss: 0.3072 - categorical_accuracy: 0.8989\n",
            "Epoch 00019: saving model to model_init_2022-05-1813_04_36.180969/model-00019-0.30716-0.89894-0.59149-0.83000.h5\n",
            "34/34 [==============================] - 176s 5s/step - loss: 0.3072 - categorical_accuracy: 0.8989 - val_loss: 0.5915 - val_categorical_accuracy: 0.8300 - lr: 8.0000e-06\n",
            "Epoch 20/30\n",
            "34/34 [==============================] - ETA: 0s - loss: 0.3096 - categorical_accuracy: 0.8952\n",
            "Epoch 00020: saving model to model_init_2022-05-1813_04_36.180969/model-00020-0.30961-0.89517-0.56107-0.75000.h5\n",
            "34/34 [==============================] - 176s 5s/step - loss: 0.3096 - categorical_accuracy: 0.8952 - val_loss: 0.5611 - val_categorical_accuracy: 0.7500 - lr: 8.0000e-06\n",
            "Epoch 21/30\n",
            "34/34 [==============================] - ETA: 0s - loss: 0.2754 - categorical_accuracy: 0.9057\n",
            "Epoch 00021: saving model to model_init_2022-05-1813_04_36.180969/model-00021-0.27536-0.90573-0.54435-0.78000.h5\n",
            "34/34 [==============================] - 176s 5s/step - loss: 0.2754 - categorical_accuracy: 0.9057 - val_loss: 0.5444 - val_categorical_accuracy: 0.7800 - lr: 8.0000e-06\n",
            "Epoch 22/30\n",
            "34/34 [==============================] - ETA: 0s - loss: 0.2975 - categorical_accuracy: 0.9027\n",
            "Epoch 00022: saving model to model_init_2022-05-1813_04_36.180969/model-00022-0.29751-0.90271-0.58134-0.77000.h5\n",
            "34/34 [==============================] - 177s 5s/step - loss: 0.2975 - categorical_accuracy: 0.9027 - val_loss: 0.5813 - val_categorical_accuracy: 0.7700 - lr: 8.0000e-06\n",
            "Epoch 23/30\n",
            "34/34 [==============================] - ETA: 0s - loss: 0.2978 - categorical_accuracy: 0.8929\n",
            "Epoch 00023: saving model to model_init_2022-05-1813_04_36.180969/model-00023-0.29779-0.89291-0.55947-0.80000.h5\n",
            "34/34 [==============================] - 175s 5s/step - loss: 0.2978 - categorical_accuracy: 0.8929 - val_loss: 0.5595 - val_categorical_accuracy: 0.8000 - lr: 8.0000e-06\n",
            "Epoch 24/30\n",
            "34/34 [==============================] - ETA: 0s - loss: 0.2838 - categorical_accuracy: 0.9042\n",
            "Epoch 00024: saving model to model_init_2022-05-1813_04_36.180969/model-00024-0.28384-0.90422-0.59393-0.80000.h5\n",
            "34/34 [==============================] - 175s 5s/step - loss: 0.2838 - categorical_accuracy: 0.9042 - val_loss: 0.5939 - val_categorical_accuracy: 0.8000 - lr: 8.0000e-06\n",
            "Epoch 25/30\n",
            "34/34 [==============================] - ETA: 0s - loss: 0.2890 - categorical_accuracy: 0.9080\n",
            "Epoch 00025: saving model to model_init_2022-05-1813_04_36.180969/model-00025-0.28897-0.90799-0.56742-0.79000.h5\n",
            "\n",
            "Epoch 00025: ReduceLROnPlateau reducing learning rate to 1.6000001778593287e-06.\n",
            "34/34 [==============================] - 176s 5s/step - loss: 0.2890 - categorical_accuracy: 0.9080 - val_loss: 0.5674 - val_categorical_accuracy: 0.7900 - lr: 8.0000e-06\n",
            "Epoch 26/30\n",
            "34/34 [==============================] - ETA: 0s - loss: 0.2927 - categorical_accuracy: 0.9057\n",
            "Epoch 00026: saving model to model_init_2022-05-1813_04_36.180969/model-00026-0.29269-0.90573-0.54123-0.80000.h5\n",
            "34/34 [==============================] - 177s 5s/step - loss: 0.2927 - categorical_accuracy: 0.9057 - val_loss: 0.5412 - val_categorical_accuracy: 0.8000 - lr: 1.6000e-06\n",
            "Epoch 27/30\n",
            "34/34 [==============================] - ETA: 0s - loss: 0.2886 - categorical_accuracy: 0.9012\n",
            "Epoch 00027: saving model to model_init_2022-05-1813_04_36.180969/model-00027-0.28860-0.90121-0.49794-0.79000.h5\n",
            "34/34 [==============================] - 175s 5s/step - loss: 0.2886 - categorical_accuracy: 0.9012 - val_loss: 0.4979 - val_categorical_accuracy: 0.7900 - lr: 1.6000e-06\n",
            "Epoch 28/30\n",
            "34/34 [==============================] - ETA: 0s - loss: 0.2787 - categorical_accuracy: 0.9118\n",
            "Epoch 00028: saving model to model_init_2022-05-1813_04_36.180969/model-00028-0.27867-0.91176-0.54676-0.80000.h5\n",
            "34/34 [==============================] - 179s 5s/step - loss: 0.2787 - categorical_accuracy: 0.9118 - val_loss: 0.5468 - val_categorical_accuracy: 0.8000 - lr: 1.6000e-06\n",
            "Epoch 29/30\n",
            "34/34 [==============================] - ETA: 0s - loss: 0.2825 - categorical_accuracy: 0.9080\n",
            "Epoch 00029: saving model to model_init_2022-05-1813_04_36.180969/model-00029-0.28245-0.90799-0.38607-0.83000.h5\n",
            "34/34 [==============================] - 172s 5s/step - loss: 0.2825 - categorical_accuracy: 0.9080 - val_loss: 0.3861 - val_categorical_accuracy: 0.8300 - lr: 1.6000e-06\n",
            "Epoch 30/30\n",
            "34/34 [==============================] - ETA: 0s - loss: 0.2723 - categorical_accuracy: 0.9125\n",
            "Epoch 00030: saving model to model_init_2022-05-1813_04_36.180969/model-00030-0.27233-0.91252-0.57959-0.78000.h5\n",
            "34/34 [==============================] - 170s 5s/step - loss: 0.2723 - categorical_accuracy: 0.9125 - val_loss: 0.5796 - val_categorical_accuracy: 0.7800 - lr: 1.6000e-06\n"
          ]
        }
      ],
      "source": [
        "print(\"Total Params:\", rnn_cnn1_model.count_params())\n",
        "# training the model\n",
        "history_model7=rnn_cnn1.train_model(rnn_cnn1_model,augment_data=True)"
      ]
    },
    {
      "cell_type": "code",
      "execution_count": null,
      "metadata": {
        "id": "IH1JfmY7Nyoh",
        "outputId": "2f1ebce2-5b65-44b2-fe95-4c2be4be4a4d"
      },
      "outputs": [
        {
          "data": {
            "image/png": "[encoded data removed]",
            "text/plain": [
              "<Figure size 1080x288 with 2 Axes>"
            ]
          },
          "metadata": {
            "needs_background": "light"
          },
          "output_type": "display_data"
        }
      ],
      "source": [
        "# plotting the model training history\n",
        "plot(history_model7)"
      ]
    },
    {
      "cell_type": "markdown",
      "metadata": {
        "id": "rPDwAUXyNyoh"
      },
      "source": [
        "For CNN - LSTM model we get a best validation accuracy of 91%. When compared to previous models where we have reduced the parameters. \n",
        "We can experiment on understanding augmentation of the data with slight rotation as well and run the same set of models again. Here we can observe how augmentation influences the performance."
      ]
    },
    {
      "cell_type": "markdown",
      "metadata": {
        "id": "DgbW_QEFNyoh"
      },
      "source": [
        "## More Augmentation"
      ]
    },
    {
      "cell_type": "code",
      "execution_count": null,
      "metadata": {
        "id": "oFvTN3ctNyoh"
      },
      "outputs": [],
      "source": [
        "class ModelBuilderMoreAugmentation(metaclass= abc.ABCMeta):\n",
        "    \n",
        "    def initialize_path(self,project_folder):\n",
        "        self.train_doc = np.random.permutation(open(project_folder + '/' + 'train.csv').readlines())\n",
        "        self.val_doc = np.random.permutation(open(project_folder + '/' + 'val.csv').readlines())\n",
        "        self.train_path = project_folder + '/' + 'train'\n",
        "        self.val_path =  project_folder + '/' + 'val'\n",
        "        self.num_train_sequences = len(self.train_doc)\n",
        "        self.num_val_sequences = len(self.val_doc)\n",
        "        \n",
        "    def initialize_image_properties(self,image_height=100,image_width=100):\n",
        "        self.image_height=image_height\n",
        "        self.image_width=image_width\n",
        "        self.channels=3\n",
        "        self.num_classes=5\n",
        "        self.total_frames=30\n",
        "          \n",
        "    def initialize_hyperparams(self,frames_to_sample=30,batch_size=20,num_epochs=20):\n",
        "        self.frames_to_sample=frames_to_sample\n",
        "        self.batch_size=batch_size\n",
        "        self.num_epochs=num_epochs\n",
        "        \n",
        "        \n",
        "    def generator(self,source_path, folder_list, augment=False):\n",
        "        img_idx = np.round(np.linspace(0,self.total_frames-1,self.frames_to_sample)).astype(int)\n",
        "        batch_size=self.batch_size\n",
        "        while True:\n",
        "            t = np.random.permutation(folder_list)\n",
        "            num_batches = len(t)//batch_size\n",
        "        \n",
        "            for batch in range(num_batches): \n",
        "                batch_data, batch_labels= self.one_batch_data(source_path,t,batch,batch_size,img_idx,augment)\n",
        "                yield batch_data, batch_labels \n",
        "\n",
        "            remaining_seq=len(t)%batch_size\n",
        "        \n",
        "            if (remaining_seq != 0):\n",
        "                batch_data, batch_labels= self.one_batch_data(source_path,t,num_batches,batch_size,img_idx,augment,remaining_seq)\n",
        "                yield batch_data, batch_labels \n",
        "    \n",
        "    \n",
        "    def one_batch_data(self,source_path,t,batch,batch_size,img_idx,augment,remaining_seq=0):\n",
        "    \n",
        "        seq_len = remaining_seq if remaining_seq else batch_size\n",
        "    \n",
        "        batch_data = np.zeros((seq_len,len(img_idx),self.image_height,self.image_width,self.channels)) \n",
        "        batch_labels = np.zeros((seq_len,self.num_classes)) \n",
        "    \n",
        "        if (augment): batch_data_aug = np.zeros((seq_len,len(img_idx),self.image_height,self.image_width,self.channels))\n",
        "\n",
        "        \n",
        "        for folder in range(seq_len): \n",
        "            imgs = os.listdir(source_path+'/'+ t[folder + (batch*batch_size)].split(';')[0]) \n",
        "            for idx,item in enumerate(img_idx): \n",
        "                image = imread(source_path+'/'+ t[folder + (batch*batch_size)].strip().split(';')[0]+'/'+imgs[item]).astype(np.float32)\n",
        "                image_resized=resize(image,(self.image_height,self.image_width,3))\n",
        "            \n",
        "\n",
        "                batch_data[folder,idx,:,:,0] = (image_resized[:,:,0])/255\n",
        "                batch_data[folder,idx,:,:,1] = (image_resized[:,:,1])/255\n",
        "                batch_data[folder,idx,:,:,2] = (image_resized[:,:,2])/255\n",
        "            \n",
        "                if (augment):\n",
        "                    shifted = cv2.warpAffine(image, \n",
        "                                             np.float32([[1, 0, np.random.randint(-30,30)],[0, 1, np.random.randint(-30,30)]]), \n",
        "                                            (image.shape[1], image.shape[0]))\n",
        "                    \n",
        "                    gray = cv2.cvtColor(shifted,cv2.COLOR_BGR2GRAY)\n",
        "\n",
        "                    x0, y0 = np.argwhere(gray > 0).min(axis=0)\n",
        "                    x1, y1 = np.argwhere(gray > 0).max(axis=0) \n",
        "                    \n",
        "                    cropped=shifted[x0:x1,y0:y1,:]\n",
        "                    \n",
        "                    image_resized=resize(cropped,(self.image_height,self.image_width,3))\n",
        "                    \n",
        "                    M = cv2.getRotationMatrix2D((self.image_width//2,self.image_height//2),\n",
        "                                                np.random.randint(-10,10), 1.0)\n",
        "                    rotated = cv2.warpAffine(image_resized, M, (self.image_width, self.image_height))\n",
        "                    \n",
        "                    #shifted = cv2.warpAffine(image_resized, \n",
        "                    #                        np.float32([[1, 0, np.random.randint(-3,3)],[0, 1, np.random.randint(-3,3)]]), \n",
        "                    #                        (image_resized.shape[1], image_resized.shape[0]))\n",
        "            \n",
        "                    batch_data_aug[folder,idx,:,:,0] = (rotated[:,:,0])/255\n",
        "                    batch_data_aug[folder,idx,:,:,1] = (rotated[:,:,1])/255\n",
        "                    batch_data_aug[folder,idx,:,:,2] = (rotated[:,:,2])/255\n",
        "                \n",
        "            \n",
        "            batch_labels[folder, int(t[folder + (batch*batch_size)].strip().split(';')[2])] = 1\n",
        "            \n",
        "    \n",
        "        if (augment):\n",
        "            batch_data=np.concatenate([batch_data,batch_data_aug])\n",
        "            batch_labels=np.concatenate([batch_labels,batch_labels])\n",
        "\n",
        "        \n",
        "        return(batch_data,batch_labels)\n",
        "    \n",
        "    def train_model(self, model, augment_data=False):\n",
        "        train_generator = self.generator(self.train_path, self.train_doc,augment=augment_data)\n",
        "        val_generator = self.generator(self.val_path, self.val_doc)\n",
        "\n",
        "        model_name = 'model_init' + '_' + str(datetime.datetime.now()).replace(' ','').replace(':','_') + '/'\n",
        "    \n",
        "        if not os.path.exists(model_name):\n",
        "            os.mkdir(model_name)\n",
        "        \n",
        "        filepath = model_name + 'model-{epoch:05d}-{loss:.5f}-{categorical_accuracy:.5f}-{val_loss:.5f}-{val_categorical_accuracy:.5f}.h5'\n",
        "\n",
        "        checkpoint = ModelCheckpoint(filepath, monitor='val_loss', verbose=1, save_best_only=False, save_weights_only=False, mode='auto', period=1)\n",
        "        LR = ReduceLROnPlateau(monitor='val_loss', factor=0.2, verbose=1, patience=4)\n",
        "        callbacks_list = [checkpoint, LR]\n",
        "\n",
        "        if (self.num_train_sequences%self.batch_size) == 0:\n",
        "            steps_per_epoch = int(self.num_train_sequences/self.batch_size)\n",
        "        else:\n",
        "            steps_per_epoch = (self.num_train_sequences//self.batch_size) + 1\n",
        "\n",
        "        if (self.num_val_sequences%self.batch_size) == 0:\n",
        "            validation_steps = int(self.num_val_sequences/self.batch_size)\n",
        "        else:\n",
        "            validation_steps = (self.num_val_sequences//self.batch_size) + 1\n",
        "    \n",
        "        history=model.fit_generator(train_generator, steps_per_epoch=steps_per_epoch, epochs=self.num_epochs, verbose=1, \n",
        "                            callbacks=callbacks_list, validation_data=val_generator, \n",
        "                            validation_steps=validation_steps, class_weight=None, workers=1, initial_epoch=0)\n",
        "        return history\n",
        "\n",
        "        \n",
        "    @abc.abstractmethod\n",
        "    def define_model(self):\n",
        "        pass\n"
      ]
    },
    {
      "cell_type": "markdown",
      "metadata": {
        "id": "23BhFycJNyoi"
      },
      "source": [
        "## Model 8 - (3,3,3) Filter & 160x160 Image resolution - similar to Model 2"
      ]
    },
    {
      "cell_type": "code",
      "execution_count": null,
      "metadata": {
        "id": "VwyNAr7NNyoi"
      },
      "outputs": [],
      "source": [
        "class ModelConv3D8(ModelBuilderMoreAugmentation):\n",
        "    \n",
        "    def define_model(self,filtersize=(3,3,3),dense_neurons=64,dropout=0.25):\n",
        "\n",
        "        model = Sequential()\n",
        "        model.add(Conv3D(16, filtersize, padding='same',\n",
        "                 input_shape=(self.frames_to_sample,self.image_height,self.image_width,self.channels)))\n",
        "        model.add(Activation('relu'))\n",
        "        model.add(BatchNormalization())\n",
        "        model.add(MaxPooling3D(pool_size=(2, 2, 2)))\n",
        "\n",
        "        model.add(Conv3D(32, filtersize, padding='same'))\n",
        "        model.add(Activation('relu'))\n",
        "        model.add(BatchNormalization())\n",
        "        model.add(MaxPooling3D(pool_size=(2, 2, 2)))\n",
        "\n",
        "        model.add(Conv3D(64, filtersize, padding='same'))\n",
        "        model.add(Activation('relu'))\n",
        "        model.add(BatchNormalization())\n",
        "        model.add(MaxPooling3D(pool_size=(2, 2, 2)))\n",
        "\n",
        "        model.add(Conv3D(128, filtersize, padding='same'))\n",
        "        model.add(Activation('relu'))\n",
        "        model.add(BatchNormalization())\n",
        "        model.add(MaxPooling3D(pool_size=(2, 2, 2)))\n",
        "\n",
        "        model.add(Flatten())\n",
        "        model.add(Dense(dense_neurons,activation='relu'))\n",
        "        model.add(BatchNormalization())\n",
        "        model.add(Dropout(dropout))\n",
        "\n",
        "        model.add(Dense(dense_neurons,activation='relu'))\n",
        "        model.add(BatchNormalization())\n",
        "        model.add(Dropout(dropout))\n",
        "\n",
        "\n",
        "        model.add(Dense(self.num_classes,activation='softmax'))\n",
        "\n",
        "        optimiser = optimizers.Adam(lr=0.0002)\n",
        "        model.compile(optimizer=optimiser, loss='categorical_crossentropy', metrics=['categorical_accuracy'])\n",
        "        return model"
      ]
    },
    {
      "cell_type": "code",
      "execution_count": null,
      "metadata": {
        "id": "tjoqMBz2Nyoi",
        "outputId": "73babc3c-f0a6-410c-ab1d-c476e9ac0103"
      },
      "outputs": [
        {
          "name": "stdout",
          "output_type": "stream",
          "text": [
            "Model: \"sequential_12\"\n",
            "_________________________________________________________________\n",
            " Layer (type)                Output Shape              Param #   \n",
            "=================================================================\n",
            " conv3d_56 (Conv3D)          (None, 20, 160, 160, 16)  1312      \n",
            "                                                                 \n",
            " activation_56 (Activation)  (None, 20, 160, 160, 16)  0         \n",
            "                                                                 \n",
            " batch_normalization_83 (Bat  (None, 20, 160, 160, 16)  64       \n",
            " chNormalization)                                                \n",
            "                                                                 \n",
            " max_pooling3d_44 (MaxPoolin  (None, 10, 80, 80, 16)   0         \n",
            " g3D)                                                            \n",
            "                                                                 \n",
            " conv3d_57 (Conv3D)          (None, 10, 80, 80, 32)    13856     \n",
            "                                                                 \n",
            " activation_57 (Activation)  (None, 10, 80, 80, 32)    0         \n",
            "                                                                 \n",
            " batch_normalization_84 (Bat  (None, 10, 80, 80, 32)   128       \n",
            " chNormalization)                                                \n",
            "                                                                 \n",
            " max_pooling3d_45 (MaxPoolin  (None, 5, 40, 40, 32)    0         \n",
            " g3D)                                                            \n",
            "                                                                 \n",
            " conv3d_58 (Conv3D)          (None, 5, 40, 40, 64)     55360     \n",
            "                                                                 \n",
            " activation_58 (Activation)  (None, 5, 40, 40, 64)     0         \n",
            "                                                                 \n",
            " batch_normalization_85 (Bat  (None, 5, 40, 40, 64)    256       \n",
            " chNormalization)                                                \n",
            "                                                                 \n",
            " max_pooling3d_46 (MaxPoolin  (None, 2, 20, 20, 64)    0         \n",
            " g3D)                                                            \n",
            "                                                                 \n",
            " conv3d_59 (Conv3D)          (None, 2, 20, 20, 128)    221312    \n",
            "                                                                 \n",
            " activation_59 (Activation)  (None, 2, 20, 20, 128)    0         \n",
            "                                                                 \n",
            " batch_normalization_86 (Bat  (None, 2, 20, 20, 128)   512       \n",
            " chNormalization)                                                \n",
            "                                                                 \n",
            " max_pooling3d_47 (MaxPoolin  (None, 1, 10, 10, 128)   0         \n",
            " g3D)                                                            \n",
            "                                                                 \n",
            " flatten_12 (Flatten)        (None, 12800)             0         \n",
            "                                                                 \n",
            " dense_35 (Dense)            (None, 256)               3277056   \n",
            "                                                                 \n",
            " batch_normalization_87 (Bat  (None, 256)              1024      \n",
            " chNormalization)                                                \n",
            "                                                                 \n",
            " dropout_28 (Dropout)        (None, 256)               0         \n",
            "                                                                 \n",
            " dense_36 (Dense)            (None, 256)               65792     \n",
            "                                                                 \n",
            " batch_normalization_88 (Bat  (None, 256)              1024      \n",
            " chNormalization)                                                \n",
            "                                                                 \n",
            " dropout_29 (Dropout)        (None, 256)               0         \n",
            "                                                                 \n",
            " dense_37 (Dense)            (None, 5)                 1285      \n",
            "                                                                 \n",
            "=================================================================\n",
            "Total params: 3,638,981\n",
            "Trainable params: 3,637,477\n",
            "Non-trainable params: 1,504\n",
            "_________________________________________________________________\n"
          ]
        }
      ],
      "source": [
        "# getting the model\n",
        "conv_3d8=ModelConv3D8()\n",
        "# initializing the paths\n",
        "conv_3d8.initialize_path(project_folder)\n",
        "# initializing the image properties\n",
        "conv_3d8.initialize_image_properties(image_height=160,image_width=160)\n",
        "# initializing the hyper parameters\n",
        "conv_3d8.initialize_hyperparams(frames_to_sample=20,batch_size=20,num_epochs=30)\n",
        "# defining the model\n",
        "conv_3d8_model=conv_3d8.define_model(dense_neurons=256,dropout=0.5)\n",
        "# printing the model\n",
        "conv_3d8_model.summary()"
      ]
    },
    {
      "cell_type": "code",
      "execution_count": null,
      "metadata": {
        "id": "gjVFzbtNNyoi",
        "outputId": "27bf7e98-0ff3-4b33-abaf-1e862f46baa1"
      },
      "outputs": [
        {
          "name": "stdout",
          "output_type": "stream",
          "text": [
            "Total Params: 3638981\n",
            "WARNING:tensorflow:`period` argument is deprecated. Please use `save_freq` to specify the frequency in number of batches seen.\n",
            "Epoch 1/30\n",
            "34/34 [==============================] - ETA: 0s - loss: 1.9889 - categorical_accuracy: 0.3394\n",
            "Epoch 00001: saving model to model_init_2022-05-1814_33_06.241854/model-00001-1.98890-0.33937-2.43483-0.16000.h5\n",
            "34/34 [==============================] - 237s 7s/step - loss: 1.9889 - categorical_accuracy: 0.3394 - val_loss: 2.4348 - val_categorical_accuracy: 0.1600 - lr: 2.0000e-04\n",
            "Epoch 2/30\n",
            "34/34 [==============================] - ETA: 0s - loss: 1.5131 - categorical_accuracy: 0.4804\n",
            "Epoch 00002: saving model to model_init_2022-05-1814_33_06.241854/model-00002-1.51311-0.48039-4.64868-0.22000.h5\n",
            "34/34 [==============================] - 227s 7s/step - loss: 1.5131 - categorical_accuracy: 0.4804 - val_loss: 4.6487 - val_categorical_accuracy: 0.2200 - lr: 2.0000e-04\n",
            "Epoch 3/30\n",
            "34/34 [==============================] - ETA: 0s - loss: 1.2573 - categorical_accuracy: 0.5747\n",
            "Epoch 00003: saving model to model_init_2022-05-1814_33_06.241854/model-00003-1.25732-0.57466-6.56310-0.15000.h5\n",
            "34/34 [==============================] - 228s 7s/step - loss: 1.2573 - categorical_accuracy: 0.5747 - val_loss: 6.5631 - val_categorical_accuracy: 0.1500 - lr: 2.0000e-04\n",
            "Epoch 4/30\n",
            "34/34 [==============================] - ETA: 0s - loss: 1.0265 - categorical_accuracy: 0.6320\n",
            "Epoch 00004: saving model to model_init_2022-05-1814_33_06.241854/model-00004-1.02652-0.63198-7.88754-0.20000.h5\n",
            "34/34 [==============================] - 229s 7s/step - loss: 1.0265 - categorical_accuracy: 0.6320 - val_loss: 7.8875 - val_categorical_accuracy: 0.2000 - lr: 2.0000e-04\n",
            "Epoch 5/30\n",
            "34/34 [==============================] - ETA: 0s - loss: 0.9160 - categorical_accuracy: 0.6606\n",
            "Epoch 00005: saving model to model_init_2022-05-1814_33_06.241854/model-00005-0.91602-0.66063-7.50414-0.23000.h5\n",
            "\n",
            "Epoch 00005: ReduceLROnPlateau reducing learning rate to 3.9999998989515007e-05.\n",
            "34/34 [==============================] - 233s 7s/step - loss: 0.9160 - categorical_accuracy: 0.6606 - val_loss: 7.5041 - val_categorical_accuracy: 0.2300 - lr: 2.0000e-04\n",
            "Epoch 6/30\n",
            "34/34 [==============================] - ETA: 0s - loss: 0.7863 - categorical_accuracy: 0.7195\n",
            "Epoch 00006: saving model to model_init_2022-05-1814_33_06.241854/model-00006-0.78632-0.71946-7.69661-0.21000.h5\n",
            "34/34 [==============================] - 232s 7s/step - loss: 0.7863 - categorical_accuracy: 0.7195 - val_loss: 7.6966 - val_categorical_accuracy: 0.2100 - lr: 4.0000e-05\n",
            "Epoch 7/30\n",
            "34/34 [==============================] - ETA: 0s - loss: 0.7056 - categorical_accuracy: 0.7421\n",
            "Epoch 00007: saving model to model_init_2022-05-1814_33_06.241854/model-00007-0.70558-0.74208-8.28520-0.19000.h5\n",
            "34/34 [==============================] - 223s 7s/step - loss: 0.7056 - categorical_accuracy: 0.7421 - val_loss: 8.2852 - val_categorical_accuracy: 0.1900 - lr: 4.0000e-05\n",
            "Epoch 8/30\n",
            "34/34 [==============================] - ETA: 0s - loss: 0.7248 - categorical_accuracy: 0.7489\n",
            "Epoch 00008: saving model to model_init_2022-05-1814_33_06.241854/model-00008-0.72478-0.74887-7.74477-0.21000.h5\n",
            "34/34 [==============================] - 221s 7s/step - loss: 0.7248 - categorical_accuracy: 0.7489 - val_loss: 7.7448 - val_categorical_accuracy: 0.2100 - lr: 4.0000e-05\n",
            "Epoch 9/30\n",
            "34/34 [==============================] - ETA: 0s - loss: 0.5839 - categorical_accuracy: 0.7851\n",
            "Epoch 00009: saving model to model_init_2022-05-1814_33_06.241854/model-00009-0.58394-0.78507-7.81117-0.19000.h5\n",
            "\n",
            "Epoch 00009: ReduceLROnPlateau reducing learning rate to 7.999999797903002e-06.\n",
            "34/34 [==============================] - 221s 7s/step - loss: 0.5839 - categorical_accuracy: 0.7851 - val_loss: 7.8112 - val_categorical_accuracy: 0.1900 - lr: 4.0000e-05\n",
            "Epoch 10/30\n",
            "34/34 [==============================] - ETA: 0s - loss: 0.6402 - categorical_accuracy: 0.7768\n",
            "Epoch 00010: saving model to model_init_2022-05-1814_33_06.241854/model-00010-0.64021-0.77677-7.02067-0.21000.h5\n",
            "34/34 [==============================] - 221s 7s/step - loss: 0.6402 - categorical_accuracy: 0.7768 - val_loss: 7.0207 - val_categorical_accuracy: 0.2100 - lr: 8.0000e-06\n",
            "Epoch 11/30\n",
            "34/34 [==============================] - ETA: 0s - loss: 0.5680 - categorical_accuracy: 0.7805\n",
            "Epoch 00011: saving model to model_init_2022-05-1814_33_06.241854/model-00011-0.56801-0.78054-6.15790-0.22000.h5\n",
            "34/34 [==============================] - 221s 7s/step - loss: 0.5680 - categorical_accuracy: 0.7805 - val_loss: 6.1579 - val_categorical_accuracy: 0.2200 - lr: 8.0000e-06\n",
            "Epoch 12/30\n",
            "34/34 [==============================] - ETA: 0s - loss: 0.6077 - categorical_accuracy: 0.7640\n",
            "Epoch 00012: saving model to model_init_2022-05-1814_33_06.241854/model-00012-0.60775-0.76395-5.19531-0.24000.h5\n",
            "34/34 [==============================] - 221s 7s/step - loss: 0.6077 - categorical_accuracy: 0.7640 - val_loss: 5.1953 - val_categorical_accuracy: 0.2400 - lr: 8.0000e-06\n",
            "Epoch 13/30\n",
            "34/34 [==============================] - ETA: 0s - loss: 0.5692 - categorical_accuracy: 0.7873\n",
            "Epoch 00013: saving model to model_init_2022-05-1814_33_06.241854/model-00013-0.56920-0.78733-4.52209-0.29000.h5\n",
            "\n",
            "Epoch 00013: ReduceLROnPlateau reducing learning rate to 1.5999999959603884e-06.\n",
            "34/34 [==============================] - 222s 7s/step - loss: 0.5692 - categorical_accuracy: 0.7873 - val_loss: 4.5221 - val_categorical_accuracy: 0.2900 - lr: 8.0000e-06\n",
            "Epoch 14/30\n",
            "34/34 [==============================] - ETA: 0s - loss: 0.5650 - categorical_accuracy: 0.7956\n",
            "Epoch 00014: saving model to model_init_2022-05-1814_33_06.241854/model-00014-0.56501-0.79563-3.35109-0.34000.h5\n",
            "34/34 [==============================] - 223s 7s/step - loss: 0.5650 - categorical_accuracy: 0.7956 - val_loss: 3.3511 - val_categorical_accuracy: 0.3400 - lr: 1.6000e-06\n",
            "Epoch 15/30\n",
            "34/34 [==============================] - ETA: 0s - loss: 0.5881 - categorical_accuracy: 0.7956\n",
            "Epoch 00015: saving model to model_init_2022-05-1814_33_06.241854/model-00015-0.58812-0.79563-2.50544-0.35000.h5\n",
            "34/34 [==============================] - 224s 7s/step - loss: 0.5881 - categorical_accuracy: 0.7956 - val_loss: 2.5054 - val_categorical_accuracy: 0.3500 - lr: 1.6000e-06\n",
            "Epoch 16/30\n",
            "34/34 [==============================] - ETA: 0s - loss: 0.5350 - categorical_accuracy: 0.8009\n",
            "Epoch 00016: saving model to model_init_2022-05-1814_33_06.241854/model-00016-0.53505-0.80090-1.85752-0.44000.h5\n",
            "34/34 [==============================] - 223s 7s/step - loss: 0.5350 - categorical_accuracy: 0.8009 - val_loss: 1.8575 - val_categorical_accuracy: 0.4400 - lr: 1.6000e-06\n",
            "Epoch 17/30\n",
            "34/34 [==============================] - ETA: 0s - loss: 0.5889 - categorical_accuracy: 0.7926\n",
            "Epoch 00017: saving model to model_init_2022-05-1814_33_06.241854/model-00017-0.58886-0.79261-1.32049-0.59000.h5\n",
            "34/34 [==============================] - 221s 7s/step - loss: 0.5889 - categorical_accuracy: 0.7926 - val_loss: 1.3205 - val_categorical_accuracy: 0.5900 - lr: 1.6000e-06\n",
            "Epoch 18/30\n",
            "34/34 [==============================] - ETA: 0s - loss: 0.5403 - categorical_accuracy: 0.8002\n",
            "Epoch 00018: saving model to model_init_2022-05-1814_33_06.241854/model-00018-0.54029-0.80015-1.34196-0.58000.h5\n",
            "34/34 [==============================] - 224s 7s/step - loss: 0.5403 - categorical_accuracy: 0.8002 - val_loss: 1.3420 - val_categorical_accuracy: 0.5800 - lr: 1.6000e-06\n",
            "Epoch 19/30\n",
            "34/34 [==============================] - ETA: 0s - loss: 0.5500 - categorical_accuracy: 0.8047\n",
            "Epoch 00019: saving model to model_init_2022-05-1814_33_06.241854/model-00019-0.54995-0.80468-0.73676-0.80000.h5\n",
            "34/34 [==============================] - 225s 7s/step - loss: 0.5500 - categorical_accuracy: 0.8047 - val_loss: 0.7368 - val_categorical_accuracy: 0.8000 - lr: 1.6000e-06\n",
            "Epoch 20/30\n",
            "34/34 [==============================] - ETA: 0s - loss: 0.5715 - categorical_accuracy: 0.7753\n",
            "Epoch 00020: saving model to model_init_2022-05-1814_33_06.241854/model-00020-0.57155-0.77526-0.64718-0.78000.h5\n",
            "34/34 [==============================] - 227s 7s/step - loss: 0.5715 - categorical_accuracy: 0.7753 - val_loss: 0.6472 - val_categorical_accuracy: 0.7800 - lr: 1.6000e-06\n",
            "Epoch 21/30\n",
            "34/34 [==============================] - ETA: 0s - loss: 0.5572 - categorical_accuracy: 0.7986\n",
            "Epoch 00021: saving model to model_init_2022-05-1814_33_06.241854/model-00021-0.55725-0.79864-0.64239-0.79000.h5\n",
            "34/34 [==============================] - 223s 7s/step - loss: 0.5572 - categorical_accuracy: 0.7986 - val_loss: 0.6424 - val_categorical_accuracy: 0.7900 - lr: 1.6000e-06\n",
            "Epoch 22/30\n",
            "34/34 [==============================] - ETA: 0s - loss: 0.5295 - categorical_accuracy: 0.7964\n",
            "Epoch 00022: saving model to model_init_2022-05-1814_33_06.241854/model-00022-0.52947-0.79638-0.69830-0.79000.h5\n",
            "34/34 [==============================] - 224s 7s/step - loss: 0.5295 - categorical_accuracy: 0.7964 - val_loss: 0.6983 - val_categorical_accuracy: 0.7900 - lr: 1.6000e-06\n",
            "Epoch 23/30\n",
            "34/34 [==============================] - ETA: 0s - loss: 0.5523 - categorical_accuracy: 0.7903\n",
            "Epoch 00023: saving model to model_init_2022-05-1814_33_06.241854/model-00023-0.55227-0.79035-0.59884-0.80000.h5\n",
            "34/34 [==============================] - 222s 7s/step - loss: 0.5523 - categorical_accuracy: 0.7903 - val_loss: 0.5988 - val_categorical_accuracy: 0.8000 - lr: 1.6000e-06\n",
            "Epoch 24/30\n",
            "34/34 [==============================] - ETA: 0s - loss: 0.4950 - categorical_accuracy: 0.8130\n",
            "Epoch 00024: saving model to model_init_2022-05-1814_33_06.241854/model-00024-0.49498-0.81297-0.45427-0.84000.h5\n",
            "34/34 [==============================] - 224s 7s/step - loss: 0.4950 - categorical_accuracy: 0.8130 - val_loss: 0.4543 - val_categorical_accuracy: 0.8400 - lr: 1.6000e-06\n",
            "Epoch 25/30\n",
            "34/34 [==============================] - ETA: 0s - loss: 0.5365 - categorical_accuracy: 0.7964\n",
            "Epoch 00025: saving model to model_init_2022-05-1814_33_06.241854/model-00025-0.53645-0.79638-0.46784-0.83000.h5\n",
            "34/34 [==============================] - 226s 7s/step - loss: 0.5365 - categorical_accuracy: 0.7964 - val_loss: 0.4678 - val_categorical_accuracy: 0.8300 - lr: 1.6000e-06\n",
            "Epoch 26/30\n",
            "34/34 [==============================] - ETA: 0s - loss: 0.4973 - categorical_accuracy: 0.8115\n",
            "Epoch 00026: saving model to model_init_2022-05-1814_33_06.241854/model-00026-0.49732-0.81146-0.53549-0.82000.h5\n",
            "34/34 [==============================] - 228s 7s/step - loss: 0.4973 - categorical_accuracy: 0.8115 - val_loss: 0.5355 - val_categorical_accuracy: 0.8200 - lr: 1.6000e-06\n",
            "Epoch 27/30\n",
            "34/34 [==============================] - ETA: 0s - loss: 0.5447 - categorical_accuracy: 0.7956\n",
            "Epoch 00027: saving model to model_init_2022-05-1814_33_06.241854/model-00027-0.54475-0.79563-0.49886-0.84000.h5\n",
            "34/34 [==============================] - 225s 7s/step - loss: 0.5447 - categorical_accuracy: 0.7956 - val_loss: 0.4989 - val_categorical_accuracy: 0.8400 - lr: 1.6000e-06\n",
            "Epoch 28/30\n",
            "34/34 [==============================] - ETA: 0s - loss: 0.5637 - categorical_accuracy: 0.7949\n",
            "Epoch 00028: saving model to model_init_2022-05-1814_33_06.241854/model-00028-0.56374-0.79487-0.59747-0.79000.h5\n",
            "\n",
            "Epoch 00028: ReduceLROnPlateau reducing learning rate to 3.200000037395512e-07.\n",
            "34/34 [==============================] - 229s 7s/step - loss: 0.5637 - categorical_accuracy: 0.7949 - val_loss: 0.5975 - val_categorical_accuracy: 0.7900 - lr: 1.6000e-06\n",
            "Epoch 29/30\n",
            "34/34 [==============================] - ETA: 0s - loss: 0.5529 - categorical_accuracy: 0.7994\n",
            "Epoch 00029: saving model to model_init_2022-05-1814_33_06.241854/model-00029-0.55290-0.79940-0.60024-0.80000.h5\n",
            "34/34 [==============================] - 226s 7s/step - loss: 0.5529 - categorical_accuracy: 0.7994 - val_loss: 0.6002 - val_categorical_accuracy: 0.8000 - lr: 3.2000e-07\n",
            "Epoch 30/30\n",
            "34/34 [==============================] - ETA: 0s - loss: 0.5377 - categorical_accuracy: 0.8092\n",
            "Epoch 00030: saving model to model_init_2022-05-1814_33_06.241854/model-00030-0.53770-0.80920-0.53168-0.83000.h5\n",
            "34/34 [==============================] - 227s 7s/step - loss: 0.5377 - categorical_accuracy: 0.8092 - val_loss: 0.5317 - val_categorical_accuracy: 0.8300 - lr: 3.2000e-07\n"
          ]
        }
      ],
      "source": [
        "print(\"Total Params:\", conv_3d8_model.count_params())\n",
        "# training the model\n",
        "history_model8=conv_3d8.train_model(conv_3d8_model,augment_data=True)"
      ]
    },
    {
      "cell_type": "code",
      "execution_count": null,
      "metadata": {
        "scrolled": true,
        "id": "EzfDzfPDNyol",
        "outputId": "40140516-d3aa-4ea5-8854-1d1e249df2cf"
      },
      "outputs": [
        {
          "data": {
            "image/png": "[encoded data removed]",
            "text/plain": [
              "<Figure size 1080x288 with 2 Axes>"
            ]
          },
          "metadata": {
            "needs_background": "light"
          },
          "output_type": "display_data"
        }
      ],
      "source": [
        "plot(history_model8)"
      ]
    },
    {
      "cell_type": "markdown",
      "metadata": {
        "id": "0bzJiS8cNyom"
      },
      "source": [
        "Rotation Data Augmentation with (3,3,3) Filter & 160x160 Image resolution has Val Accuracy is 80%. Comparitively less than Model 7 Accuracy of 91%."
      ]
    },
    {
      "cell_type": "markdown",
      "metadata": {
        "id": "mrdsXN5UNyom"
      },
      "source": [
        "### Model 9 - Transfer Learning with GRU and training all weights"
      ]
    },
    {
      "cell_type": "code",
      "execution_count": null,
      "metadata": {
        "id": "xwXOW9e4Nyom",
        "outputId": "26fea321-2021-490c-ef49-592aec88ed57"
      },
      "outputs": [
        {
          "name": "stdout",
          "output_type": "stream",
          "text": [
            "WARNING:tensorflow:`input_shape` is undefined or non-square, or `rows` is not in [128, 160, 192, 224]. Weights for input shape (224, 224) will be loaded as the default.\n",
            "Downloading data from https://storage.googleapis.com/tensorflow/keras-applications/mobilenet/mobilenet_1_0_224_tf_no_top.h5\n",
            "17227776/17225924 [==============================] - 1s 0us/step\n",
            "17235968/17225924 [==============================] - 1s 0us/step\n"
          ]
        }
      ],
      "source": [
        "# importing the required libraries for transfer learning\n",
        "from keras.applications import mobilenet\n",
        "# taking mobilenet model\n",
        "mobilenet_transfer = mobilenet.MobileNet(weights='imagenet', include_top=False)\n",
        "\n",
        "class RNNCNN_TL2(ModelBuilderMoreAugmentation):\n",
        "    \n",
        "    def define_model(self,gru_cells=64,dense_neurons=64,dropout=0.25):\n",
        "        \n",
        "        model = Sequential()\n",
        "        model.add(TimeDistributed(mobilenet_transfer,input_shape=(self.frames_to_sample,self.image_height,self.image_width,self.channels)))\n",
        " \n",
        "        \n",
        "        model.add(TimeDistributed(BatchNormalization()))\n",
        "        model.add(TimeDistributed(MaxPooling2D((2, 2))))\n",
        "        model.add(TimeDistributed(Flatten()))\n",
        "\n",
        "        model.add(GRU(gru_cells))\n",
        "        model.add(Dropout(dropout))\n",
        "        \n",
        "        model.add(Dense(dense_neurons,activation='relu'))\n",
        "        model.add(Dropout(dropout))\n",
        "        \n",
        "        model.add(Dense(self.num_classes, activation='softmax'))\n",
        "        \n",
        "        \n",
        "        optimiser = optimizers.Adam()\n",
        "        model.compile(optimizer=optimiser, loss='categorical_crossentropy', metrics=['categorical_accuracy'])\n",
        "        return model"
      ]
    },
    {
      "cell_type": "code",
      "execution_count": null,
      "metadata": {
        "id": "oLE8BMmRNyom",
        "outputId": "d3df7a69-87b4-4f24-f86b-4b1b6fe1ed07"
      },
      "outputs": [
        {
          "name": "stdout",
          "output_type": "stream",
          "text": [
            "Model: \"sequential_14\"\n",
            "_________________________________________________________________\n",
            " Layer (type)                Output Shape              Param #   \n",
            "=================================================================\n",
            " time_distributed_16 (TimeDi  (None, 16, 3, 3, 1024)   3228864   \n",
            " stributed)                                                      \n",
            "                                                                 \n",
            " time_distributed_17 (TimeDi  (None, 16, 3, 3, 1024)   4096      \n",
            " stributed)                                                      \n",
            "                                                                 \n",
            " time_distributed_18 (TimeDi  (None, 16, 1, 1, 1024)   0         \n",
            " stributed)                                                      \n",
            "                                                                 \n",
            " time_distributed_19 (TimeDi  (None, 16, 1024)         0         \n",
            " stributed)                                                      \n",
            "                                                                 \n",
            " gru (GRU)                   (None, 128)               443136    \n",
            "                                                                 \n",
            " dropout_36 (Dropout)        (None, 128)               0         \n",
            "                                                                 \n",
            " dense_41 (Dense)            (None, 128)               16512     \n",
            "                                                                 \n",
            " dropout_37 (Dropout)        (None, 128)               0         \n",
            "                                                                 \n",
            " dense_42 (Dense)            (None, 5)                 645       \n",
            "                                                                 \n",
            "=================================================================\n",
            "Total params: 3,693,253\n",
            "Trainable params: 3,669,317\n",
            "Non-trainable params: 23,936\n",
            "_________________________________________________________________\n"
          ]
        }
      ],
      "source": [
        "# getting mobilenet model\n",
        "rnn_cnn_tl2=RNNCNN_TL2()\n",
        "# initializing the paths\n",
        "rnn_cnn_tl2.initialize_path(project_folder)\n",
        "# initializing the image properties\n",
        "rnn_cnn_tl2.initialize_image_properties(image_height=120,image_width=120)\n",
        "# initializing the hyper paramters\n",
        "rnn_cnn_tl2.initialize_hyperparams(frames_to_sample=16,batch_size=5,num_epochs=20)\n",
        "# defining the model\n",
        "rnn_cnn_tl2_model=rnn_cnn_tl2.define_model(gru_cells=128,dense_neurons=128,dropout=0.25)\n",
        "# printing model summary\n",
        "rnn_cnn_tl2_model.summary()"
      ]
    },
    {
      "cell_type": "code",
      "execution_count": null,
      "metadata": {
        "id": "UCHHDu7eNyon",
        "outputId": "5612db15-14d0-410d-d3ab-72b4b97b3320"
      },
      "outputs": [
        {
          "name": "stdout",
          "output_type": "stream",
          "text": [
            "Total Params: 3693253\n",
            "WARNING:tensorflow:`period` argument is deprecated. Please use `save_freq` to specify the frequency in number of batches seen.\n",
            "Epoch 1/20\n",
            "133/133 [==============================] - ETA: 0s - loss: 1.0863 - categorical_accuracy: 0.5641\n",
            "Epoch 00001: saving model to model_init_2022-05-1816_48_56.019371/model-00001-1.08634-0.56410-0.41105-0.86000.h5\n",
            "133/133 [==============================] - 165s 1s/step - loss: 1.0863 - categorical_accuracy: 0.5641 - val_loss: 0.4111 - val_categorical_accuracy: 0.8600 - lr: 0.0010\n",
            "Epoch 2/20\n",
            "133/133 [==============================] - ETA: 0s - loss: 0.6430 - categorical_accuracy: 0.7783\n",
            "Epoch 00002: saving model to model_init_2022-05-1816_48_56.019371/model-00002-0.64296-0.77828-0.46106-0.83000.h5\n",
            "133/133 [==============================] - 156s 1s/step - loss: 0.6430 - categorical_accuracy: 0.7783 - val_loss: 0.4611 - val_categorical_accuracy: 0.8300 - lr: 0.0010\n",
            "Epoch 3/20\n",
            "133/133 [==============================] - ETA: 0s - loss: 0.4731 - categorical_accuracy: 0.8454\n",
            "Epoch 00003: saving model to model_init_2022-05-1816_48_56.019371/model-00003-0.47309-0.84540-0.30353-0.89000.h5\n",
            "133/133 [==============================] - 156s 1s/step - loss: 0.4731 - categorical_accuracy: 0.8454 - val_loss: 0.3035 - val_categorical_accuracy: 0.8900 - lr: 0.0010\n",
            "Epoch 4/20\n",
            "133/133 [==============================] - ETA: 0s - loss: 0.2831 - categorical_accuracy: 0.8997\n",
            "Epoch 00004: saving model to model_init_2022-05-1816_48_56.019371/model-00004-0.28311-0.89970-0.12111-0.96000.h5\n",
            "133/133 [==============================] - 157s 1s/step - loss: 0.2831 - categorical_accuracy: 0.8997 - val_loss: 0.1211 - val_categorical_accuracy: 0.9600 - lr: 0.0010\n",
            "Epoch 5/20\n",
            "133/133 [==============================] - ETA: 0s - loss: 0.1803 - categorical_accuracy: 0.9427\n",
            "Epoch 00005: saving model to model_init_2022-05-1816_48_56.019371/model-00005-0.18029-0.94268-0.19435-0.93000.h5\n",
            "133/133 [==============================] - 156s 1s/step - loss: 0.1803 - categorical_accuracy: 0.9427 - val_loss: 0.1943 - val_categorical_accuracy: 0.9300 - lr: 0.0010\n",
            "Epoch 6/20\n",
            "133/133 [==============================] - ETA: 0s - loss: 0.1850 - categorical_accuracy: 0.9329\n",
            "Epoch 00006: saving model to model_init_2022-05-1816_48_56.019371/model-00006-0.18502-0.93288-0.30412-0.89000.h5\n",
            "133/133 [==============================] - 157s 1s/step - loss: 0.1850 - categorical_accuracy: 0.9329 - val_loss: 0.3041 - val_categorical_accuracy: 0.8900 - lr: 0.0010\n",
            "Epoch 7/20\n",
            "133/133 [==============================] - ETA: 0s - loss: 0.2907 - categorical_accuracy: 0.9223\n",
            "Epoch 00007: saving model to model_init_2022-05-1816_48_56.019371/model-00007-0.29068-0.92232-0.10679-0.98000.h5\n",
            "133/133 [==============================] - 156s 1s/step - loss: 0.2907 - categorical_accuracy: 0.9223 - val_loss: 0.1068 - val_categorical_accuracy: 0.9800 - lr: 0.0010\n",
            "Epoch 8/20\n",
            "133/133 [==============================] - ETA: 0s - loss: 0.1754 - categorical_accuracy: 0.9517\n",
            "Epoch 00008: saving model to model_init_2022-05-1816_48_56.019371/model-00008-0.17536-0.95173-0.34347-0.90000.h5\n",
            "133/133 [==============================] - 157s 1s/step - loss: 0.1754 - categorical_accuracy: 0.9517 - val_loss: 0.3435 - val_categorical_accuracy: 0.9000 - lr: 0.0010\n",
            "Epoch 9/20\n",
            "133/133 [==============================] - ETA: 0s - loss: 0.2477 - categorical_accuracy: 0.9216\n",
            "Epoch 00009: saving model to model_init_2022-05-1816_48_56.019371/model-00009-0.24769-0.92157-0.14568-0.93000.h5\n",
            "133/133 [==============================] - 156s 1s/step - loss: 0.2477 - categorical_accuracy: 0.9216 - val_loss: 0.1457 - val_categorical_accuracy: 0.9300 - lr: 0.0010\n",
            "Epoch 10/20\n",
            "133/133 [==============================] - ETA: 0s - loss: 0.2822 - categorical_accuracy: 0.9178\n",
            "Epoch 00010: saving model to model_init_2022-05-1816_48_56.019371/model-00010-0.28220-0.91780-0.30645-0.88000.h5\n",
            "133/133 [==============================] - 156s 1s/step - loss: 0.2822 - categorical_accuracy: 0.9178 - val_loss: 0.3064 - val_categorical_accuracy: 0.8800 - lr: 0.0010\n",
            "Epoch 11/20\n",
            "133/133 [==============================] - ETA: 0s - loss: 0.1988 - categorical_accuracy: 0.9306\n",
            "Epoch 00011: saving model to model_init_2022-05-1816_48_56.019371/model-00011-0.19884-0.93062-0.15741-0.92000.h5\n",
            "\n",
            "Epoch 00011: ReduceLROnPlateau reducing learning rate to 0.00020000000949949026.\n",
            "133/133 [==============================] - 157s 1s/step - loss: 0.1988 - categorical_accuracy: 0.9306 - val_loss: 0.1574 - val_categorical_accuracy: 0.9200 - lr: 0.0010\n",
            "Epoch 12/20\n",
            "133/133 [==============================] - ETA: 0s - loss: 0.1222 - categorical_accuracy: 0.9593\n",
            "Epoch 00012: saving model to model_init_2022-05-1816_48_56.019371/model-00012-0.12223-0.95928-0.09795-0.97000.h5\n",
            "133/133 [==============================] - 156s 1s/step - loss: 0.1222 - categorical_accuracy: 0.9593 - val_loss: 0.0980 - val_categorical_accuracy: 0.9700 - lr: 2.0000e-04\n",
            "Epoch 13/20\n",
            "133/133 [==============================] - ETA: 0s - loss: 0.0648 - categorical_accuracy: 0.9789\n",
            "Epoch 00013: saving model to model_init_2022-05-1816_48_56.019371/model-00013-0.06481-0.97888-0.06646-0.97000.h5\n",
            "133/133 [==============================] - 155s 1s/step - loss: 0.0648 - categorical_accuracy: 0.9789 - val_loss: 0.0665 - val_categorical_accuracy: 0.9700 - lr: 2.0000e-04\n",
            "Epoch 14/20\n",
            "133/133 [==============================] - ETA: 0s - loss: 0.0502 - categorical_accuracy: 0.9857\n",
            "Epoch 00014: saving model to model_init_2022-05-1816_48_56.019371/model-00014-0.05015-0.98567-0.07258-0.97000.h5\n",
            "133/133 [==============================] - 157s 1s/step - loss: 0.0502 - categorical_accuracy: 0.9857 - val_loss: 0.0726 - val_categorical_accuracy: 0.9700 - lr: 2.0000e-04\n",
            "Epoch 15/20\n",
            "133/133 [==============================] - ETA: 0s - loss: 0.0449 - categorical_accuracy: 0.9864\n",
            "Epoch 00015: saving model to model_init_2022-05-1816_48_56.019371/model-00015-0.04485-0.98643-0.08730-0.97000.h5\n",
            "133/133 [==============================] - 156s 1s/step - loss: 0.0449 - categorical_accuracy: 0.9864 - val_loss: 0.0873 - val_categorical_accuracy: 0.9700 - lr: 2.0000e-04\n",
            "Epoch 16/20\n",
            "133/133 [==============================] - ETA: 0s - loss: 0.0361 - categorical_accuracy: 0.9864\n",
            "Epoch 00016: saving model to model_init_2022-05-1816_48_56.019371/model-00016-0.03606-0.98643-0.04731-0.98000.h5\n",
            "133/133 [==============================] - 157s 1s/step - loss: 0.0361 - categorical_accuracy: 0.9864 - val_loss: 0.0473 - val_categorical_accuracy: 0.9800 - lr: 2.0000e-04\n",
            "Epoch 17/20\n",
            "133/133 [==============================] - ETA: 0s - loss: 0.0340 - categorical_accuracy: 0.9879\n",
            "Epoch 00017: saving model to model_init_2022-05-1816_48_56.019371/model-00017-0.03396-0.98793-0.09094-0.96000.h5\n",
            "133/133 [==============================] - 156s 1s/step - loss: 0.0340 - categorical_accuracy: 0.9879 - val_loss: 0.0909 - val_categorical_accuracy: 0.9600 - lr: 2.0000e-04\n",
            "Epoch 18/20\n",
            "133/133 [==============================] - ETA: 0s - loss: 0.0295 - categorical_accuracy: 0.9925\n",
            "Epoch 00018: saving model to model_init_2022-05-1816_48_56.019371/model-00018-0.02953-0.99246-0.03983-0.98000.h5\n",
            "133/133 [==============================] - 155s 1s/step - loss: 0.0295 - categorical_accuracy: 0.9925 - val_loss: 0.0398 - val_categorical_accuracy: 0.9800 - lr: 2.0000e-04\n",
            "Epoch 19/20\n",
            "133/133 [==============================] - ETA: 0s - loss: 0.0239 - categorical_accuracy: 0.9940\n",
            "Epoch 00019: saving model to model_init_2022-05-1816_48_56.019371/model-00019-0.02393-0.99397-0.07689-0.96000.h5\n",
            "133/133 [==============================] - 156s 1s/step - loss: 0.0239 - categorical_accuracy: 0.9940 - val_loss: 0.0769 - val_categorical_accuracy: 0.9600 - lr: 2.0000e-04\n",
            "Epoch 20/20\n",
            "133/133 [==============================] - ETA: 0s - loss: 0.0244 - categorical_accuracy: 0.9940\n",
            "Epoch 00020: saving model to model_init_2022-05-1816_48_56.019371/model-00020-0.02438-0.99397-0.11761-0.95000.h5\n",
            "133/133 [==============================] - 155s 1s/step - loss: 0.0244 - categorical_accuracy: 0.9940 - val_loss: 0.1176 - val_categorical_accuracy: 0.9500 - lr: 2.0000e-04\n"
          ]
        }
      ],
      "source": [
        "print(\"Total Params:\", rnn_cnn_tl2_model.count_params())\n",
        "# training the model\n",
        "history_model12=rnn_cnn_tl2.train_model(rnn_cnn_tl2_model,augment_data=True)"
      ]
    },
    {
      "cell_type": "code",
      "execution_count": null,
      "metadata": {
        "id": "BzoushBxNyon",
        "outputId": "5bef550f-21b2-418b-fd4a-5de8d63cae55"
      },
      "outputs": [
        {
          "data": {
            "image/png": "[encoded data removed]",
            "text/plain": [
              "<Figure size 1080x288 with 2 Axes>"
            ]
          },
          "metadata": {
            "needs_background": "light"
          },
          "output_type": "display_data"
        }
      ],
      "source": [
        "# plotting the model training\n",
        "plot(history_model12)"
      ]
    },
    {
      "cell_type": "markdown",
      "metadata": {
        "id": "FzTSA0-3Nyon"
      },
      "source": [
        "`Transfer Learning` - has got very good result for the model.\n",
        "- From the above graph\n",
        "    - We observe less overfitting.\n",
        "    - The model built also is in unison with Training and Validation data.\n",
        "    - Training Accuracy is 99% and Validation Accuracy is 95%."
      ]
    },
    {
      "cell_type": "code",
      "execution_count": null,
      "metadata": {
        "id": "YUFNsjxuNyon"
      },
      "outputs": [],
      "source": []
    }
  ],
  "metadata": {
    "kernelspec": {
      "display_name": "Python 3 (ipykernel)",
      "language": "python",
      "name": "python3"
    },
    "language_info": {
      "codemirror_mode": {
        "name": "ipython",
        "version": 3
      },
      "file_extension": ".py",
      "mimetype": "text/x-python",
      "name": "python",
      "nbconvert_exporter": "python",
      "pygments_lexer": "ipython3",
      "version": "3.8.10"
    },
    "colab": {
      "provenance": [],
      "include_colab_link": true
    }
  },
  "nbformat": 4,
  "nbformat_minor": 0
}